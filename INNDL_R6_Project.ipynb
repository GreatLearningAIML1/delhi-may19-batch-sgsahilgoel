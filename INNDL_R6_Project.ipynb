{
 "cells": [
  {
   "cell_type": "code",
   "execution_count": 1,
   "metadata": {},
   "outputs": [],
   "source": [
    "import tensorflow as tf\n",
    "import pandas as pd\n",
    "import numpy as np"
   ]
  },
  {
   "cell_type": "markdown",
   "metadata": {},
   "source": [
    "# Read the dataset"
   ]
  },
  {
   "cell_type": "code",
   "execution_count": 45,
   "metadata": {},
   "outputs": [],
   "source": [
    "data = pd.read_csv(\"churn.csv\")"
   ]
  },
  {
   "cell_type": "code",
   "execution_count": 46,
   "metadata": {},
   "outputs": [
    {
     "data": {
      "text/plain": [
       "(10000, 14)"
      ]
     },
     "execution_count": 46,
     "metadata": {},
     "output_type": "execute_result"
    }
   ],
   "source": [
    "data.shape"
   ]
  },
  {
   "cell_type": "code",
   "execution_count": 47,
   "metadata": {},
   "outputs": [
    {
     "data": {
      "text/html": [
       "<div>\n",
       "<style scoped>\n",
       "    .dataframe tbody tr th:only-of-type {\n",
       "        vertical-align: middle;\n",
       "    }\n",
       "\n",
       "    .dataframe tbody tr th {\n",
       "        vertical-align: top;\n",
       "    }\n",
       "\n",
       "    .dataframe thead th {\n",
       "        text-align: right;\n",
       "    }\n",
       "</style>\n",
       "<table border=\"1\" class=\"dataframe\">\n",
       "  <thead>\n",
       "    <tr style=\"text-align: right;\">\n",
       "      <th></th>\n",
       "      <th>RowNumber</th>\n",
       "      <th>CustomerId</th>\n",
       "      <th>Surname</th>\n",
       "      <th>CreditScore</th>\n",
       "      <th>Geography</th>\n",
       "      <th>Gender</th>\n",
       "      <th>Age</th>\n",
       "      <th>Tenure</th>\n",
       "      <th>Balance</th>\n",
       "      <th>NumOfProducts</th>\n",
       "      <th>HasCrCard</th>\n",
       "      <th>IsActiveMember</th>\n",
       "      <th>EstimatedSalary</th>\n",
       "      <th>Exited</th>\n",
       "    </tr>\n",
       "  </thead>\n",
       "  <tbody>\n",
       "    <tr>\n",
       "      <td>0</td>\n",
       "      <td>1</td>\n",
       "      <td>15634602</td>\n",
       "      <td>Hargrave</td>\n",
       "      <td>619</td>\n",
       "      <td>France</td>\n",
       "      <td>Female</td>\n",
       "      <td>42</td>\n",
       "      <td>2</td>\n",
       "      <td>0.00</td>\n",
       "      <td>1</td>\n",
       "      <td>1</td>\n",
       "      <td>1</td>\n",
       "      <td>101348.88</td>\n",
       "      <td>1</td>\n",
       "    </tr>\n",
       "    <tr>\n",
       "      <td>1</td>\n",
       "      <td>2</td>\n",
       "      <td>15647311</td>\n",
       "      <td>Hill</td>\n",
       "      <td>608</td>\n",
       "      <td>Spain</td>\n",
       "      <td>Female</td>\n",
       "      <td>41</td>\n",
       "      <td>1</td>\n",
       "      <td>83807.86</td>\n",
       "      <td>1</td>\n",
       "      <td>0</td>\n",
       "      <td>1</td>\n",
       "      <td>112542.58</td>\n",
       "      <td>0</td>\n",
       "    </tr>\n",
       "    <tr>\n",
       "      <td>2</td>\n",
       "      <td>3</td>\n",
       "      <td>15619304</td>\n",
       "      <td>Onio</td>\n",
       "      <td>502</td>\n",
       "      <td>France</td>\n",
       "      <td>Female</td>\n",
       "      <td>42</td>\n",
       "      <td>8</td>\n",
       "      <td>159660.80</td>\n",
       "      <td>3</td>\n",
       "      <td>1</td>\n",
       "      <td>0</td>\n",
       "      <td>113931.57</td>\n",
       "      <td>1</td>\n",
       "    </tr>\n",
       "    <tr>\n",
       "      <td>3</td>\n",
       "      <td>4</td>\n",
       "      <td>15701354</td>\n",
       "      <td>Boni</td>\n",
       "      <td>699</td>\n",
       "      <td>France</td>\n",
       "      <td>Female</td>\n",
       "      <td>39</td>\n",
       "      <td>1</td>\n",
       "      <td>0.00</td>\n",
       "      <td>2</td>\n",
       "      <td>0</td>\n",
       "      <td>0</td>\n",
       "      <td>93826.63</td>\n",
       "      <td>0</td>\n",
       "    </tr>\n",
       "    <tr>\n",
       "      <td>4</td>\n",
       "      <td>5</td>\n",
       "      <td>15737888</td>\n",
       "      <td>Mitchell</td>\n",
       "      <td>850</td>\n",
       "      <td>Spain</td>\n",
       "      <td>Female</td>\n",
       "      <td>43</td>\n",
       "      <td>2</td>\n",
       "      <td>125510.82</td>\n",
       "      <td>1</td>\n",
       "      <td>1</td>\n",
       "      <td>1</td>\n",
       "      <td>79084.10</td>\n",
       "      <td>0</td>\n",
       "    </tr>\n",
       "  </tbody>\n",
       "</table>\n",
       "</div>"
      ],
      "text/plain": [
       "   RowNumber  CustomerId   Surname  CreditScore Geography  Gender  Age  \\\n",
       "0          1    15634602  Hargrave          619    France  Female   42   \n",
       "1          2    15647311      Hill          608     Spain  Female   41   \n",
       "2          3    15619304      Onio          502    France  Female   42   \n",
       "3          4    15701354      Boni          699    France  Female   39   \n",
       "4          5    15737888  Mitchell          850     Spain  Female   43   \n",
       "\n",
       "   Tenure    Balance  NumOfProducts  HasCrCard  IsActiveMember  \\\n",
       "0       2       0.00              1          1               1   \n",
       "1       1   83807.86              1          0               1   \n",
       "2       8  159660.80              3          1               0   \n",
       "3       1       0.00              2          0               0   \n",
       "4       2  125510.82              1          1               1   \n",
       "\n",
       "   EstimatedSalary  Exited  \n",
       "0        101348.88       1  \n",
       "1        112542.58       0  \n",
       "2        113931.57       1  \n",
       "3         93826.63       0  \n",
       "4         79084.10       0  "
      ]
     },
     "execution_count": 47,
     "metadata": {},
     "output_type": "execute_result"
    }
   ],
   "source": [
    "data.head()"
   ]
  },
  {
   "cell_type": "markdown",
   "metadata": {},
   "source": [
    "# Drop the columns which are unique for all users"
   ]
  },
  {
   "cell_type": "code",
   "execution_count": 48,
   "metadata": {},
   "outputs": [
    {
     "data": {
      "text/plain": [
       "Index(['RowNumber', 'CustomerId', 'Surname', 'CreditScore', 'Geography',\n",
       "       'Gender', 'Age', 'Tenure', 'Balance', 'NumOfProducts', 'HasCrCard',\n",
       "       'IsActiveMember', 'EstimatedSalary', 'Exited'],\n",
       "      dtype='object')"
      ]
     },
     "execution_count": 48,
     "metadata": {},
     "output_type": "execute_result"
    }
   ],
   "source": [
    "data.columns"
   ]
  },
  {
   "cell_type": "code",
   "execution_count": 49,
   "metadata": {},
   "outputs": [
    {
     "name": "stdout",
     "output_type": "stream",
     "text": [
      "<class 'pandas.core.frame.DataFrame'>\n",
      "RangeIndex: 10000 entries, 0 to 9999\n",
      "Data columns (total 14 columns):\n",
      "RowNumber          10000 non-null int64\n",
      "CustomerId         10000 non-null int64\n",
      "Surname            10000 non-null object\n",
      "CreditScore        10000 non-null int64\n",
      "Geography          10000 non-null object\n",
      "Gender             10000 non-null object\n",
      "Age                10000 non-null int64\n",
      "Tenure             10000 non-null int64\n",
      "Balance            10000 non-null float64\n",
      "NumOfProducts      10000 non-null int64\n",
      "HasCrCard          10000 non-null int64\n",
      "IsActiveMember     10000 non-null int64\n",
      "EstimatedSalary    10000 non-null float64\n",
      "Exited             10000 non-null int64\n",
      "dtypes: float64(2), int64(9), object(3)\n",
      "memory usage: 1.1+ MB\n"
     ]
    }
   ],
   "source": [
    "data.info()"
   ]
  },
  {
   "cell_type": "code",
   "execution_count": 50,
   "metadata": {},
   "outputs": [],
   "source": [
    "data = data.drop(columns=['RowNumber','CustomerId','Surname']) #Dropping cloumns which are not useful"
   ]
  },
  {
   "cell_type": "code",
   "execution_count": 51,
   "metadata": {},
   "outputs": [
    {
     "data": {
      "text/plain": [
       "(10000, 11)"
      ]
     },
     "execution_count": 51,
     "metadata": {},
     "output_type": "execute_result"
    }
   ],
   "source": [
    "data.shape"
   ]
  },
  {
   "cell_type": "code",
   "execution_count": 52,
   "metadata": {},
   "outputs": [
    {
     "data": {
      "text/plain": [
       "Index(['CreditScore', 'Geography', 'Gender', 'Age', 'Tenure', 'Balance',\n",
       "       'NumOfProducts', 'HasCrCard', 'IsActiveMember', 'EstimatedSalary',\n",
       "       'Exited'],\n",
       "      dtype='object')"
      ]
     },
     "execution_count": 52,
     "metadata": {},
     "output_type": "execute_result"
    }
   ],
   "source": [
    "data.columns"
   ]
  },
  {
   "cell_type": "markdown",
   "metadata": {},
   "source": [
    "# Distinguish the feature and target set"
   ]
  },
  {
   "cell_type": "code",
   "execution_count": 53,
   "metadata": {},
   "outputs": [],
   "source": [
    "Y = data['Exited']\n",
    "X = data.drop(columns=['Exited'])"
   ]
  },
  {
   "cell_type": "code",
   "execution_count": 54,
   "metadata": {},
   "outputs": [
    {
     "data": {
      "text/html": [
       "<div>\n",
       "<style scoped>\n",
       "    .dataframe tbody tr th:only-of-type {\n",
       "        vertical-align: middle;\n",
       "    }\n",
       "\n",
       "    .dataframe tbody tr th {\n",
       "        vertical-align: top;\n",
       "    }\n",
       "\n",
       "    .dataframe thead th {\n",
       "        text-align: right;\n",
       "    }\n",
       "</style>\n",
       "<table border=\"1\" class=\"dataframe\">\n",
       "  <thead>\n",
       "    <tr style=\"text-align: right;\">\n",
       "      <th></th>\n",
       "      <th>CreditScore</th>\n",
       "      <th>Geography</th>\n",
       "      <th>Gender</th>\n",
       "      <th>Age</th>\n",
       "      <th>Tenure</th>\n",
       "      <th>Balance</th>\n",
       "      <th>NumOfProducts</th>\n",
       "      <th>HasCrCard</th>\n",
       "      <th>IsActiveMember</th>\n",
       "      <th>EstimatedSalary</th>\n",
       "    </tr>\n",
       "  </thead>\n",
       "  <tbody>\n",
       "    <tr>\n",
       "      <td>0</td>\n",
       "      <td>619</td>\n",
       "      <td>France</td>\n",
       "      <td>Female</td>\n",
       "      <td>42</td>\n",
       "      <td>2</td>\n",
       "      <td>0.00</td>\n",
       "      <td>1</td>\n",
       "      <td>1</td>\n",
       "      <td>1</td>\n",
       "      <td>101348.88</td>\n",
       "    </tr>\n",
       "    <tr>\n",
       "      <td>1</td>\n",
       "      <td>608</td>\n",
       "      <td>Spain</td>\n",
       "      <td>Female</td>\n",
       "      <td>41</td>\n",
       "      <td>1</td>\n",
       "      <td>83807.86</td>\n",
       "      <td>1</td>\n",
       "      <td>0</td>\n",
       "      <td>1</td>\n",
       "      <td>112542.58</td>\n",
       "    </tr>\n",
       "    <tr>\n",
       "      <td>2</td>\n",
       "      <td>502</td>\n",
       "      <td>France</td>\n",
       "      <td>Female</td>\n",
       "      <td>42</td>\n",
       "      <td>8</td>\n",
       "      <td>159660.80</td>\n",
       "      <td>3</td>\n",
       "      <td>1</td>\n",
       "      <td>0</td>\n",
       "      <td>113931.57</td>\n",
       "    </tr>\n",
       "    <tr>\n",
       "      <td>3</td>\n",
       "      <td>699</td>\n",
       "      <td>France</td>\n",
       "      <td>Female</td>\n",
       "      <td>39</td>\n",
       "      <td>1</td>\n",
       "      <td>0.00</td>\n",
       "      <td>2</td>\n",
       "      <td>0</td>\n",
       "      <td>0</td>\n",
       "      <td>93826.63</td>\n",
       "    </tr>\n",
       "    <tr>\n",
       "      <td>4</td>\n",
       "      <td>850</td>\n",
       "      <td>Spain</td>\n",
       "      <td>Female</td>\n",
       "      <td>43</td>\n",
       "      <td>2</td>\n",
       "      <td>125510.82</td>\n",
       "      <td>1</td>\n",
       "      <td>1</td>\n",
       "      <td>1</td>\n",
       "      <td>79084.10</td>\n",
       "    </tr>\n",
       "  </tbody>\n",
       "</table>\n",
       "</div>"
      ],
      "text/plain": [
       "   CreditScore Geography  Gender  Age  Tenure    Balance  NumOfProducts  \\\n",
       "0          619    France  Female   42       2       0.00              1   \n",
       "1          608     Spain  Female   41       1   83807.86              1   \n",
       "2          502    France  Female   42       8  159660.80              3   \n",
       "3          699    France  Female   39       1       0.00              2   \n",
       "4          850     Spain  Female   43       2  125510.82              1   \n",
       "\n",
       "   HasCrCard  IsActiveMember  EstimatedSalary  \n",
       "0          1               1        101348.88  \n",
       "1          0               1        112542.58  \n",
       "2          1               0        113931.57  \n",
       "3          0               0         93826.63  \n",
       "4          1               1         79084.10  "
      ]
     },
     "execution_count": 54,
     "metadata": {},
     "output_type": "execute_result"
    }
   ],
   "source": [
    "X.head()"
   ]
  },
  {
   "cell_type": "code",
   "execution_count": 55,
   "metadata": {},
   "outputs": [
    {
     "data": {
      "text/plain": [
       "0    1\n",
       "1    0\n",
       "2    1\n",
       "3    0\n",
       "4    0\n",
       "Name: Exited, dtype: int64"
      ]
     },
     "execution_count": 55,
     "metadata": {},
     "output_type": "execute_result"
    }
   ],
   "source": [
    "Y.head()"
   ]
  },
  {
   "cell_type": "markdown",
   "metadata": {},
   "source": [
    "There are two categorical columns left after dropping unnecessary columns. We need to convert these 2 columns Gender and geography to numeric so that we can use these in our model.\n",
    "For this purpose we will use Get Dummies Method of dataframe."
   ]
  },
  {
   "cell_type": "code",
   "execution_count": 56,
   "metadata": {},
   "outputs": [
    {
     "data": {
      "text/html": [
       "<div>\n",
       "<style scoped>\n",
       "    .dataframe tbody tr th:only-of-type {\n",
       "        vertical-align: middle;\n",
       "    }\n",
       "\n",
       "    .dataframe tbody tr th {\n",
       "        vertical-align: top;\n",
       "    }\n",
       "\n",
       "    .dataframe thead th {\n",
       "        text-align: right;\n",
       "    }\n",
       "</style>\n",
       "<table border=\"1\" class=\"dataframe\">\n",
       "  <thead>\n",
       "    <tr style=\"text-align: right;\">\n",
       "      <th></th>\n",
       "      <th>Germany</th>\n",
       "      <th>Spain</th>\n",
       "    </tr>\n",
       "  </thead>\n",
       "  <tbody>\n",
       "    <tr>\n",
       "      <td>0</td>\n",
       "      <td>0</td>\n",
       "      <td>0</td>\n",
       "    </tr>\n",
       "    <tr>\n",
       "      <td>1</td>\n",
       "      <td>0</td>\n",
       "      <td>1</td>\n",
       "    </tr>\n",
       "    <tr>\n",
       "      <td>2</td>\n",
       "      <td>0</td>\n",
       "      <td>0</td>\n",
       "    </tr>\n",
       "    <tr>\n",
       "      <td>3</td>\n",
       "      <td>0</td>\n",
       "      <td>0</td>\n",
       "    </tr>\n",
       "    <tr>\n",
       "      <td>4</td>\n",
       "      <td>0</td>\n",
       "      <td>1</td>\n",
       "    </tr>\n",
       "  </tbody>\n",
       "</table>\n",
       "</div>"
      ],
      "text/plain": [
       "   Germany  Spain\n",
       "0        0      0\n",
       "1        0      1\n",
       "2        0      0\n",
       "3        0      0\n",
       "4        0      1"
      ]
     },
     "execution_count": 56,
     "metadata": {},
     "output_type": "execute_result"
    }
   ],
   "source": [
    "geography = pd.get_dummies(X['Geography'], drop_first=True)\n",
    "geography.head()"
   ]
  },
  {
   "cell_type": "code",
   "execution_count": 57,
   "metadata": {},
   "outputs": [
    {
     "data": {
      "text/html": [
       "<div>\n",
       "<style scoped>\n",
       "    .dataframe tbody tr th:only-of-type {\n",
       "        vertical-align: middle;\n",
       "    }\n",
       "\n",
       "    .dataframe tbody tr th {\n",
       "        vertical-align: top;\n",
       "    }\n",
       "\n",
       "    .dataframe thead th {\n",
       "        text-align: right;\n",
       "    }\n",
       "</style>\n",
       "<table border=\"1\" class=\"dataframe\">\n",
       "  <thead>\n",
       "    <tr style=\"text-align: right;\">\n",
       "      <th></th>\n",
       "      <th>Male</th>\n",
       "    </tr>\n",
       "  </thead>\n",
       "  <tbody>\n",
       "    <tr>\n",
       "      <td>0</td>\n",
       "      <td>0</td>\n",
       "    </tr>\n",
       "    <tr>\n",
       "      <td>1</td>\n",
       "      <td>0</td>\n",
       "    </tr>\n",
       "    <tr>\n",
       "      <td>2</td>\n",
       "      <td>0</td>\n",
       "    </tr>\n",
       "    <tr>\n",
       "      <td>3</td>\n",
       "      <td>0</td>\n",
       "    </tr>\n",
       "    <tr>\n",
       "      <td>4</td>\n",
       "      <td>0</td>\n",
       "    </tr>\n",
       "  </tbody>\n",
       "</table>\n",
       "</div>"
      ],
      "text/plain": [
       "   Male\n",
       "0     0\n",
       "1     0\n",
       "2     0\n",
       "3     0\n",
       "4     0"
      ]
     },
     "execution_count": 57,
     "metadata": {},
     "output_type": "execute_result"
    }
   ],
   "source": [
    "gender = pd.get_dummies(X['Gender'], drop_first=True)\n",
    "gender.head()"
   ]
  },
  {
   "cell_type": "code",
   "execution_count": 58,
   "metadata": {},
   "outputs": [],
   "source": [
    "X = X.drop(columns=['Geography', 'Gender'], axis=1)"
   ]
  },
  {
   "cell_type": "code",
   "execution_count": 59,
   "metadata": {},
   "outputs": [
    {
     "data": {
      "text/html": [
       "<div>\n",
       "<style scoped>\n",
       "    .dataframe tbody tr th:only-of-type {\n",
       "        vertical-align: middle;\n",
       "    }\n",
       "\n",
       "    .dataframe tbody tr th {\n",
       "        vertical-align: top;\n",
       "    }\n",
       "\n",
       "    .dataframe thead th {\n",
       "        text-align: right;\n",
       "    }\n",
       "</style>\n",
       "<table border=\"1\" class=\"dataframe\">\n",
       "  <thead>\n",
       "    <tr style=\"text-align: right;\">\n",
       "      <th></th>\n",
       "      <th>CreditScore</th>\n",
       "      <th>Age</th>\n",
       "      <th>Tenure</th>\n",
       "      <th>Balance</th>\n",
       "      <th>NumOfProducts</th>\n",
       "      <th>HasCrCard</th>\n",
       "      <th>IsActiveMember</th>\n",
       "      <th>EstimatedSalary</th>\n",
       "    </tr>\n",
       "  </thead>\n",
       "  <tbody>\n",
       "    <tr>\n",
       "      <td>0</td>\n",
       "      <td>619</td>\n",
       "      <td>42</td>\n",
       "      <td>2</td>\n",
       "      <td>0.00</td>\n",
       "      <td>1</td>\n",
       "      <td>1</td>\n",
       "      <td>1</td>\n",
       "      <td>101348.88</td>\n",
       "    </tr>\n",
       "    <tr>\n",
       "      <td>1</td>\n",
       "      <td>608</td>\n",
       "      <td>41</td>\n",
       "      <td>1</td>\n",
       "      <td>83807.86</td>\n",
       "      <td>1</td>\n",
       "      <td>0</td>\n",
       "      <td>1</td>\n",
       "      <td>112542.58</td>\n",
       "    </tr>\n",
       "    <tr>\n",
       "      <td>2</td>\n",
       "      <td>502</td>\n",
       "      <td>42</td>\n",
       "      <td>8</td>\n",
       "      <td>159660.80</td>\n",
       "      <td>3</td>\n",
       "      <td>1</td>\n",
       "      <td>0</td>\n",
       "      <td>113931.57</td>\n",
       "    </tr>\n",
       "    <tr>\n",
       "      <td>3</td>\n",
       "      <td>699</td>\n",
       "      <td>39</td>\n",
       "      <td>1</td>\n",
       "      <td>0.00</td>\n",
       "      <td>2</td>\n",
       "      <td>0</td>\n",
       "      <td>0</td>\n",
       "      <td>93826.63</td>\n",
       "    </tr>\n",
       "    <tr>\n",
       "      <td>4</td>\n",
       "      <td>850</td>\n",
       "      <td>43</td>\n",
       "      <td>2</td>\n",
       "      <td>125510.82</td>\n",
       "      <td>1</td>\n",
       "      <td>1</td>\n",
       "      <td>1</td>\n",
       "      <td>79084.10</td>\n",
       "    </tr>\n",
       "  </tbody>\n",
       "</table>\n",
       "</div>"
      ],
      "text/plain": [
       "   CreditScore  Age  Tenure    Balance  NumOfProducts  HasCrCard  \\\n",
       "0          619   42       2       0.00              1          1   \n",
       "1          608   41       1   83807.86              1          0   \n",
       "2          502   42       8  159660.80              3          1   \n",
       "3          699   39       1       0.00              2          0   \n",
       "4          850   43       2  125510.82              1          1   \n",
       "\n",
       "   IsActiveMember  EstimatedSalary  \n",
       "0               1        101348.88  \n",
       "1               1        112542.58  \n",
       "2               0        113931.57  \n",
       "3               0         93826.63  \n",
       "4               1         79084.10  "
      ]
     },
     "execution_count": 59,
     "metadata": {},
     "output_type": "execute_result"
    }
   ],
   "source": [
    "X.head()"
   ]
  },
  {
   "cell_type": "code",
   "execution_count": 60,
   "metadata": {},
   "outputs": [],
   "source": [
    "X = pd.concat([X, geography, gender], axis=1)"
   ]
  },
  {
   "cell_type": "code",
   "execution_count": 61,
   "metadata": {},
   "outputs": [
    {
     "data": {
      "text/html": [
       "<div>\n",
       "<style scoped>\n",
       "    .dataframe tbody tr th:only-of-type {\n",
       "        vertical-align: middle;\n",
       "    }\n",
       "\n",
       "    .dataframe tbody tr th {\n",
       "        vertical-align: top;\n",
       "    }\n",
       "\n",
       "    .dataframe thead th {\n",
       "        text-align: right;\n",
       "    }\n",
       "</style>\n",
       "<table border=\"1\" class=\"dataframe\">\n",
       "  <thead>\n",
       "    <tr style=\"text-align: right;\">\n",
       "      <th></th>\n",
       "      <th>CreditScore</th>\n",
       "      <th>Age</th>\n",
       "      <th>Tenure</th>\n",
       "      <th>Balance</th>\n",
       "      <th>NumOfProducts</th>\n",
       "      <th>HasCrCard</th>\n",
       "      <th>IsActiveMember</th>\n",
       "      <th>EstimatedSalary</th>\n",
       "      <th>Germany</th>\n",
       "      <th>Spain</th>\n",
       "      <th>Male</th>\n",
       "    </tr>\n",
       "  </thead>\n",
       "  <tbody>\n",
       "    <tr>\n",
       "      <td>0</td>\n",
       "      <td>619</td>\n",
       "      <td>42</td>\n",
       "      <td>2</td>\n",
       "      <td>0.00</td>\n",
       "      <td>1</td>\n",
       "      <td>1</td>\n",
       "      <td>1</td>\n",
       "      <td>101348.88</td>\n",
       "      <td>0</td>\n",
       "      <td>0</td>\n",
       "      <td>0</td>\n",
       "    </tr>\n",
       "    <tr>\n",
       "      <td>1</td>\n",
       "      <td>608</td>\n",
       "      <td>41</td>\n",
       "      <td>1</td>\n",
       "      <td>83807.86</td>\n",
       "      <td>1</td>\n",
       "      <td>0</td>\n",
       "      <td>1</td>\n",
       "      <td>112542.58</td>\n",
       "      <td>0</td>\n",
       "      <td>1</td>\n",
       "      <td>0</td>\n",
       "    </tr>\n",
       "    <tr>\n",
       "      <td>2</td>\n",
       "      <td>502</td>\n",
       "      <td>42</td>\n",
       "      <td>8</td>\n",
       "      <td>159660.80</td>\n",
       "      <td>3</td>\n",
       "      <td>1</td>\n",
       "      <td>0</td>\n",
       "      <td>113931.57</td>\n",
       "      <td>0</td>\n",
       "      <td>0</td>\n",
       "      <td>0</td>\n",
       "    </tr>\n",
       "    <tr>\n",
       "      <td>3</td>\n",
       "      <td>699</td>\n",
       "      <td>39</td>\n",
       "      <td>1</td>\n",
       "      <td>0.00</td>\n",
       "      <td>2</td>\n",
       "      <td>0</td>\n",
       "      <td>0</td>\n",
       "      <td>93826.63</td>\n",
       "      <td>0</td>\n",
       "      <td>0</td>\n",
       "      <td>0</td>\n",
       "    </tr>\n",
       "    <tr>\n",
       "      <td>4</td>\n",
       "      <td>850</td>\n",
       "      <td>43</td>\n",
       "      <td>2</td>\n",
       "      <td>125510.82</td>\n",
       "      <td>1</td>\n",
       "      <td>1</td>\n",
       "      <td>1</td>\n",
       "      <td>79084.10</td>\n",
       "      <td>0</td>\n",
       "      <td>1</td>\n",
       "      <td>0</td>\n",
       "    </tr>\n",
       "  </tbody>\n",
       "</table>\n",
       "</div>"
      ],
      "text/plain": [
       "   CreditScore  Age  Tenure    Balance  NumOfProducts  HasCrCard  \\\n",
       "0          619   42       2       0.00              1          1   \n",
       "1          608   41       1   83807.86              1          0   \n",
       "2          502   42       8  159660.80              3          1   \n",
       "3          699   39       1       0.00              2          0   \n",
       "4          850   43       2  125510.82              1          1   \n",
       "\n",
       "   IsActiveMember  EstimatedSalary  Germany  Spain  Male  \n",
       "0               1        101348.88        0      0     0  \n",
       "1               1        112542.58        0      1     0  \n",
       "2               0        113931.57        0      0     0  \n",
       "3               0         93826.63        0      0     0  \n",
       "4               1         79084.10        0      1     0  "
      ]
     },
     "execution_count": 61,
     "metadata": {},
     "output_type": "execute_result"
    }
   ],
   "source": [
    "X.head()"
   ]
  },
  {
   "cell_type": "code",
   "execution_count": 62,
   "metadata": {},
   "outputs": [
    {
     "data": {
      "text/plain": [
       "(10000, 11)"
      ]
     },
     "execution_count": 62,
     "metadata": {},
     "output_type": "execute_result"
    }
   ],
   "source": [
    "X.shape"
   ]
  },
  {
   "cell_type": "markdown",
   "metadata": {},
   "source": [
    "# Divide the data set into train and test sets"
   ]
  },
  {
   "cell_type": "code",
   "execution_count": 63,
   "metadata": {},
   "outputs": [],
   "source": [
    "from sklearn.model_selection import train_test_split"
   ]
  },
  {
   "cell_type": "code",
   "execution_count": 64,
   "metadata": {},
   "outputs": [],
   "source": [
    "X_train, X_test, y_train, y_test = train_test_split(X, Y, test_size=0.30, random_state=42)"
   ]
  },
  {
   "cell_type": "code",
   "execution_count": 65,
   "metadata": {},
   "outputs": [
    {
     "data": {
      "text/plain": [
       "(7000, 11)"
      ]
     },
     "execution_count": 65,
     "metadata": {},
     "output_type": "execute_result"
    }
   ],
   "source": [
    "X_train.shape"
   ]
  },
  {
   "cell_type": "code",
   "execution_count": 66,
   "metadata": {},
   "outputs": [
    {
     "data": {
      "text/plain": [
       "(7000,)"
      ]
     },
     "execution_count": 66,
     "metadata": {},
     "output_type": "execute_result"
    }
   ],
   "source": [
    "y_train.shape"
   ]
  },
  {
   "cell_type": "code",
   "execution_count": 67,
   "metadata": {},
   "outputs": [
    {
     "data": {
      "text/plain": [
       "(3000, 11)"
      ]
     },
     "execution_count": 67,
     "metadata": {},
     "output_type": "execute_result"
    }
   ],
   "source": [
    "X_test.shape"
   ]
  },
  {
   "cell_type": "markdown",
   "metadata": {},
   "source": [
    "# Normalize the train and test data"
   ]
  },
  {
   "cell_type": "code",
   "execution_count": 68,
   "metadata": {},
   "outputs": [],
   "source": [
    "from sklearn.preprocessing import StandardScaler\n",
    "sc = StandardScaler()\n",
    "X_train = sc.fit_transform(X_train)\n",
    "X_test = sc.transform(X_test)"
   ]
  },
  {
   "cell_type": "code",
   "execution_count": 69,
   "metadata": {},
   "outputs": [
    {
     "data": {
      "text/plain": [
       "dtype('float32')"
      ]
     },
     "execution_count": 69,
     "metadata": {},
     "output_type": "execute_result"
    }
   ],
   "source": [
    "X_train = X_train.astype('float32')\n",
    "X_train.dtype"
   ]
  },
  {
   "cell_type": "code",
   "execution_count": 70,
   "metadata": {},
   "outputs": [
    {
     "data": {
      "text/plain": [
       "dtype('float32')"
      ]
     },
     "execution_count": 70,
     "metadata": {},
     "output_type": "execute_result"
    }
   ],
   "source": [
    "X_test = X_test.astype('float32')\n",
    "X_test.dtype"
   ]
  },
  {
   "cell_type": "code",
   "execution_count": 71,
   "metadata": {},
   "outputs": [
    {
     "data": {
      "text/plain": [
       "dtype('float32')"
      ]
     },
     "execution_count": 71,
     "metadata": {},
     "output_type": "execute_result"
    }
   ],
   "source": [
    "y_train = y_train.astype('float32')\n",
    "y_train.dtype"
   ]
  },
  {
   "cell_type": "code",
   "execution_count": 72,
   "metadata": {},
   "outputs": [
    {
     "data": {
      "text/plain": [
       "dtype('float32')"
      ]
     },
     "execution_count": 72,
     "metadata": {},
     "output_type": "execute_result"
    }
   ],
   "source": [
    "y_test = y_test.astype('float32')\n",
    "y_test.dtype"
   ]
  },
  {
   "cell_type": "code",
   "execution_count": 73,
   "metadata": {},
   "outputs": [],
   "source": [
    "y_train = np.asarray(y_train)"
   ]
  },
  {
   "cell_type": "code",
   "execution_count": 74,
   "metadata": {},
   "outputs": [],
   "source": [
    "y_test = np.asarray(y_test)"
   ]
  },
  {
   "cell_type": "markdown",
   "metadata": {},
   "source": [
    "# Initialize & build the model"
   ]
  },
  {
   "cell_type": "code",
   "execution_count": 75,
   "metadata": {},
   "outputs": [],
   "source": [
    "import tensorflow as tf"
   ]
  },
  {
   "cell_type": "code",
   "execution_count": 82,
   "metadata": {},
   "outputs": [],
   "source": [
    "model = tf.keras.models.Sequential()"
   ]
  },
  {
   "cell_type": "markdown",
   "metadata": {},
   "source": [
    "We have 11 independent variables so input_dim will be 11.\n",
    "We will use relu as an activation function in hidden layers.\n",
    "We are taking 6 neurons in the hidden layer.\n",
    "For the output layer, we are taking sigmoid as an activation because there will be only 2 output.\n",
    "We are also taking, binary_crossentropy as a loss because output will be binary."
   ]
  },
  {
   "cell_type": "code",
   "execution_count": 83,
   "metadata": {},
   "outputs": [],
   "source": [
    "#Input layer\n",
    "model.add(tf.keras.layers.Dense(activation = 'relu', input_dim = 11, units=6, kernel_initializer='uniform'))\n",
    "\n",
    "#output layer\n",
    "model.add(tf.keras.layers.Dense(1, activation='sigmoid', name='Output'))\n",
    "\n",
    "#Compiling\n",
    "model.compile(optimizer='adam', loss='binary_crossentropy', metrics=['accuracy'])"
   ]
  },
  {
   "cell_type": "code",
   "execution_count": 84,
   "metadata": {},
   "outputs": [
    {
     "name": "stdout",
     "output_type": "stream",
     "text": [
      "Train on 7000 samples, validate on 3000 samples\n",
      "Epoch 1/40\n",
      "7000/7000 [==============================] - 1s 124us/sample - loss: 0.6484 - accuracy: 0.7499 - val_loss: 0.5861 - val_accuracy: 0.8197\n",
      "Epoch 2/40\n",
      "7000/7000 [==============================] - 0s 50us/sample - loss: 0.5372 - accuracy: 0.8117 - val_loss: 0.4846 - val_accuracy: 0.8350\n",
      "Epoch 3/40\n",
      "7000/7000 [==============================] - 0s 49us/sample - loss: 0.4658 - accuracy: 0.8249 - val_loss: 0.4306 - val_accuracy: 0.8363\n",
      "Epoch 4/40\n",
      "7000/7000 [==============================] - 0s 56us/sample - loss: 0.4300 - accuracy: 0.8341 - val_loss: 0.4013 - val_accuracy: 0.8530\n",
      "Epoch 5/40\n",
      "7000/7000 [==============================] - 0s 49us/sample - loss: 0.4077 - accuracy: 0.8396 - val_loss: 0.3835 - val_accuracy: 0.8543\n",
      "Epoch 6/40\n",
      "7000/7000 [==============================] - 0s 64us/sample - loss: 0.3939 - accuracy: 0.8434 - val_loss: 0.3726 - val_accuracy: 0.8617\n",
      "Epoch 7/40\n",
      "7000/7000 [==============================] - 0s 56us/sample - loss: 0.3853 - accuracy: 0.8444 - val_loss: 0.3653 - val_accuracy: 0.8637\n",
      "Epoch 8/40\n",
      "7000/7000 [==============================] - 0s 52us/sample - loss: 0.3791 - accuracy: 0.8461 - val_loss: 0.3614 - val_accuracy: 0.8613\n",
      "Epoch 9/40\n",
      "7000/7000 [==============================] - 0s 51us/sample - loss: 0.3748 - accuracy: 0.8497 - val_loss: 0.3579 - val_accuracy: 0.8630\n",
      "Epoch 10/40\n",
      "7000/7000 [==============================] - 0s 56us/sample - loss: 0.3714 - accuracy: 0.8510 - val_loss: 0.3551 - val_accuracy: 0.8650\n",
      "Epoch 11/40\n",
      "7000/7000 [==============================] - 0s 52us/sample - loss: 0.3688 - accuracy: 0.8493 - val_loss: 0.3536 - val_accuracy: 0.8650\n",
      "Epoch 12/40\n",
      "7000/7000 [==============================] - 0s 49us/sample - loss: 0.3666 - accuracy: 0.8534 - val_loss: 0.3521 - val_accuracy: 0.8647\n",
      "Epoch 13/40\n",
      "7000/7000 [==============================] - 0s 51us/sample - loss: 0.3647 - accuracy: 0.8524 - val_loss: 0.3515 - val_accuracy: 0.8633\n",
      "Epoch 14/40\n",
      "7000/7000 [==============================] - 0s 51us/sample - loss: 0.3635 - accuracy: 0.8544 - val_loss: 0.3503 - val_accuracy: 0.8650\n",
      "Epoch 15/40\n",
      "7000/7000 [==============================] - 0s 48us/sample - loss: 0.3621 - accuracy: 0.8530 - val_loss: 0.3498 - val_accuracy: 0.8653\n",
      "Epoch 16/40\n",
      "7000/7000 [==============================] - 0s 50us/sample - loss: 0.3609 - accuracy: 0.8537 - val_loss: 0.3488 - val_accuracy: 0.8640\n",
      "Epoch 17/40\n",
      "7000/7000 [==============================] - 0s 52us/sample - loss: 0.3596 - accuracy: 0.8553 - val_loss: 0.3477 - val_accuracy: 0.8667\n",
      "Epoch 18/40\n",
      "7000/7000 [==============================] - 0s 51us/sample - loss: 0.3592 - accuracy: 0.8530 - val_loss: 0.3482 - val_accuracy: 0.8653\n",
      "Epoch 19/40\n",
      "7000/7000 [==============================] - 0s 53us/sample - loss: 0.3585 - accuracy: 0.8541 - val_loss: 0.3476 - val_accuracy: 0.8657\n",
      "Epoch 20/40\n",
      "7000/7000 [==============================] - 0s 49us/sample - loss: 0.3576 - accuracy: 0.8540 - val_loss: 0.3471 - val_accuracy: 0.8650\n",
      "Epoch 21/40\n",
      "7000/7000 [==============================] - 0s 50us/sample - loss: 0.3573 - accuracy: 0.8541 - val_loss: 0.3467 - val_accuracy: 0.8663\n",
      "Epoch 22/40\n",
      "7000/7000 [==============================] - 0s 51us/sample - loss: 0.3571 - accuracy: 0.8541 - val_loss: 0.3468 - val_accuracy: 0.8647\n",
      "Epoch 23/40\n",
      "7000/7000 [==============================] - 0s 51us/sample - loss: 0.3566 - accuracy: 0.8529 - val_loss: 0.3461 - val_accuracy: 0.8657\n",
      "Epoch 24/40\n",
      "7000/7000 [==============================] - 0s 50us/sample - loss: 0.3561 - accuracy: 0.8540 - val_loss: 0.3458 - val_accuracy: 0.8640\n",
      "Epoch 25/40\n",
      "7000/7000 [==============================] - 0s 52us/sample - loss: 0.3557 - accuracy: 0.8543 - val_loss: 0.3462 - val_accuracy: 0.8643\n",
      "Epoch 26/40\n",
      "7000/7000 [==============================] - 0s 50us/sample - loss: 0.3555 - accuracy: 0.8534 - val_loss: 0.3455 - val_accuracy: 0.8667\n",
      "Epoch 27/40\n",
      "7000/7000 [==============================] - 0s 50us/sample - loss: 0.3552 - accuracy: 0.8531 - val_loss: 0.3451 - val_accuracy: 0.8657\n",
      "Epoch 28/40\n",
      "7000/7000 [==============================] - 0s 48us/sample - loss: 0.3549 - accuracy: 0.8551 - val_loss: 0.3445 - val_accuracy: 0.8647\n",
      "Epoch 29/40\n",
      "7000/7000 [==============================] - 0s 51us/sample - loss: 0.3546 - accuracy: 0.8540 - val_loss: 0.3445 - val_accuracy: 0.8640\n",
      "Epoch 30/40\n",
      "7000/7000 [==============================] - 0s 49us/sample - loss: 0.3543 - accuracy: 0.8550 - val_loss: 0.3448 - val_accuracy: 0.8650\n",
      "Epoch 31/40\n",
      "7000/7000 [==============================] - 0s 50us/sample - loss: 0.3541 - accuracy: 0.8546 - val_loss: 0.3448 - val_accuracy: 0.8650\n",
      "Epoch 32/40\n",
      "7000/7000 [==============================] - 0s 50us/sample - loss: 0.3541 - accuracy: 0.8526 - val_loss: 0.3440 - val_accuracy: 0.8637\n",
      "Epoch 33/40\n",
      "7000/7000 [==============================] - 0s 48us/sample - loss: 0.3539 - accuracy: 0.8549 - val_loss: 0.3438 - val_accuracy: 0.8637\n",
      "Epoch 34/40\n",
      "7000/7000 [==============================] - 0s 51us/sample - loss: 0.3535 - accuracy: 0.8547 - val_loss: 0.3441 - val_accuracy: 0.8627\n",
      "Epoch 35/40\n",
      "7000/7000 [==============================] - 0s 49us/sample - loss: 0.3533 - accuracy: 0.8551 - val_loss: 0.3435 - val_accuracy: 0.8643\n",
      "Epoch 36/40\n",
      "7000/7000 [==============================] - 0s 54us/sample - loss: 0.3532 - accuracy: 0.8539 - val_loss: 0.3435 - val_accuracy: 0.8633\n",
      "Epoch 37/40\n",
      "7000/7000 [==============================] - 0s 46us/sample - loss: 0.3529 - accuracy: 0.8530 - val_loss: 0.3440 - val_accuracy: 0.8630\n",
      "Epoch 38/40\n",
      "7000/7000 [==============================] - 0s 47us/sample - loss: 0.3528 - accuracy: 0.8527 - val_loss: 0.3439 - val_accuracy: 0.8640\n",
      "Epoch 39/40\n",
      "7000/7000 [==============================] - 0s 47us/sample - loss: 0.3526 - accuracy: 0.8536 - val_loss: 0.3446 - val_accuracy: 0.8653\n",
      "Epoch 40/40\n",
      "7000/7000 [==============================] - 0s 46us/sample - loss: 0.3525 - accuracy: 0.8541 - val_loss: 0.3433 - val_accuracy: 0.8633\n"
     ]
    },
    {
     "data": {
      "text/plain": [
       "<tensorflow.python.keras.callbacks.History at 0x29d8c06c688>"
      ]
     },
     "execution_count": 84,
     "metadata": {},
     "output_type": "execute_result"
    }
   ],
   "source": [
    "model.fit(X_train,y_train,\n",
    "        validation_data=(X_test,y_test),\n",
    "        epochs=40)"
   ]
  },
  {
   "cell_type": "code",
   "execution_count": 85,
   "metadata": {},
   "outputs": [
    {
     "name": "stdout",
     "output_type": "stream",
     "text": [
      "Model: \"sequential_7\"\n",
      "_________________________________________________________________\n",
      "Layer (type)                 Output Shape              Param #   \n",
      "=================================================================\n",
      "dense_19 (Dense)             (None, 6)                 72        \n",
      "_________________________________________________________________\n",
      "Output (Dense)               (None, 1)                 7         \n",
      "=================================================================\n",
      "Total params: 79\n",
      "Trainable params: 79\n",
      "Non-trainable params: 0\n",
      "_________________________________________________________________\n"
     ]
    }
   ],
   "source": [
    "model.summary()"
   ]
  },
  {
   "cell_type": "markdown",
   "metadata": {},
   "source": [
    "# Optimize the model"
   ]
  },
  {
   "cell_type": "code",
   "execution_count": 92,
   "metadata": {},
   "outputs": [],
   "source": [
    "model2 = tf.keras.models.Sequential()\n",
    "\n",
    "#Input layer\n",
    "model2.add(tf.keras.layers.Dense(activation = 'relu', input_dim = 11, units=8, kernel_initializer='uniform'))\n",
    "\n",
    "#output layer\n",
    "model2.add(tf.keras.layers.Dense(1, activation='sigmoid', name='Output'))\n",
    "\n",
    "#Compiling\n",
    "model2.compile(optimizer='adam', loss='binary_crossentropy', metrics=['accuracy'])"
   ]
  },
  {
   "cell_type": "code",
   "execution_count": 93,
   "metadata": {},
   "outputs": [
    {
     "name": "stdout",
     "output_type": "stream",
     "text": [
      "Train on 7000 samples, validate on 3000 samples\n",
      "Epoch 1/100\n",
      "7000/7000 [==============================] - 1s 91us/sample - loss: 0.5502 - accuracy: 0.7900 - val_loss: 0.4506 - val_accuracy: 0.8073\n",
      "Epoch 2/100\n",
      "7000/7000 [==============================] - 0s 50us/sample - loss: 0.4420 - accuracy: 0.8033 - val_loss: 0.4108 - val_accuracy: 0.8200\n",
      "Epoch 3/100\n",
      "7000/7000 [==============================] - 0s 52us/sample - loss: 0.4218 - accuracy: 0.8183 - val_loss: 0.3975 - val_accuracy: 0.8320\n",
      "Epoch 4/100\n",
      "7000/7000 [==============================] - 0s 48us/sample - loss: 0.4100 - accuracy: 0.8259 - val_loss: 0.3865 - val_accuracy: 0.8433\n",
      "Epoch 5/100\n",
      "7000/7000 [==============================] - 0s 54us/sample - loss: 0.3990 - accuracy: 0.8331 - val_loss: 0.3764 - val_accuracy: 0.8460\n",
      "Epoch 6/100\n",
      "7000/7000 [==============================] - 0s 58us/sample - loss: 0.3889 - accuracy: 0.8401 - val_loss: 0.3684 - val_accuracy: 0.8507\n",
      "Epoch 7/100\n",
      "7000/7000 [==============================] - 0s 55us/sample - loss: 0.3801 - accuracy: 0.8443 - val_loss: 0.3607 - val_accuracy: 0.8567\n",
      "Epoch 8/100\n",
      "7000/7000 [==============================] - 0s 49us/sample - loss: 0.3729 - accuracy: 0.8467 - val_loss: 0.3550 - val_accuracy: 0.8587\n",
      "Epoch 9/100\n",
      "7000/7000 [==============================] - 0s 59us/sample - loss: 0.3673 - accuracy: 0.8484 - val_loss: 0.3496 - val_accuracy: 0.8593\n",
      "Epoch 10/100\n",
      "7000/7000 [==============================] - 0s 47us/sample - loss: 0.3624 - accuracy: 0.8490 - val_loss: 0.3468 - val_accuracy: 0.8620\n",
      "Epoch 11/100\n",
      "7000/7000 [==============================] - 0s 50us/sample - loss: 0.3587 - accuracy: 0.8527 - val_loss: 0.3438 - val_accuracy: 0.8653\n",
      "Epoch 12/100\n",
      "7000/7000 [==============================] - 0s 57us/sample - loss: 0.3558 - accuracy: 0.8533 - val_loss: 0.3420 - val_accuracy: 0.8670\n",
      "Epoch 13/100\n",
      "7000/7000 [==============================] - 0s 57us/sample - loss: 0.3539 - accuracy: 0.8574 - val_loss: 0.3403 - val_accuracy: 0.8693\n",
      "Epoch 14/100\n",
      "7000/7000 [==============================] - 0s 53us/sample - loss: 0.3518 - accuracy: 0.8577 - val_loss: 0.3386 - val_accuracy: 0.8667\n",
      "Epoch 15/100\n",
      "7000/7000 [==============================] - 0s 48us/sample - loss: 0.3500 - accuracy: 0.8579 - val_loss: 0.3386 - val_accuracy: 0.8677\n",
      "Epoch 16/100\n",
      "7000/7000 [==============================] - 0s 48us/sample - loss: 0.3490 - accuracy: 0.8597 - val_loss: 0.3365 - val_accuracy: 0.8687\n",
      "Epoch 17/100\n",
      "7000/7000 [==============================] - 0s 47us/sample - loss: 0.3475 - accuracy: 0.8577 - val_loss: 0.3354 - val_accuracy: 0.8683\n",
      "Epoch 18/100\n",
      "7000/7000 [==============================] - 0s 48us/sample - loss: 0.3460 - accuracy: 0.8589 - val_loss: 0.3353 - val_accuracy: 0.8687\n",
      "Epoch 19/100\n",
      "7000/7000 [==============================] - 0s 48us/sample - loss: 0.3457 - accuracy: 0.8586 - val_loss: 0.3344 - val_accuracy: 0.8693\n",
      "Epoch 20/100\n",
      "7000/7000 [==============================] - 0s 60us/sample - loss: 0.3449 - accuracy: 0.8597 - val_loss: 0.3345 - val_accuracy: 0.8690\n",
      "Epoch 21/100\n",
      "7000/7000 [==============================] - 0s 60us/sample - loss: 0.3445 - accuracy: 0.8610 - val_loss: 0.3345 - val_accuracy: 0.8687\n",
      "Epoch 22/100\n",
      "7000/7000 [==============================] - 0s 57us/sample - loss: 0.3441 - accuracy: 0.8593 - val_loss: 0.3333 - val_accuracy: 0.8680\n",
      "Epoch 23/100\n",
      "7000/7000 [==============================] - 0s 56us/sample - loss: 0.3436 - accuracy: 0.8594 - val_loss: 0.3336 - val_accuracy: 0.8677\n",
      "Epoch 24/100\n",
      "7000/7000 [==============================] - 0s 56us/sample - loss: 0.3431 - accuracy: 0.8583 - val_loss: 0.3337 - val_accuracy: 0.8683\n",
      "Epoch 25/100\n",
      "7000/7000 [==============================] - 0s 51us/sample - loss: 0.3426 - accuracy: 0.8591 - val_loss: 0.3340 - val_accuracy: 0.8667\n",
      "Epoch 26/100\n",
      "7000/7000 [==============================] - 0s 50us/sample - loss: 0.3424 - accuracy: 0.8591 - val_loss: 0.3334 - val_accuracy: 0.8683\n",
      "Epoch 27/100\n",
      "7000/7000 [==============================] - 0s 50us/sample - loss: 0.3423 - accuracy: 0.8593 - val_loss: 0.3329 - val_accuracy: 0.8660\n",
      "Epoch 28/100\n",
      "7000/7000 [==============================] - 0s 59us/sample - loss: 0.3418 - accuracy: 0.8606 - val_loss: 0.3343 - val_accuracy: 0.8670\n",
      "Epoch 29/100\n",
      "7000/7000 [==============================] - 0s 57us/sample - loss: 0.3421 - accuracy: 0.8587 - val_loss: 0.3333 - val_accuracy: 0.8660\n",
      "Epoch 30/100\n",
      "7000/7000 [==============================] - 0s 48us/sample - loss: 0.3415 - accuracy: 0.8600 - val_loss: 0.3331 - val_accuracy: 0.8673\n",
      "Epoch 31/100\n",
      "7000/7000 [==============================] - 0s 50us/sample - loss: 0.3414 - accuracy: 0.8596 - val_loss: 0.3337 - val_accuracy: 0.8677\n",
      "Epoch 32/100\n",
      "7000/7000 [==============================] - 0s 61us/sample - loss: 0.3412 - accuracy: 0.8604 - val_loss: 0.3342 - val_accuracy: 0.8660\n",
      "Epoch 33/100\n",
      "7000/7000 [==============================] - 0s 54us/sample - loss: 0.3412 - accuracy: 0.8593 - val_loss: 0.3334 - val_accuracy: 0.8657\n",
      "Epoch 34/100\n",
      "7000/7000 [==============================] - 0s 53us/sample - loss: 0.3413 - accuracy: 0.8594 - val_loss: 0.3331 - val_accuracy: 0.8637\n",
      "Epoch 35/100\n",
      "7000/7000 [==============================] - 0s 52us/sample - loss: 0.3411 - accuracy: 0.8603 - val_loss: 0.3331 - val_accuracy: 0.8670\n",
      "Epoch 36/100\n",
      "7000/7000 [==============================] - 0s 50us/sample - loss: 0.3410 - accuracy: 0.8591 - val_loss: 0.3345 - val_accuracy: 0.8673\n",
      "Epoch 37/100\n",
      "7000/7000 [==============================] - 0s 51us/sample - loss: 0.3411 - accuracy: 0.8607 - val_loss: 0.3340 - val_accuracy: 0.8677\n",
      "Epoch 38/100\n",
      "7000/7000 [==============================] - 0s 48us/sample - loss: 0.3409 - accuracy: 0.8614 - val_loss: 0.3333 - val_accuracy: 0.8667\n",
      "Epoch 39/100\n",
      "7000/7000 [==============================] - 0s 49us/sample - loss: 0.3410 - accuracy: 0.8587 - val_loss: 0.3334 - val_accuracy: 0.8687\n",
      "Epoch 40/100\n",
      "7000/7000 [==============================] - 0s 49us/sample - loss: 0.3411 - accuracy: 0.8599 - val_loss: 0.3332 - val_accuracy: 0.8660\n",
      "Epoch 41/100\n",
      "7000/7000 [==============================] - 0s 52us/sample - loss: 0.3408 - accuracy: 0.8610 - val_loss: 0.3327 - val_accuracy: 0.8667\n",
      "Epoch 42/100\n",
      "7000/7000 [==============================] - 0s 53us/sample - loss: 0.3403 - accuracy: 0.8621 - val_loss: 0.3335 - val_accuracy: 0.8677\n",
      "Epoch 43/100\n",
      "7000/7000 [==============================] - 0s 52us/sample - loss: 0.3407 - accuracy: 0.8610 - val_loss: 0.3335 - val_accuracy: 0.8680\n",
      "Epoch 44/100\n",
      "7000/7000 [==============================] - 0s 51us/sample - loss: 0.3406 - accuracy: 0.8619 - val_loss: 0.3335 - val_accuracy: 0.8660\n",
      "Epoch 45/100\n",
      "7000/7000 [==============================] - 0s 48us/sample - loss: 0.3407 - accuracy: 0.8597 - val_loss: 0.3346 - val_accuracy: 0.8680\n",
      "Epoch 46/100\n",
      "7000/7000 [==============================] - 0s 51us/sample - loss: 0.3406 - accuracy: 0.8594 - val_loss: 0.3344 - val_accuracy: 0.8660\n",
      "Epoch 47/100\n",
      "7000/7000 [==============================] - 0s 51us/sample - loss: 0.3407 - accuracy: 0.8610 - val_loss: 0.3330 - val_accuracy: 0.8677\n",
      "Epoch 48/100\n",
      "7000/7000 [==============================] - 0s 58us/sample - loss: 0.3402 - accuracy: 0.8601 - val_loss: 0.3336 - val_accuracy: 0.8660\n",
      "Epoch 49/100\n",
      "7000/7000 [==============================] - 0s 58us/sample - loss: 0.3403 - accuracy: 0.8601 - val_loss: 0.3342 - val_accuracy: 0.8667\n",
      "Epoch 50/100\n",
      "7000/7000 [==============================] - 0s 63us/sample - loss: 0.3403 - accuracy: 0.8594 - val_loss: 0.3343 - val_accuracy: 0.8650\n",
      "Epoch 51/100\n",
      "7000/7000 [==============================] - 0s 51us/sample - loss: 0.3408 - accuracy: 0.8609 - val_loss: 0.3338 - val_accuracy: 0.8663\n",
      "Epoch 52/100\n",
      "7000/7000 [==============================] - 0s 58us/sample - loss: 0.3403 - accuracy: 0.8583 - val_loss: 0.3333 - val_accuracy: 0.8683\n",
      "Epoch 53/100\n",
      "7000/7000 [==============================] - 0s 48us/sample - loss: 0.3402 - accuracy: 0.8614 - val_loss: 0.3349 - val_accuracy: 0.8657\n",
      "Epoch 54/100\n",
      "7000/7000 [==============================] - 0s 48us/sample - loss: 0.3402 - accuracy: 0.8607 - val_loss: 0.3320 - val_accuracy: 0.8663\n",
      "Epoch 55/100\n",
      "7000/7000 [==============================] - 0s 49us/sample - loss: 0.3398 - accuracy: 0.8591 - val_loss: 0.3326 - val_accuracy: 0.8683\n"
     ]
    },
    {
     "name": "stdout",
     "output_type": "stream",
     "text": [
      "Epoch 56/100\n",
      "7000/7000 [==============================] - 0s 50us/sample - loss: 0.3403 - accuracy: 0.8587 - val_loss: 0.3339 - val_accuracy: 0.8663\n",
      "Epoch 57/100\n",
      "7000/7000 [==============================] - 0s 58us/sample - loss: 0.3399 - accuracy: 0.8609 - val_loss: 0.3320 - val_accuracy: 0.8663\n",
      "Epoch 58/100\n",
      "7000/7000 [==============================] - 0s 50us/sample - loss: 0.3398 - accuracy: 0.8591 - val_loss: 0.3337 - val_accuracy: 0.8667\n",
      "Epoch 59/100\n",
      "7000/7000 [==============================] - 0s 51us/sample - loss: 0.3401 - accuracy: 0.8589 - val_loss: 0.3328 - val_accuracy: 0.8667\n",
      "Epoch 60/100\n",
      "7000/7000 [==============================] - 0s 53us/sample - loss: 0.3399 - accuracy: 0.8600 - val_loss: 0.3335 - val_accuracy: 0.8670\n",
      "Epoch 61/100\n",
      "7000/7000 [==============================] - 0s 48us/sample - loss: 0.3400 - accuracy: 0.8594 - val_loss: 0.3329 - val_accuracy: 0.8673\n",
      "Epoch 62/100\n",
      "7000/7000 [==============================] - 0s 51us/sample - loss: 0.3400 - accuracy: 0.8616 - val_loss: 0.3344 - val_accuracy: 0.8667\n",
      "Epoch 63/100\n",
      "7000/7000 [==============================] - 0s 50us/sample - loss: 0.3399 - accuracy: 0.8604 - val_loss: 0.3341 - val_accuracy: 0.8667\n",
      "Epoch 64/100\n",
      "7000/7000 [==============================] - 0s 48us/sample - loss: 0.3398 - accuracy: 0.8616 - val_loss: 0.3334 - val_accuracy: 0.8660\n",
      "Epoch 65/100\n",
      "7000/7000 [==============================] - 0s 51us/sample - loss: 0.3395 - accuracy: 0.8611 - val_loss: 0.3337 - val_accuracy: 0.8677\n",
      "Epoch 66/100\n",
      "7000/7000 [==============================] - 0s 52us/sample - loss: 0.3396 - accuracy: 0.8616 - val_loss: 0.3339 - val_accuracy: 0.8667\n",
      "Epoch 67/100\n",
      "7000/7000 [==============================] - 0s 48us/sample - loss: 0.3398 - accuracy: 0.8600 - val_loss: 0.3346 - val_accuracy: 0.8677\n",
      "Epoch 68/100\n",
      "7000/7000 [==============================] - 0s 51us/sample - loss: 0.3393 - accuracy: 0.8589 - val_loss: 0.3329 - val_accuracy: 0.8670\n",
      "Epoch 69/100\n",
      "7000/7000 [==============================] - 0s 50us/sample - loss: 0.3396 - accuracy: 0.8610 - val_loss: 0.3341 - val_accuracy: 0.8673\n",
      "Epoch 70/100\n",
      "7000/7000 [==============================] - 0s 48us/sample - loss: 0.3399 - accuracy: 0.8593 - val_loss: 0.3337 - val_accuracy: 0.8677\n",
      "Epoch 71/100\n",
      "7000/7000 [==============================] - 0s 51us/sample - loss: 0.3395 - accuracy: 0.8590 - val_loss: 0.3329 - val_accuracy: 0.8670\n",
      "Epoch 72/100\n",
      "7000/7000 [==============================] - 0s 50us/sample - loss: 0.3390 - accuracy: 0.8601 - val_loss: 0.3350 - val_accuracy: 0.8660\n",
      "Epoch 73/100\n",
      "7000/7000 [==============================] - 0s 50us/sample - loss: 0.3397 - accuracy: 0.8606 - val_loss: 0.3348 - val_accuracy: 0.8673\n",
      "Epoch 74/100\n",
      "7000/7000 [==============================] - 0s 50us/sample - loss: 0.3395 - accuracy: 0.8596 - val_loss: 0.3342 - val_accuracy: 0.8673\n",
      "Epoch 75/100\n",
      "7000/7000 [==============================] - 0s 49us/sample - loss: 0.3393 - accuracy: 0.8600 - val_loss: 0.3332 - val_accuracy: 0.8680\n",
      "Epoch 76/100\n",
      "7000/7000 [==============================] - 0s 51us/sample - loss: 0.3393 - accuracy: 0.8599 - val_loss: 0.3328 - val_accuracy: 0.8677\n",
      "Epoch 77/100\n",
      "7000/7000 [==============================] - 0s 50us/sample - loss: 0.3391 - accuracy: 0.8603 - val_loss: 0.3320 - val_accuracy: 0.8687\n",
      "Epoch 78/100\n",
      "7000/7000 [==============================] - 0s 50us/sample - loss: 0.3394 - accuracy: 0.8599 - val_loss: 0.3339 - val_accuracy: 0.8667\n",
      "Epoch 79/100\n",
      "7000/7000 [==============================] - 0s 48us/sample - loss: 0.3394 - accuracy: 0.8611 - val_loss: 0.3342 - val_accuracy: 0.8653\n",
      "Epoch 80/100\n",
      "7000/7000 [==============================] - 0s 49us/sample - loss: 0.3393 - accuracy: 0.8587 - val_loss: 0.3341 - val_accuracy: 0.8660\n",
      "Epoch 81/100\n",
      "7000/7000 [==============================] - 0s 49us/sample - loss: 0.3389 - accuracy: 0.8601 - val_loss: 0.3332 - val_accuracy: 0.8663\n",
      "Epoch 82/100\n",
      "7000/7000 [==============================] - 0s 48us/sample - loss: 0.3389 - accuracy: 0.8590 - val_loss: 0.3346 - val_accuracy: 0.8663\n",
      "Epoch 83/100\n",
      "7000/7000 [==============================] - 0s 53us/sample - loss: 0.3390 - accuracy: 0.8587 - val_loss: 0.3340 - val_accuracy: 0.8673\n",
      "Epoch 84/100\n",
      "7000/7000 [==============================] - 0s 56us/sample - loss: 0.3388 - accuracy: 0.8609 - val_loss: 0.3325 - val_accuracy: 0.8670\n",
      "Epoch 85/100\n",
      "7000/7000 [==============================] - 0s 53us/sample - loss: 0.3389 - accuracy: 0.8581 - val_loss: 0.3334 - val_accuracy: 0.8670\n",
      "Epoch 86/100\n",
      "7000/7000 [==============================] - 0s 54us/sample - loss: 0.3389 - accuracy: 0.8597 - val_loss: 0.3329 - val_accuracy: 0.8677\n",
      "Epoch 87/100\n",
      "7000/7000 [==============================] - 0s 50us/sample - loss: 0.3389 - accuracy: 0.8591 - val_loss: 0.3342 - val_accuracy: 0.8687\n",
      "Epoch 88/100\n",
      "7000/7000 [==============================] - 0s 52us/sample - loss: 0.3389 - accuracy: 0.8604 - val_loss: 0.3329 - val_accuracy: 0.8667\n",
      "Epoch 89/100\n",
      "7000/7000 [==============================] - 0s 50us/sample - loss: 0.3388 - accuracy: 0.8593 - val_loss: 0.3335 - val_accuracy: 0.8700\n",
      "Epoch 90/100\n",
      "7000/7000 [==============================] - 0s 52us/sample - loss: 0.3388 - accuracy: 0.8616 - val_loss: 0.3332 - val_accuracy: 0.8653\n",
      "Epoch 91/100\n",
      "7000/7000 [==============================] - 0s 53us/sample - loss: 0.3388 - accuracy: 0.8601 - val_loss: 0.3344 - val_accuracy: 0.8677\n",
      "Epoch 92/100\n",
      "7000/7000 [==============================] - 0s 48us/sample - loss: 0.3390 - accuracy: 0.8603 - val_loss: 0.3345 - val_accuracy: 0.8657\n",
      "Epoch 93/100\n",
      "7000/7000 [==============================] - 0s 58us/sample - loss: 0.3391 - accuracy: 0.8607 - val_loss: 0.3335 - val_accuracy: 0.8687\n",
      "Epoch 94/100\n",
      "7000/7000 [==============================] - 0s 59us/sample - loss: 0.3387 - accuracy: 0.8611 - val_loss: 0.3331 - val_accuracy: 0.8683\n",
      "Epoch 95/100\n",
      "7000/7000 [==============================] - 0s 53us/sample - loss: 0.3389 - accuracy: 0.8581 - val_loss: 0.3324 - val_accuracy: 0.8677\n",
      "Epoch 96/100\n",
      "7000/7000 [==============================] - 0s 58us/sample - loss: 0.3388 - accuracy: 0.8607 - val_loss: 0.3331 - val_accuracy: 0.8660\n",
      "Epoch 97/100\n",
      "7000/7000 [==============================] - 0s 57us/sample - loss: 0.3388 - accuracy: 0.8600 - val_loss: 0.3328 - val_accuracy: 0.8670\n",
      "Epoch 98/100\n",
      "7000/7000 [==============================] - 0s 51us/sample - loss: 0.3387 - accuracy: 0.8596 - val_loss: 0.3342 - val_accuracy: 0.8660\n",
      "Epoch 99/100\n",
      "7000/7000 [==============================] - 0s 52us/sample - loss: 0.3387 - accuracy: 0.8594 - val_loss: 0.3335 - val_accuracy: 0.8663\n",
      "Epoch 100/100\n",
      "7000/7000 [==============================] - 0s 50us/sample - loss: 0.3388 - accuracy: 0.8587 - val_loss: 0.3332 - val_accuracy: 0.8693\n"
     ]
    },
    {
     "data": {
      "text/plain": [
       "<tensorflow.python.keras.callbacks.History at 0x29d84690ac8>"
      ]
     },
     "execution_count": 93,
     "metadata": {},
     "output_type": "execute_result"
    }
   ],
   "source": [
    "model2.fit(X_train,y_train,validation_data=(X_test,y_test),epochs=100, batch_size=32)"
   ]
  },
  {
   "cell_type": "markdown",
   "metadata": {},
   "source": [
    "# Predict the results using 0.5 as a threshold"
   ]
  },
  {
   "cell_type": "code",
   "execution_count": 94,
   "metadata": {},
   "outputs": [],
   "source": [
    "predications = model2.predict(X_test) #predicting"
   ]
  },
  {
   "cell_type": "code",
   "execution_count": 95,
   "metadata": {},
   "outputs": [
    {
     "data": {
      "text/plain": [
       "array([[0.04467261],\n",
       "       [0.02287269],\n",
       "       [0.14361641],\n",
       "       ...,\n",
       "       [0.05559593],\n",
       "       [0.01140234],\n",
       "       [0.08059168]], dtype=float32)"
      ]
     },
     "execution_count": 95,
     "metadata": {},
     "output_type": "execute_result"
    }
   ],
   "source": [
    "predications"
   ]
  },
  {
   "cell_type": "code",
   "execution_count": 96,
   "metadata": {},
   "outputs": [
    {
     "name": "stdout",
     "output_type": "stream",
     "text": [
      "[[False]\n",
      " [False]\n",
      " [False]\n",
      " ...\n",
      " [False]\n",
      " [False]\n",
      " [False]]\n"
     ]
    }
   ],
   "source": [
    "y_pred = (predications > 0.5) #we are taking 0.5 as a threshold to predict whether they are likely to exit or not\n",
    "print(y_pred)"
   ]
  },
  {
   "cell_type": "markdown",
   "metadata": {},
   "source": [
    "# Print the Accuracy score and confusion matrix"
   ]
  },
  {
   "cell_type": "code",
   "execution_count": 97,
   "metadata": {},
   "outputs": [],
   "source": [
    "from sklearn.metrics import confusion_matrix"
   ]
  },
  {
   "cell_type": "code",
   "execution_count": 98,
   "metadata": {},
   "outputs": [
    {
     "name": "stdout",
     "output_type": "stream",
     "text": [
      "[[2332   84]\n",
      " [ 308  276]]\n"
     ]
    }
   ],
   "source": [
    "cm = confusion_matrix(y_test, y_pred)\n",
    "print(cm)"
   ]
  },
  {
   "cell_type": "markdown",
   "metadata": {},
   "source": [
    "for calculating accuracy we are taking values which are correctly predicted, means values of the diagnols. We will sum tha values on the diagnol(2332+276)/3000 in this case.\n",
    "3000 total test samples"
   ]
  },
  {
   "cell_type": "code",
   "execution_count": 101,
   "metadata": {},
   "outputs": [
    {
     "name": "stdout",
     "output_type": "stream",
     "text": [
      "[86.93333333] % of testing data was classified correctly\n"
     ]
    }
   ],
   "source": [
    "print (((cm[0][0]+cm[1][1])*100)/y_test.shape, '% of testing data was classified correctly')"
   ]
  },
  {
   "cell_type": "code",
   "execution_count": null,
   "metadata": {},
   "outputs": [],
   "source": []
  }
 ],
 "metadata": {
  "kernelspec": {
   "display_name": "Python 3",
   "language": "python",
   "name": "python3"
  },
  "language_info": {
   "codemirror_mode": {
    "name": "ipython",
    "version": 3
   },
   "file_extension": ".py",
   "mimetype": "text/x-python",
   "name": "python",
   "nbconvert_exporter": "python",
   "pygments_lexer": "ipython3",
   "version": "3.7.4"
  }
 },
 "nbformat": 4,
 "nbformat_minor": 2
}
