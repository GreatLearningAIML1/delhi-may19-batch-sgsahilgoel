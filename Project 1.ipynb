{
 "cells": [
  {
   "cell_type": "code",
   "execution_count": 74,
   "metadata": {},
   "outputs": [],
   "source": [
    "import pandas as pd"
   ]
  },
  {
   "cell_type": "markdown",
   "metadata": {},
   "source": [
    "# Question 1 \n",
    "Read the data set and replace dashes with 0 to make sure you can perform arithmetic operations on the data"
   ]
  },
  {
   "cell_type": "code",
   "execution_count": 75,
   "metadata": {},
   "outputs": [],
   "source": [
    "data = pd.read_csv(\"Laliga.csv\")"
   ]
  },
  {
   "cell_type": "code",
   "execution_count": 76,
   "metadata": {},
   "outputs": [],
   "source": [
    "data.replace(\"-\",0,inplace=True)"
   ]
  },
  {
   "cell_type": "markdown",
   "metadata": {},
   "source": [
    "# Question 2\n",
    "Print all the teams which have started playing between 1930-1980"
   ]
  },
  {
   "cell_type": "code",
   "execution_count": 77,
   "metadata": {},
   "outputs": [],
   "source": [
    "debut = pd.to_numeric(data['Debut'].str.split(\"-\").str[0])"
   ]
  },
  {
   "cell_type": "code",
   "execution_count": 78,
   "metadata": {},
   "outputs": [],
   "source": [
    "indexes=debut[debut.between(1930,1980, inclusive=True)].index"
   ]
  },
  {
   "cell_type": "code",
   "execution_count": 79,
   "metadata": {},
   "outputs": [
    {
     "data": {
      "text/plain": [
       "3                Valencia\n",
       "5                 Sevilla\n",
       "8                Zaragoza\n",
       "9              Real Betis\n",
       "10    Deportivo La Coruna\n",
       "11             Celta Vigo\n",
       "12             Valladolid\n",
       "14         Sporting Gijon\n",
       "15                Osasuna\n",
       "16                 Malaga\n",
       "17                 Oviedo\n",
       "18               Mallorca\n",
       "19             Las Palmas\n",
       "21                Granada\n",
       "22         Rayo Vallecano\n",
       "23                  Elche\n",
       "25               Hercules\n",
       "26               Tenerife\n",
       "27                 Murcia\n",
       "28                 Alaves\n",
       "29                Levante\n",
       "30              Salamanca\n",
       "31               Sabadell\n",
       "32                  Cadiz\n",
       "34              Castellon\n",
       "37                Cordoba\n",
       "39             Recreativo\n",
       "40              Burgos CF\n",
       "41             Pontevedra\n",
       "46              Gimnastic\n",
       "49               Alcoyano\n",
       "50                   Jaen\n",
       "52             AD Almeria\n",
       "54                 Lleida\n",
       "57                 Condal\n",
       "58        Atletico Tetuan\n",
       "59       Cultural Leonesa\n",
       "Name: Team, dtype: object"
      ]
     },
     "execution_count": 79,
     "metadata": {},
     "output_type": "execute_result"
    }
   ],
   "source": [
    "data.iloc[indexes]['Team']"
   ]
  },
  {
   "cell_type": "markdown",
   "metadata": {},
   "source": [
    "# Question 3\n",
    "Print the list of teams which came Top 5 in terms of points"
   ]
  },
  {
   "cell_type": "code",
   "execution_count": 85,
   "metadata": {},
   "outputs": [],
   "source": [
    "data['Points'] = pd.to_numeric(data['Points'])"
   ]
  },
  {
   "cell_type": "code",
   "execution_count": 87,
   "metadata": {},
   "outputs": [
    {
     "data": {
      "text/plain": [
       "0        Real Madrid\n",
       "1          Barcelona\n",
       "2    Atletico Madrid\n",
       "3           Valencia\n",
       "4    Athletic Bilbao\n",
       "Name: Team, dtype: object"
      ]
     },
     "execution_count": 87,
     "metadata": {},
     "output_type": "execute_result"
    }
   ],
   "source": [
    "data.nlargest(5, 'Points')['Team']"
   ]
  },
  {
   "cell_type": "markdown",
   "metadata": {},
   "source": [
    "# Question 4\n",
    "Write a function with name “Goal_diff_count” which should return all the teams with their Goal Differences. "
   ]
  },
  {
   "cell_type": "code",
   "execution_count": 147,
   "metadata": {},
   "outputs": [],
   "source": [
    "def Goal_diff_count() :\n",
    "    result = []\n",
    "    for index, row in data.iterrows():\n",
    "        result.append((row['Team'], (pd.to_numeric(row['GoalsFor']) - pd.to_numeric(row['GoalsAgainst']))))\n",
    "    return result"
   ]
  },
  {
   "cell_type": "code",
   "execution_count": 148,
   "metadata": {},
   "outputs": [],
   "source": [
    "result = Goal_diff_count()"
   ]
  },
  {
   "cell_type": "code",
   "execution_count": 151,
   "metadata": {},
   "outputs": [],
   "source": [
    "maximum = result[0]\n",
    "minimum = result[0]"
   ]
  },
  {
   "cell_type": "code",
   "execution_count": 153,
   "metadata": {},
   "outputs": [
    {
     "name": "stdout",
     "output_type": "stream",
     "text": [
      "Maximum Difference Team : Real Madrid, Goal Diff: 2807\n",
      "Minimum Difference Team : Racing Santander, Goal Diff: -525\n"
     ]
    }
   ],
   "source": [
    "for item in result:\n",
    "    if (item[1] > maximum[1]):\n",
    "        maximum = item\n",
    "    if (item[1] < minimum[1]):\n",
    "        minimum = item\n",
    "print(\"Maximum Difference Team : %s, Goal Diff: %d\" %(maximum[0], maximum[1]))\n",
    "print(\"Minimum Difference Team : %s, Goal Diff: %d\" %(minimum[0], minimum[1]))"
   ]
  },
  {
   "cell_type": "markdown",
   "metadata": {},
   "source": [
    "# Question 5"
   ]
  },
  {
   "cell_type": "code",
   "execution_count": 154,
   "metadata": {},
   "outputs": [
    {
     "data": {
      "text/html": [
       "<div>\n",
       "<style scoped>\n",
       "    .dataframe tbody tr th:only-of-type {\n",
       "        vertical-align: middle;\n",
       "    }\n",
       "\n",
       "    .dataframe tbody tr th {\n",
       "        vertical-align: top;\n",
       "    }\n",
       "\n",
       "    .dataframe thead th {\n",
       "        text-align: right;\n",
       "    }\n",
       "</style>\n",
       "<table border=\"1\" class=\"dataframe\">\n",
       "  <thead>\n",
       "    <tr style=\"text-align: right;\">\n",
       "      <th></th>\n",
       "      <th>Pos</th>\n",
       "      <th>Team</th>\n",
       "      <th>Seasons</th>\n",
       "      <th>Points</th>\n",
       "      <th>GamesPlayed</th>\n",
       "      <th>GamesWon</th>\n",
       "      <th>GamesDrawn</th>\n",
       "      <th>GamesLost</th>\n",
       "      <th>GoalsFor</th>\n",
       "      <th>GoalsAgainst</th>\n",
       "      <th>Champion</th>\n",
       "      <th>Runner-up</th>\n",
       "      <th>Third</th>\n",
       "      <th>Fourth</th>\n",
       "      <th>Fifth</th>\n",
       "      <th>Sixth</th>\n",
       "      <th>T</th>\n",
       "      <th>Debut</th>\n",
       "      <th>Since/LastApp</th>\n",
       "      <th>BestPosition</th>\n",
       "    </tr>\n",
       "  </thead>\n",
       "  <tbody>\n",
       "    <tr>\n",
       "      <th>0</th>\n",
       "      <td>1</td>\n",
       "      <td>Real Madrid</td>\n",
       "      <td>86</td>\n",
       "      <td>4385</td>\n",
       "      <td>2762</td>\n",
       "      <td>1647</td>\n",
       "      <td>552</td>\n",
       "      <td>563</td>\n",
       "      <td>5947</td>\n",
       "      <td>3140</td>\n",
       "      <td>33</td>\n",
       "      <td>23</td>\n",
       "      <td>8</td>\n",
       "      <td>8</td>\n",
       "      <td>3</td>\n",
       "      <td>4</td>\n",
       "      <td>79</td>\n",
       "      <td>1929</td>\n",
       "      <td>1929</td>\n",
       "      <td>1</td>\n",
       "    </tr>\n",
       "    <tr>\n",
       "      <th>1</th>\n",
       "      <td>2</td>\n",
       "      <td>Barcelona</td>\n",
       "      <td>86</td>\n",
       "      <td>4262</td>\n",
       "      <td>2762</td>\n",
       "      <td>1581</td>\n",
       "      <td>573</td>\n",
       "      <td>608</td>\n",
       "      <td>5900</td>\n",
       "      <td>3114</td>\n",
       "      <td>25</td>\n",
       "      <td>25</td>\n",
       "      <td>12</td>\n",
       "      <td>12</td>\n",
       "      <td>4</td>\n",
       "      <td>6</td>\n",
       "      <td>83</td>\n",
       "      <td>1929</td>\n",
       "      <td>1929</td>\n",
       "      <td>1</td>\n",
       "    </tr>\n",
       "    <tr>\n",
       "      <th>2</th>\n",
       "      <td>3</td>\n",
       "      <td>Atletico Madrid</td>\n",
       "      <td>80</td>\n",
       "      <td>3442</td>\n",
       "      <td>2614</td>\n",
       "      <td>1241</td>\n",
       "      <td>598</td>\n",
       "      <td>775</td>\n",
       "      <td>4534</td>\n",
       "      <td>3309</td>\n",
       "      <td>10</td>\n",
       "      <td>8</td>\n",
       "      <td>16</td>\n",
       "      <td>9</td>\n",
       "      <td>7</td>\n",
       "      <td>6</td>\n",
       "      <td>56</td>\n",
       "      <td>1929</td>\n",
       "      <td>2002-03</td>\n",
       "      <td>1</td>\n",
       "    </tr>\n",
       "    <tr>\n",
       "      <th>3</th>\n",
       "      <td>4</td>\n",
       "      <td>Valencia</td>\n",
       "      <td>82</td>\n",
       "      <td>3386</td>\n",
       "      <td>2664</td>\n",
       "      <td>1187</td>\n",
       "      <td>616</td>\n",
       "      <td>861</td>\n",
       "      <td>4398</td>\n",
       "      <td>3469</td>\n",
       "      <td>6</td>\n",
       "      <td>6</td>\n",
       "      <td>10</td>\n",
       "      <td>11</td>\n",
       "      <td>10</td>\n",
       "      <td>7</td>\n",
       "      <td>50</td>\n",
       "      <td>1931-32</td>\n",
       "      <td>1987-88</td>\n",
       "      <td>1</td>\n",
       "    </tr>\n",
       "    <tr>\n",
       "      <th>4</th>\n",
       "      <td>5</td>\n",
       "      <td>Athletic Bilbao</td>\n",
       "      <td>86</td>\n",
       "      <td>3368</td>\n",
       "      <td>2762</td>\n",
       "      <td>1209</td>\n",
       "      <td>633</td>\n",
       "      <td>920</td>\n",
       "      <td>4631</td>\n",
       "      <td>3700</td>\n",
       "      <td>8</td>\n",
       "      <td>7</td>\n",
       "      <td>10</td>\n",
       "      <td>5</td>\n",
       "      <td>8</td>\n",
       "      <td>10</td>\n",
       "      <td>49</td>\n",
       "      <td>1929</td>\n",
       "      <td>1929</td>\n",
       "      <td>1</td>\n",
       "    </tr>\n",
       "  </tbody>\n",
       "</table>\n",
       "</div>"
      ],
      "text/plain": [
       "   Pos             Team  Seasons  Points GamesPlayed GamesWon GamesDrawn  \\\n",
       "0    1      Real Madrid       86    4385        2762     1647        552   \n",
       "1    2        Barcelona       86    4262        2762     1581        573   \n",
       "2    3  Atletico Madrid       80    3442        2614     1241        598   \n",
       "3    4         Valencia       82    3386        2664     1187        616   \n",
       "4    5  Athletic Bilbao       86    3368        2762     1209        633   \n",
       "\n",
       "  GamesLost GoalsFor GoalsAgainst Champion Runner-up Third Fourth Fifth Sixth  \\\n",
       "0       563     5947         3140       33        23     8      8     3     4   \n",
       "1       608     5900         3114       25        25    12     12     4     6   \n",
       "2       775     4534         3309       10         8    16      9     7     6   \n",
       "3       861     4398         3469        6         6    10     11    10     7   \n",
       "4       920     4631         3700        8         7    10      5     8    10   \n",
       "\n",
       "    T    Debut Since/LastApp  BestPosition  \n",
       "0  79     1929          1929             1  \n",
       "1  83     1929          1929             1  \n",
       "2  56     1929       2002-03             1  \n",
       "3  50  1931-32       1987-88             1  \n",
       "4  49     1929          1929             1  "
      ]
     },
     "execution_count": 154,
     "metadata": {},
     "output_type": "execute_result"
    }
   ],
   "source": [
    "data.head()"
   ]
  },
  {
   "cell_type": "code",
   "execution_count": 156,
   "metadata": {},
   "outputs": [],
   "source": [
    "data['Winning Percent'] = (pd.to_numeric(data['GamesWon']) / pd.to_numeric(data['GamesPlayed'])) * 100"
   ]
  },
  {
   "cell_type": "code",
   "execution_count": 159,
   "metadata": {},
   "outputs": [
    {
     "data": {
      "text/plain": [
       "0        Real Madrid\n",
       "1          Barcelona\n",
       "2    Atletico Madrid\n",
       "3           Valencia\n",
       "4    Athletic Bilbao\n",
       "Name: Team, dtype: object"
      ]
     },
     "execution_count": 159,
     "metadata": {},
     "output_type": "execute_result"
    }
   ],
   "source": [
    "data.nlargest(5, 'Winning Percent')['Team']"
   ]
  },
  {
   "cell_type": "markdown",
   "metadata": {},
   "source": [
    "# Question 6"
   ]
  },
  {
   "cell_type": "code",
   "execution_count": 175,
   "metadata": {},
   "outputs": [
    {
     "data": {
      "text/plain": [
       "BestPosition\n",
       "1     27933\n",
       "2      6904\n",
       "3      5221\n",
       "4      6563\n",
       "5      1884\n",
       "6      2113\n",
       "7      1186\n",
       "8      1134\n",
       "9        96\n",
       "10      450\n",
       "11      445\n",
       "12      511\n",
       "14       71\n",
       "15       14\n",
       "16       81\n",
       "17      266\n",
       "19       81\n",
       "20       34\n",
       "Name: Points, dtype: int64"
      ]
     },
     "execution_count": 175,
     "metadata": {},
     "output_type": "execute_result"
    }
   ],
   "source": [
    "data.groupby(['BestPosition']).sum().iloc[:,2]"
   ]
  },
  {
   "cell_type": "code",
   "execution_count": null,
   "metadata": {},
   "outputs": [],
   "source": []
  }
 ],
 "metadata": {
  "kernelspec": {
   "display_name": "Python 3",
   "language": "python",
   "name": "python3"
  },
  "language_info": {
   "codemirror_mode": {
    "name": "ipython",
    "version": 3
   },
   "file_extension": ".py",
   "mimetype": "text/x-python",
   "name": "python",
   "nbconvert_exporter": "python",
   "pygments_lexer": "ipython3",
   "version": "3.7.3"
  }
 },
 "nbformat": 4,
 "nbformat_minor": 2
}
