{
  "nbformat": 4,
  "nbformat_minor": 0,
  "metadata": {
    "colab": {
      "name": "R6_Internal_Lab.ipynb",
      "provenance": [],
      "collapsed_sections": []
    },
    "kernelspec": {
      "name": "python3",
      "display_name": "Python 3"
    },
    "language_info": {
      "codemirror_mode": {
        "name": "ipython",
        "version": 3
      },
      "file_extension": ".py",
      "mimetype": "text/x-python",
      "name": "python",
      "nbconvert_exporter": "python",
      "pygments_lexer": "ipython3",
      "version": "3.7.4"
    }
  },
  "cells": [
    {
      "cell_type": "markdown",
      "metadata": {
        "colab_type": "text",
        "id": "84Q8JfvaeZZ6"
      },
      "source": [
        "## Linear Classifier in TensorFlow \n",
        "Using Low Level API in Eager Execution mode"
      ]
    },
    {
      "cell_type": "markdown",
      "metadata": {
        "colab_type": "text",
        "id": "sb7Epo0VOB58"
      },
      "source": [
        "### Load tensorflow"
      ]
    },
    {
      "cell_type": "code",
      "metadata": {
        "id": "nhddjVk3o9Qu",
        "colab_type": "code",
        "colab": {
          "base_uri": "https://localhost:8080/",
          "height": 118
        },
        "outputId": "2565b9b3-0425-42c1-b13d-42b71f63b270"
      },
      "source": [
        "!pip install -U tensorflow --quiet"
      ],
      "execution_count": 32,
      "outputs": [
        {
          "output_type": "stream",
          "text": [
            "\u001b[K     |████████████████████████████████| 86.3MB 40kB/s \n",
            "\u001b[K     |████████████████████████████████| 3.8MB 29.4MB/s \n",
            "\u001b[K     |████████████████████████████████| 450kB 49.2MB/s \n",
            "\u001b[K     |████████████████████████████████| 81kB 8.6MB/s \n",
            "\u001b[31mERROR: tensorboard 2.0.1 has requirement grpcio>=1.24.3, but you'll have grpcio 1.15.0 which is incompatible.\u001b[0m\n",
            "\u001b[31mERROR: google-colab 1.0.0 has requirement google-auth~=1.4.0, but you'll have google-auth 1.6.3 which is incompatible.\u001b[0m\n",
            "\u001b[?25h"
          ],
          "name": "stdout"
        }
      ]
    },
    {
      "cell_type": "code",
      "metadata": {
        "colab_type": "code",
        "id": "fHpCNRv1OB5-",
        "colab": {}
      },
      "source": [
        "import tensorflow as tf\n",
        "tf.enable_eager_execution()"
      ],
      "execution_count": 0,
      "outputs": []
    },
    {
      "cell_type": "code",
      "metadata": {
        "colab_type": "code",
        "id": "Mjtb-EMcm5K0",
        "colab": {}
      },
      "source": [
        "#Enable Eager Execution if using tensflow version < 2.0\n",
        "#From tensorflow v2.0 onwards, Eager Execution will be enabled by default\n"
      ],
      "execution_count": 0,
      "outputs": []
    },
    {
      "cell_type": "markdown",
      "metadata": {
        "colab_type": "text",
        "id": "DxJDmJqqOB6K"
      },
      "source": [
        "### Collect Data"
      ]
    },
    {
      "cell_type": "code",
      "metadata": {
        "id": "O3nhg6YQdWZr",
        "colab_type": "code",
        "colab": {
          "base_uri": "https://localhost:8080/",
          "height": 34
        },
        "outputId": "aae58cfc-2580-4182-bec0-632dc913c50b"
      },
      "source": [
        "from google.colab import drive\n",
        "drive.mount('/gdrive', force_remount=True)"
      ],
      "execution_count": 50,
      "outputs": [
        {
          "output_type": "stream",
          "text": [
            "Mounted at /gdrive\n"
          ],
          "name": "stdout"
        }
      ]
    },
    {
      "cell_type": "code",
      "metadata": {
        "colab_type": "code",
        "id": "KiObW4V4SIOz",
        "colab": {}
      },
      "source": [
        "import pandas as pd"
      ],
      "execution_count": 0,
      "outputs": []
    },
    {
      "cell_type": "code",
      "metadata": {
        "colab_type": "code",
        "id": "B4yQKMiJOB6R",
        "colab": {}
      },
      "source": [
        "data = pd.read_csv('/gdrive/My Drive/AIML (1)/R6/prices.csv')"
      ],
      "execution_count": 0,
      "outputs": []
    },
    {
      "cell_type": "markdown",
      "metadata": {
        "colab_type": "text",
        "id": "fgkX6SEqOB6W"
      },
      "source": [
        "### Check all columns in the dataset"
      ]
    },
    {
      "cell_type": "code",
      "metadata": {
        "colab_type": "code",
        "id": "7K8pWsNQOB6X",
        "colab": {
          "base_uri": "https://localhost:8080/",
          "height": 34
        },
        "outputId": "a2dda718-95d2-4d5f-bb8a-d59ac434a802"
      },
      "source": [
        "data.columns"
      ],
      "execution_count": 55,
      "outputs": [
        {
          "output_type": "execute_result",
          "data": {
            "text/plain": [
              "Index(['date', 'symbol', 'open', 'close', 'low', 'high', 'volume'], dtype='object')"
            ]
          },
          "metadata": {
            "tags": []
          },
          "execution_count": 55
        }
      ]
    },
    {
      "cell_type": "markdown",
      "metadata": {
        "colab_type": "text",
        "id": "7dU6X7MpOB6c"
      },
      "source": [
        "### Drop columns `date` and  `symbol`"
      ]
    },
    {
      "cell_type": "code",
      "metadata": {
        "colab_type": "code",
        "id": "lh_6spSKOB6e",
        "colab": {}
      },
      "source": [
        "data = data.drop(columns=['date','symbol'], axis=1)"
      ],
      "execution_count": 0,
      "outputs": []
    },
    {
      "cell_type": "code",
      "metadata": {
        "colab_type": "code",
        "id": "xlwbUgTwOB6i",
        "outputId": "9ebb6f7b-d871-4073-ba24-e8fff006b091",
        "colab": {
          "base_uri": "https://localhost:8080/",
          "height": 195
        }
      },
      "source": [
        "data.head()"
      ],
      "execution_count": 57,
      "outputs": [
        {
          "output_type": "execute_result",
          "data": {
            "text/html": [
              "<div>\n",
              "<style scoped>\n",
              "    .dataframe tbody tr th:only-of-type {\n",
              "        vertical-align: middle;\n",
              "    }\n",
              "\n",
              "    .dataframe tbody tr th {\n",
              "        vertical-align: top;\n",
              "    }\n",
              "\n",
              "    .dataframe thead th {\n",
              "        text-align: right;\n",
              "    }\n",
              "</style>\n",
              "<table border=\"1\" class=\"dataframe\">\n",
              "  <thead>\n",
              "    <tr style=\"text-align: right;\">\n",
              "      <th></th>\n",
              "      <th>open</th>\n",
              "      <th>close</th>\n",
              "      <th>low</th>\n",
              "      <th>high</th>\n",
              "      <th>volume</th>\n",
              "    </tr>\n",
              "  </thead>\n",
              "  <tbody>\n",
              "    <tr>\n",
              "      <th>0</th>\n",
              "      <td>123.430000</td>\n",
              "      <td>125.839996</td>\n",
              "      <td>122.309998</td>\n",
              "      <td>126.250000</td>\n",
              "      <td>2163600.0</td>\n",
              "    </tr>\n",
              "    <tr>\n",
              "      <th>1</th>\n",
              "      <td>125.239998</td>\n",
              "      <td>119.980003</td>\n",
              "      <td>119.940002</td>\n",
              "      <td>125.540001</td>\n",
              "      <td>2386400.0</td>\n",
              "    </tr>\n",
              "    <tr>\n",
              "      <th>2</th>\n",
              "      <td>116.379997</td>\n",
              "      <td>114.949997</td>\n",
              "      <td>114.930000</td>\n",
              "      <td>119.739998</td>\n",
              "      <td>2489500.0</td>\n",
              "    </tr>\n",
              "    <tr>\n",
              "      <th>3</th>\n",
              "      <td>115.480003</td>\n",
              "      <td>116.620003</td>\n",
              "      <td>113.500000</td>\n",
              "      <td>117.440002</td>\n",
              "      <td>2006300.0</td>\n",
              "    </tr>\n",
              "    <tr>\n",
              "      <th>4</th>\n",
              "      <td>117.010002</td>\n",
              "      <td>114.970001</td>\n",
              "      <td>114.089996</td>\n",
              "      <td>117.330002</td>\n",
              "      <td>1408600.0</td>\n",
              "    </tr>\n",
              "  </tbody>\n",
              "</table>\n",
              "</div>"
            ],
            "text/plain": [
              "         open       close         low        high     volume\n",
              "0  123.430000  125.839996  122.309998  126.250000  2163600.0\n",
              "1  125.239998  119.980003  119.940002  125.540001  2386400.0\n",
              "2  116.379997  114.949997  114.930000  119.739998  2489500.0\n",
              "3  115.480003  116.620003  113.500000  117.440002  2006300.0\n",
              "4  117.010002  114.970001  114.089996  117.330002  1408600.0"
            ]
          },
          "metadata": {
            "tags": []
          },
          "execution_count": 57
        }
      ]
    },
    {
      "cell_type": "markdown",
      "metadata": {
        "colab_type": "text",
        "id": "3DBv3WWYOB6q"
      },
      "source": [
        "### Consider only first 1000 rows in the dataset for building feature set and target set\n",
        "Target 'Volume' has very high values. Divide 'Volume' by 1000,000"
      ]
    },
    {
      "cell_type": "code",
      "metadata": {
        "colab_type": "code",
        "id": "Z_hG9rGBOB6s",
        "colab": {
          "base_uri": "https://localhost:8080/",
          "height": 34
        },
        "outputId": "d415b789-dcbd-4f3e-deb8-c19a54bb5559"
      },
      "source": [
        "X = data.iloc[0:1000, 0:4]\n",
        "X.shape"
      ],
      "execution_count": 58,
      "outputs": [
        {
          "output_type": "execute_result",
          "data": {
            "text/plain": [
              "(1000, 4)"
            ]
          },
          "metadata": {
            "tags": []
          },
          "execution_count": 58
        }
      ]
    },
    {
      "cell_type": "code",
      "metadata": {
        "id": "4PLZ9y6mgtL_",
        "colab_type": "code",
        "colab": {
          "base_uri": "https://localhost:8080/",
          "height": 34
        },
        "outputId": "7b6296ab-ad15-4c68-e4ee-44687bfbc11c"
      },
      "source": [
        "Y = data.iloc[0:1000, 4]\n",
        "Y.shape"
      ],
      "execution_count": 59,
      "outputs": [
        {
          "output_type": "execute_result",
          "data": {
            "text/plain": [
              "(1000,)"
            ]
          },
          "metadata": {
            "tags": []
          },
          "execution_count": 59
        }
      ]
    },
    {
      "cell_type": "code",
      "metadata": {
        "id": "HlkRDp7rgtPC",
        "colab_type": "code",
        "colab": {}
      },
      "source": [
        "Y = Y/1000000"
      ],
      "execution_count": 0,
      "outputs": []
    },
    {
      "cell_type": "code",
      "metadata": {
        "id": "tG8l5eRkgtRp",
        "colab_type": "code",
        "colab": {
          "base_uri": "https://localhost:8080/",
          "height": 118
        },
        "outputId": "db37e9d5-bfac-4856-affd-16e0410beafe"
      },
      "source": [
        "Y.head()"
      ],
      "execution_count": 61,
      "outputs": [
        {
          "output_type": "execute_result",
          "data": {
            "text/plain": [
              "0    2.1636\n",
              "1    2.3864\n",
              "2    2.4895\n",
              "3    2.0063\n",
              "4    1.4086\n",
              "Name: volume, dtype: float64"
            ]
          },
          "metadata": {
            "tags": []
          },
          "execution_count": 61
        }
      ]
    },
    {
      "cell_type": "markdown",
      "metadata": {
        "colab_type": "text",
        "id": "M3UaApqYOB6x"
      },
      "source": [
        "### Divide the data into train and test sets"
      ]
    },
    {
      "cell_type": "code",
      "metadata": {
        "colab_type": "code",
        "id": "4LE4U8lTdQJq",
        "colab": {}
      },
      "source": [
        "from sklearn.model_selection import train_test_split\n",
        "import numpy as np"
      ],
      "execution_count": 0,
      "outputs": []
    },
    {
      "cell_type": "markdown",
      "metadata": {
        "colab_type": "text",
        "id": "oYK-aUuLbrz2"
      },
      "source": [
        "#### Convert Training and Test Data to numpy float32 arrays\n"
      ]
    },
    {
      "cell_type": "code",
      "metadata": {
        "id": "_zLe4ju1kYPp",
        "colab_type": "code",
        "colab": {}
      },
      "source": [
        "X = np.array(X)\n",
        "Y = np.array(Y)"
      ],
      "execution_count": 0,
      "outputs": []
    },
    {
      "cell_type": "code",
      "metadata": {
        "colab_type": "code",
        "id": "Ao-S0tQGcncz",
        "colab": {}
      },
      "source": [
        "X_train, X_test, Y_train,  Y_test = train_test_split(X, Y, test_size=0.3)"
      ],
      "execution_count": 0,
      "outputs": []
    },
    {
      "cell_type": "code",
      "metadata": {
        "id": "ZnopmEEQjmy5",
        "colab_type": "code",
        "colab": {}
      },
      "source": [
        "X_train = X_train.astype('float32')\n",
        "Y_train = Y_train.astype('float32')\n",
        "X_test = X_test.astype('float32')\n",
        "Y_test = Y_test.astype('float32')"
      ],
      "execution_count": 0,
      "outputs": []
    },
    {
      "cell_type": "code",
      "metadata": {
        "id": "eVSY5MI5lSX7",
        "colab_type": "code",
        "colab": {
          "base_uri": "https://localhost:8080/",
          "height": 134
        },
        "outputId": "e1a67c34-8447-4731-c9ec-ac440b5b8ed8"
      },
      "source": [
        "X_train"
      ],
      "execution_count": 66,
      "outputs": [
        {
          "output_type": "execute_result",
          "data": {
            "text/plain": [
              "array([[ 26.42,  26.5 ,  26.42,  26.7 ],\n",
              "       [ 31.78,  30.87,  30.25,  31.78],\n",
              "       [ 85.42,  89.25,  85.  ,  89.38],\n",
              "       ...,\n",
              "       [105.63, 107.13, 104.11, 109.26],\n",
              "       [ 65.  ,  65.89,  64.96,  66.  ],\n",
              "       [113.38, 114.05, 109.64, 114.64]], dtype=float32)"
            ]
          },
          "metadata": {
            "tags": []
          },
          "execution_count": 66
        }
      ]
    },
    {
      "cell_type": "markdown",
      "metadata": {
        "colab_type": "text",
        "id": "im1ZegbDdKgv"
      },
      "source": [
        "### Normalize the data\n",
        "You can use Normalizer from sklearn.preprocessing"
      ]
    },
    {
      "cell_type": "code",
      "metadata": {
        "colab_type": "code",
        "id": "2EkKAy7fOB6y",
        "colab": {}
      },
      "source": [
        "from sklearn.preprocessing import Normalizer"
      ],
      "execution_count": 0,
      "outputs": []
    },
    {
      "cell_type": "code",
      "metadata": {
        "id": "jMXTfY4FiImE",
        "colab_type": "code",
        "colab": {
          "base_uri": "https://localhost:8080/",
          "height": 134
        },
        "outputId": "b2f6c5e3-37fb-4d95-d534-d5ea3891edea"
      },
      "source": [
        "X_train_std = Normalizer().transform(X_train)\n",
        "X_train_std"
      ],
      "execution_count": 68,
      "outputs": [
        {
          "output_type": "execute_result",
          "data": {
            "text/plain": [
              "array([[0.49829787, 0.4998067 , 0.49829787, 0.50357884],\n",
              "       [0.50967485, 0.49508062, 0.4851373 , 0.50967485],\n",
              "       [0.48930666, 0.51124585, 0.4869008 , 0.5119905 ],\n",
              "       ...,\n",
              "       [0.49568516, 0.5027242 , 0.48855233, 0.5127195 ],\n",
              "       [0.49645388, 0.5032515 , 0.49614838, 0.5040916 ],\n",
              "       [0.5019287 , 0.5048948 , 0.48537186, 0.50750667]], dtype=float32)"
            ]
          },
          "metadata": {
            "tags": []
          },
          "execution_count": 68
        }
      ]
    },
    {
      "cell_type": "markdown",
      "metadata": {
        "colab_type": "text",
        "id": "v6vE4eYCOB62"
      },
      "source": [
        "## Building the Model in tensorflow"
      ]
    },
    {
      "cell_type": "markdown",
      "metadata": {
        "colab_type": "text",
        "id": "297_qja4OB7A"
      },
      "source": [
        "1.Define Weights and Bias, use tf.zeros to initialize weights and Bias"
      ]
    },
    {
      "cell_type": "code",
      "metadata": {
        "colab_type": "code",
        "id": "L205qPeQOB7B",
        "colab": {}
      },
      "source": [
        "w = tf.zeros(shape=(4,1))\n",
        "b = tf.zeros(shape=(1))"
      ],
      "execution_count": 0,
      "outputs": []
    },
    {
      "cell_type": "markdown",
      "metadata": {
        "colab_type": "text",
        "id": "HgtWA-UIOB7F"
      },
      "source": [
        "2.Define a function to calculate prediction"
      ]
    },
    {
      "cell_type": "code",
      "metadata": {
        "colab_type": "code",
        "id": "JveGlx25OB7H",
        "colab": {}
      },
      "source": [
        "def prediction(x, w, b):\n",
        "    \n",
        "    xw_matmul = tf.matmul(x, w)\n",
        "    y = tf.add(xw_matmul, b)\n",
        "    \n",
        "    return y"
      ],
      "execution_count": 0,
      "outputs": []
    },
    {
      "cell_type": "markdown",
      "metadata": {
        "colab_type": "text",
        "id": "TL1hIwf_OB7M"
      },
      "source": [
        "3.Loss (Cost) Function [Mean square error]"
      ]
    },
    {
      "cell_type": "code",
      "metadata": {
        "colab_type": "code",
        "id": "8VSWPiGXOB7P",
        "colab": {}
      },
      "source": [
        "def loss(y_actual, y_predicted):\n",
        "    \n",
        "    diff = y_actual - y_predicted\n",
        "    sqr = tf.square(diff)\n",
        "    avg = tf.reduce_mean(sqr)\n",
        "    \n",
        "    return avg"
      ],
      "execution_count": 0,
      "outputs": []
    },
    {
      "cell_type": "markdown",
      "metadata": {
        "colab_type": "text",
        "id": "jzG85FUlOB7U"
      },
      "source": [
        "4.Function to train the Model\n",
        "\n",
        "1.   Record all the mathematical steps to calculate Loss\n",
        "2.   Calculate Gradients of Loss w.r.t weights and bias\n",
        "3.   Update Weights and Bias based on gradients and learning rate to minimize loss"
      ]
    },
    {
      "cell_type": "code",
      "metadata": {
        "colab_type": "code",
        "id": "cj802w-3OB7X",
        "colab": {}
      },
      "source": [
        "def train(x, y_actual, w, b, learning_rate=0.01):\n",
        "    \n",
        "    #Record mathematical operations on 'tape' to calculate loss\n",
        "    with tf.GradientTape() as t:\n",
        "        \n",
        "        t.watch([w,b])\n",
        "        \n",
        "        current_prediction = prediction(x, w, b)\n",
        "        current_loss = loss(y_actual, current_prediction)\n",
        "    \n",
        "    #Calculate Gradients for Loss with respect to Weights and Bias\n",
        "    dw, db = t.gradient(current_loss,[w, b])\n",
        "    \n",
        "    #Update Weights and Bias\n",
        "    w = w - learning_rate*dw\n",
        "    b = b - learning_rate*db\n",
        "    \n",
        "    return w, b"
      ],
      "execution_count": 0,
      "outputs": []
    },
    {
      "cell_type": "markdown",
      "metadata": {
        "colab_type": "text",
        "id": "xSypb_u8OB7e"
      },
      "source": [
        "## Train the model for 100 epochs \n",
        "1. Observe the training loss at every iteration\n",
        "2. Observe Train loss at every 5th iteration"
      ]
    },
    {
      "cell_type": "code",
      "metadata": {
        "colab_type": "code",
        "id": "DVvgj7eQOB7f",
        "colab": {
          "base_uri": "https://localhost:8080/",
          "height": 1000
        },
        "outputId": "c3bd9361-bf9f-4292-d099-435c9127c52f"
      },
      "source": [
        "for i in range(100):\n",
        "    w, b = train(X_train_std, Y_train, w, b, learning_rate=0.01)\n",
        "    print('Current Loss on iteration', i, loss(Y_train, prediction(X_train_std, w, b)).numpy())"
      ],
      "execution_count": 79,
      "outputs": [
        {
          "output_type": "stream",
          "text": [
            "Current Loss on iteration 0 217.39024\n",
            "Current Loss on iteration 1 217.39024\n",
            "Current Loss on iteration 2 217.3902\n",
            "Current Loss on iteration 3 217.39024\n",
            "Current Loss on iteration 4 217.39027\n",
            "Current Loss on iteration 5 217.39027\n",
            "Current Loss on iteration 6 217.39027\n",
            "Current Loss on iteration 7 217.39027\n",
            "Current Loss on iteration 8 217.3903\n",
            "Current Loss on iteration 9 217.39027\n",
            "Current Loss on iteration 10 217.39027\n",
            "Current Loss on iteration 11 217.3903\n",
            "Current Loss on iteration 12 217.3903\n",
            "Current Loss on iteration 13 217.39034\n",
            "Current Loss on iteration 14 217.39034\n",
            "Current Loss on iteration 15 217.39034\n",
            "Current Loss on iteration 16 217.39034\n",
            "Current Loss on iteration 17 217.39035\n",
            "Current Loss on iteration 18 217.39037\n",
            "Current Loss on iteration 19 217.39034\n",
            "Current Loss on iteration 20 217.39037\n",
            "Current Loss on iteration 21 217.39037\n",
            "Current Loss on iteration 22 217.39038\n",
            "Current Loss on iteration 23 217.3904\n",
            "Current Loss on iteration 24 217.3904\n",
            "Current Loss on iteration 25 217.3904\n",
            "Current Loss on iteration 26 217.39037\n",
            "Current Loss on iteration 27 217.39037\n",
            "Current Loss on iteration 28 217.39037\n",
            "Current Loss on iteration 29 217.39035\n",
            "Current Loss on iteration 30 217.39037\n",
            "Current Loss on iteration 31 217.39034\n",
            "Current Loss on iteration 32 217.39034\n",
            "Current Loss on iteration 33 217.39034\n",
            "Current Loss on iteration 34 217.39034\n",
            "Current Loss on iteration 35 217.39034\n",
            "Current Loss on iteration 36 217.39037\n",
            "Current Loss on iteration 37 217.39035\n",
            "Current Loss on iteration 38 217.39034\n",
            "Current Loss on iteration 39 217.39034\n",
            "Current Loss on iteration 40 217.39035\n",
            "Current Loss on iteration 41 217.39037\n",
            "Current Loss on iteration 42 217.39037\n",
            "Current Loss on iteration 43 217.39037\n",
            "Current Loss on iteration 44 217.39034\n",
            "Current Loss on iteration 45 217.39034\n",
            "Current Loss on iteration 46 217.39034\n",
            "Current Loss on iteration 47 217.39035\n",
            "Current Loss on iteration 48 217.39034\n",
            "Current Loss on iteration 49 217.39037\n",
            "Current Loss on iteration 50 217.39035\n",
            "Current Loss on iteration 51 217.39037\n",
            "Current Loss on iteration 52 217.39037\n",
            "Current Loss on iteration 53 217.39037\n",
            "Current Loss on iteration 54 217.39037\n",
            "Current Loss on iteration 55 217.39037\n",
            "Current Loss on iteration 56 217.39037\n",
            "Current Loss on iteration 57 217.39037\n",
            "Current Loss on iteration 58 217.39037\n",
            "Current Loss on iteration 59 217.39037\n",
            "Current Loss on iteration 60 217.39037\n",
            "Current Loss on iteration 61 217.39037\n",
            "Current Loss on iteration 62 217.39037\n",
            "Current Loss on iteration 63 217.39037\n",
            "Current Loss on iteration 64 217.39037\n",
            "Current Loss on iteration 65 217.39037\n",
            "Current Loss on iteration 66 217.39037\n",
            "Current Loss on iteration 67 217.39037\n",
            "Current Loss on iteration 68 217.39035\n",
            "Current Loss on iteration 69 217.39034\n",
            "Current Loss on iteration 70 217.39034\n",
            "Current Loss on iteration 71 217.39034\n",
            "Current Loss on iteration 72 217.39034\n",
            "Current Loss on iteration 73 217.39034\n",
            "Current Loss on iteration 74 217.39035\n",
            "Current Loss on iteration 75 217.39034\n",
            "Current Loss on iteration 76 217.39034\n",
            "Current Loss on iteration 77 217.39034\n",
            "Current Loss on iteration 78 217.39034\n",
            "Current Loss on iteration 79 217.39034\n",
            "Current Loss on iteration 80 217.39034\n",
            "Current Loss on iteration 81 217.39034\n",
            "Current Loss on iteration 82 217.39034\n",
            "Current Loss on iteration 83 217.39034\n",
            "Current Loss on iteration 84 217.39034\n",
            "Current Loss on iteration 85 217.39034\n",
            "Current Loss on iteration 86 217.39034\n",
            "Current Loss on iteration 87 217.39034\n",
            "Current Loss on iteration 88 217.39034\n",
            "Current Loss on iteration 89 217.39034\n",
            "Current Loss on iteration 90 217.39034\n",
            "Current Loss on iteration 91 217.39034\n",
            "Current Loss on iteration 92 217.39034\n",
            "Current Loss on iteration 93 217.39034\n",
            "Current Loss on iteration 94 217.39034\n",
            "Current Loss on iteration 95 217.39034\n",
            "Current Loss on iteration 96 217.39034\n",
            "Current Loss on iteration 97 217.39034\n",
            "Current Loss on iteration 98 217.39034\n",
            "Current Loss on iteration 99 217.39034\n"
          ],
          "name": "stdout"
        }
      ]
    },
    {
      "cell_type": "markdown",
      "metadata": {
        "colab_type": "text",
        "id": "DOL2ncA1OB7q"
      },
      "source": [
        "### Get the shapes and values of W and b"
      ]
    },
    {
      "cell_type": "code",
      "metadata": {
        "colab_type": "code",
        "id": "ZGvtyTeuOB7r",
        "colab": {
          "base_uri": "https://localhost:8080/",
          "height": 84
        },
        "outputId": "fbe8f4b9-b6c2-47bb-ac3f-666555784cc8"
      },
      "source": [
        "w.numpy()"
      ],
      "execution_count": 80,
      "outputs": [
        {
          "output_type": "execute_result",
          "data": {
            "text/plain": [
              "array([[1.3375262],\n",
              "       [1.3421087],\n",
              "       [1.3240651],\n",
              "       [1.3534039]], dtype=float32)"
            ]
          },
          "metadata": {
            "tags": []
          },
          "execution_count": 80
        }
      ]
    },
    {
      "cell_type": "code",
      "metadata": {
        "id": "4rbKngQ0sOci",
        "colab_type": "code",
        "colab": {
          "base_uri": "https://localhost:8080/",
          "height": 34
        },
        "outputId": "73f8eff5-475e-49bc-d7dc-608bf00b4785"
      },
      "source": [
        "w.shape"
      ],
      "execution_count": 81,
      "outputs": [
        {
          "output_type": "execute_result",
          "data": {
            "text/plain": [
              "TensorShape([Dimension(4), Dimension(1)])"
            ]
          },
          "metadata": {
            "tags": []
          },
          "execution_count": 81
        }
      ]
    },
    {
      "cell_type": "code",
      "metadata": {
        "colab_type": "code",
        "id": "vhDtOv5UOB7x",
        "colab": {
          "base_uri": "https://localhost:8080/",
          "height": 34
        },
        "outputId": "422e92aa-0cd7-40e6-f157-f94c2cd62ddd"
      },
      "source": [
        "b.numpy()"
      ],
      "execution_count": 82,
      "outputs": [
        {
          "output_type": "execute_result",
          "data": {
            "text/plain": [
              "array([2.6786962], dtype=float32)"
            ]
          },
          "metadata": {
            "tags": []
          },
          "execution_count": 82
        }
      ]
    },
    {
      "cell_type": "code",
      "metadata": {
        "id": "O_GPJ54ssQ09",
        "colab_type": "code",
        "colab": {
          "base_uri": "https://localhost:8080/",
          "height": 34
        },
        "outputId": "04e5184c-8092-4409-e08a-5af7057b4425"
      },
      "source": [
        "b.shape"
      ],
      "execution_count": 83,
      "outputs": [
        {
          "output_type": "execute_result",
          "data": {
            "text/plain": [
              "TensorShape([Dimension(1)])"
            ]
          },
          "metadata": {
            "tags": []
          },
          "execution_count": 83
        }
      ]
    },
    {
      "cell_type": "markdown",
      "metadata": {
        "colab_type": "text",
        "id": "ERq9GOKKciho"
      },
      "source": [
        "### Model Prediction on 1st Examples in Test Dataset"
      ]
    },
    {
      "cell_type": "code",
      "metadata": {
        "id": "IywnU1ZTtkxV",
        "colab_type": "code",
        "colab": {
          "base_uri": "https://localhost:8080/",
          "height": 134
        },
        "outputId": "48959157-3970-4855-8958-6d2b25c1550a"
      },
      "source": [
        "X_test_std = Normalizer().transform(X_test)\n",
        "X_test_std"
      ],
      "execution_count": 86,
      "outputs": [
        {
          "output_type": "execute_result",
          "data": {
            "text/plain": [
              "array([[0.5057782 , 0.49689114, 0.49140206, 0.5057782 ],\n",
              "       [0.49297348, 0.5073806 , 0.49172068, 0.50769377],\n",
              "       [0.49875224, 0.50414675, 0.49286726, 0.50414675],\n",
              "       ...,\n",
              "       [0.49641898, 0.50467783, 0.49359888, 0.5052016 ],\n",
              "       [0.49435553, 0.503537  , 0.49435553, 0.50761765],\n",
              "       [0.5006318 , 0.50109345, 0.49705422, 0.50120884]], dtype=float32)"
            ]
          },
          "metadata": {
            "tags": []
          },
          "execution_count": 86
        }
      ]
    },
    {
      "cell_type": "code",
      "metadata": {
        "colab_type": "code",
        "id": "gKGvUWahcihp",
        "colab": {
          "base_uri": "https://localhost:8080/",
          "height": 34
        },
        "outputId": "3dab6241-2f2d-4101-8dc4-e9279c5f4207"
      },
      "source": [
        "prediction(X_test_std,w,b)[0]"
      ],
      "execution_count": 103,
      "outputs": [
        {
          "output_type": "execute_result",
          "data": {
            "text/plain": [
              "<tf.Tensor: id=14136, shape=(1,), dtype=float32, numpy=array([5.35724], dtype=float32)>"
            ]
          },
          "metadata": {
            "tags": []
          },
          "execution_count": 103
        }
      ]
    },
    {
      "cell_type": "markdown",
      "metadata": {
        "colab_type": "text",
        "id": "YJRBuqXhOB7_"
      },
      "source": [
        "## Classification using tf.Keras\n",
        "\n",
        "In this exercise, we will build a Deep Neural Network using tf.Keras. We will use Iris Dataset for this exercise."
      ]
    },
    {
      "cell_type": "markdown",
      "metadata": {
        "colab_type": "text",
        "id": "O0g6lorycihf"
      },
      "source": [
        "### Load the given Iris data using pandas (Iris.csv)"
      ]
    },
    {
      "cell_type": "code",
      "metadata": {
        "colab_type": "code",
        "id": "6xFvb5sRcihg",
        "colab": {
          "base_uri": "https://localhost:8080/",
          "height": 195
        },
        "outputId": "33481778-84c9-4390-b71b-dbec87cedaab"
      },
      "source": [
        "iris = pd.read_csv('/gdrive/My Drive/AIML (1)/R6/Iris.csv')\n",
        "iris.head()"
      ],
      "execution_count": 137,
      "outputs": [
        {
          "output_type": "execute_result",
          "data": {
            "text/html": [
              "<div>\n",
              "<style scoped>\n",
              "    .dataframe tbody tr th:only-of-type {\n",
              "        vertical-align: middle;\n",
              "    }\n",
              "\n",
              "    .dataframe tbody tr th {\n",
              "        vertical-align: top;\n",
              "    }\n",
              "\n",
              "    .dataframe thead th {\n",
              "        text-align: right;\n",
              "    }\n",
              "</style>\n",
              "<table border=\"1\" class=\"dataframe\">\n",
              "  <thead>\n",
              "    <tr style=\"text-align: right;\">\n",
              "      <th></th>\n",
              "      <th>Id</th>\n",
              "      <th>SepalLengthCm</th>\n",
              "      <th>SepalWidthCm</th>\n",
              "      <th>PetalLengthCm</th>\n",
              "      <th>PetalWidthCm</th>\n",
              "      <th>Species</th>\n",
              "    </tr>\n",
              "  </thead>\n",
              "  <tbody>\n",
              "    <tr>\n",
              "      <th>0</th>\n",
              "      <td>1</td>\n",
              "      <td>5.1</td>\n",
              "      <td>3.5</td>\n",
              "      <td>1.4</td>\n",
              "      <td>0.2</td>\n",
              "      <td>Iris-setosa</td>\n",
              "    </tr>\n",
              "    <tr>\n",
              "      <th>1</th>\n",
              "      <td>2</td>\n",
              "      <td>4.9</td>\n",
              "      <td>3.0</td>\n",
              "      <td>1.4</td>\n",
              "      <td>0.2</td>\n",
              "      <td>Iris-setosa</td>\n",
              "    </tr>\n",
              "    <tr>\n",
              "      <th>2</th>\n",
              "      <td>3</td>\n",
              "      <td>4.7</td>\n",
              "      <td>3.2</td>\n",
              "      <td>1.3</td>\n",
              "      <td>0.2</td>\n",
              "      <td>Iris-setosa</td>\n",
              "    </tr>\n",
              "    <tr>\n",
              "      <th>3</th>\n",
              "      <td>4</td>\n",
              "      <td>4.6</td>\n",
              "      <td>3.1</td>\n",
              "      <td>1.5</td>\n",
              "      <td>0.2</td>\n",
              "      <td>Iris-setosa</td>\n",
              "    </tr>\n",
              "    <tr>\n",
              "      <th>4</th>\n",
              "      <td>5</td>\n",
              "      <td>5.0</td>\n",
              "      <td>3.6</td>\n",
              "      <td>1.4</td>\n",
              "      <td>0.2</td>\n",
              "      <td>Iris-setosa</td>\n",
              "    </tr>\n",
              "  </tbody>\n",
              "</table>\n",
              "</div>"
            ],
            "text/plain": [
              "   Id  SepalLengthCm  SepalWidthCm  PetalLengthCm  PetalWidthCm      Species\n",
              "0   1            5.1           3.5            1.4           0.2  Iris-setosa\n",
              "1   2            4.9           3.0            1.4           0.2  Iris-setosa\n",
              "2   3            4.7           3.2            1.3           0.2  Iris-setosa\n",
              "3   4            4.6           3.1            1.5           0.2  Iris-setosa\n",
              "4   5            5.0           3.6            1.4           0.2  Iris-setosa"
            ]
          },
          "metadata": {
            "tags": []
          },
          "execution_count": 137
        }
      ]
    },
    {
      "cell_type": "markdown",
      "metadata": {
        "colab_type": "text",
        "id": "SAB--Qdwcihm"
      },
      "source": [
        "### Target set has different categories. So, Label encode them. And convert into one-hot vectors using get_dummies in pandas."
      ]
    },
    {
      "cell_type": "code",
      "metadata": {
        "id": "oJrWqRmxwjlL",
        "colab_type": "code",
        "colab": {}
      },
      "source": [
        "iris=pd.get_dummies(iris, columns=['Species'])"
      ],
      "execution_count": 0,
      "outputs": []
    },
    {
      "cell_type": "code",
      "metadata": {
        "id": "JWYqAKnew0Zv",
        "colab_type": "code",
        "colab": {
          "base_uri": "https://localhost:8080/",
          "height": 195
        },
        "outputId": "69e3428b-00d3-4774-da78-ea526a71a71a"
      },
      "source": [
        "iris.head()"
      ],
      "execution_count": 139,
      "outputs": [
        {
          "output_type": "execute_result",
          "data": {
            "text/html": [
              "<div>\n",
              "<style scoped>\n",
              "    .dataframe tbody tr th:only-of-type {\n",
              "        vertical-align: middle;\n",
              "    }\n",
              "\n",
              "    .dataframe tbody tr th {\n",
              "        vertical-align: top;\n",
              "    }\n",
              "\n",
              "    .dataframe thead th {\n",
              "        text-align: right;\n",
              "    }\n",
              "</style>\n",
              "<table border=\"1\" class=\"dataframe\">\n",
              "  <thead>\n",
              "    <tr style=\"text-align: right;\">\n",
              "      <th></th>\n",
              "      <th>Id</th>\n",
              "      <th>SepalLengthCm</th>\n",
              "      <th>SepalWidthCm</th>\n",
              "      <th>PetalLengthCm</th>\n",
              "      <th>PetalWidthCm</th>\n",
              "      <th>Species_Iris-setosa</th>\n",
              "      <th>Species_Iris-versicolor</th>\n",
              "      <th>Species_Iris-virginica</th>\n",
              "    </tr>\n",
              "  </thead>\n",
              "  <tbody>\n",
              "    <tr>\n",
              "      <th>0</th>\n",
              "      <td>1</td>\n",
              "      <td>5.1</td>\n",
              "      <td>3.5</td>\n",
              "      <td>1.4</td>\n",
              "      <td>0.2</td>\n",
              "      <td>1</td>\n",
              "      <td>0</td>\n",
              "      <td>0</td>\n",
              "    </tr>\n",
              "    <tr>\n",
              "      <th>1</th>\n",
              "      <td>2</td>\n",
              "      <td>4.9</td>\n",
              "      <td>3.0</td>\n",
              "      <td>1.4</td>\n",
              "      <td>0.2</td>\n",
              "      <td>1</td>\n",
              "      <td>0</td>\n",
              "      <td>0</td>\n",
              "    </tr>\n",
              "    <tr>\n",
              "      <th>2</th>\n",
              "      <td>3</td>\n",
              "      <td>4.7</td>\n",
              "      <td>3.2</td>\n",
              "      <td>1.3</td>\n",
              "      <td>0.2</td>\n",
              "      <td>1</td>\n",
              "      <td>0</td>\n",
              "      <td>0</td>\n",
              "    </tr>\n",
              "    <tr>\n",
              "      <th>3</th>\n",
              "      <td>4</td>\n",
              "      <td>4.6</td>\n",
              "      <td>3.1</td>\n",
              "      <td>1.5</td>\n",
              "      <td>0.2</td>\n",
              "      <td>1</td>\n",
              "      <td>0</td>\n",
              "      <td>0</td>\n",
              "    </tr>\n",
              "    <tr>\n",
              "      <th>4</th>\n",
              "      <td>5</td>\n",
              "      <td>5.0</td>\n",
              "      <td>3.6</td>\n",
              "      <td>1.4</td>\n",
              "      <td>0.2</td>\n",
              "      <td>1</td>\n",
              "      <td>0</td>\n",
              "      <td>0</td>\n",
              "    </tr>\n",
              "  </tbody>\n",
              "</table>\n",
              "</div>"
            ],
            "text/plain": [
              "   Id  SepalLengthCm  ...  Species_Iris-versicolor  Species_Iris-virginica\n",
              "0   1            5.1  ...                        0                       0\n",
              "1   2            4.9  ...                        0                       0\n",
              "2   3            4.7  ...                        0                       0\n",
              "3   4            4.6  ...                        0                       0\n",
              "4   5            5.0  ...                        0                       0\n",
              "\n",
              "[5 rows x 8 columns]"
            ]
          },
          "metadata": {
            "tags": []
          },
          "execution_count": 139
        }
      ]
    },
    {
      "cell_type": "markdown",
      "metadata": {
        "colab_type": "text",
        "id": "D95nY5ILcihj"
      },
      "source": [
        "### Splitting the data into feature set and target set"
      ]
    },
    {
      "cell_type": "code",
      "metadata": {
        "colab_type": "code",
        "id": "RyMQoLMucihj",
        "colab": {}
      },
      "source": [
        "X = iris.iloc[:,1:5]\n",
        "Y = iris.iloc[:,5:]"
      ],
      "execution_count": 0,
      "outputs": []
    },
    {
      "cell_type": "code",
      "metadata": {
        "id": "1IaFN8KjxMxR",
        "colab_type": "code",
        "colab": {
          "base_uri": "https://localhost:8080/",
          "height": 195
        },
        "outputId": "f83d893e-347c-46a4-8f11-c54bf6065cd2"
      },
      "source": [
        "X.head()"
      ],
      "execution_count": 141,
      "outputs": [
        {
          "output_type": "execute_result",
          "data": {
            "text/html": [
              "<div>\n",
              "<style scoped>\n",
              "    .dataframe tbody tr th:only-of-type {\n",
              "        vertical-align: middle;\n",
              "    }\n",
              "\n",
              "    .dataframe tbody tr th {\n",
              "        vertical-align: top;\n",
              "    }\n",
              "\n",
              "    .dataframe thead th {\n",
              "        text-align: right;\n",
              "    }\n",
              "</style>\n",
              "<table border=\"1\" class=\"dataframe\">\n",
              "  <thead>\n",
              "    <tr style=\"text-align: right;\">\n",
              "      <th></th>\n",
              "      <th>SepalLengthCm</th>\n",
              "      <th>SepalWidthCm</th>\n",
              "      <th>PetalLengthCm</th>\n",
              "      <th>PetalWidthCm</th>\n",
              "    </tr>\n",
              "  </thead>\n",
              "  <tbody>\n",
              "    <tr>\n",
              "      <th>0</th>\n",
              "      <td>5.1</td>\n",
              "      <td>3.5</td>\n",
              "      <td>1.4</td>\n",
              "      <td>0.2</td>\n",
              "    </tr>\n",
              "    <tr>\n",
              "      <th>1</th>\n",
              "      <td>4.9</td>\n",
              "      <td>3.0</td>\n",
              "      <td>1.4</td>\n",
              "      <td>0.2</td>\n",
              "    </tr>\n",
              "    <tr>\n",
              "      <th>2</th>\n",
              "      <td>4.7</td>\n",
              "      <td>3.2</td>\n",
              "      <td>1.3</td>\n",
              "      <td>0.2</td>\n",
              "    </tr>\n",
              "    <tr>\n",
              "      <th>3</th>\n",
              "      <td>4.6</td>\n",
              "      <td>3.1</td>\n",
              "      <td>1.5</td>\n",
              "      <td>0.2</td>\n",
              "    </tr>\n",
              "    <tr>\n",
              "      <th>4</th>\n",
              "      <td>5.0</td>\n",
              "      <td>3.6</td>\n",
              "      <td>1.4</td>\n",
              "      <td>0.2</td>\n",
              "    </tr>\n",
              "  </tbody>\n",
              "</table>\n",
              "</div>"
            ],
            "text/plain": [
              "   SepalLengthCm  SepalWidthCm  PetalLengthCm  PetalWidthCm\n",
              "0            5.1           3.5            1.4           0.2\n",
              "1            4.9           3.0            1.4           0.2\n",
              "2            4.7           3.2            1.3           0.2\n",
              "3            4.6           3.1            1.5           0.2\n",
              "4            5.0           3.6            1.4           0.2"
            ]
          },
          "metadata": {
            "tags": []
          },
          "execution_count": 141
        }
      ]
    },
    {
      "cell_type": "code",
      "metadata": {
        "id": "bpCRzSBMxPDP",
        "colab_type": "code",
        "colab": {
          "base_uri": "https://localhost:8080/",
          "height": 195
        },
        "outputId": "9e679d54-bde8-4bcc-d915-9841decebbe3"
      },
      "source": [
        "Y.head()"
      ],
      "execution_count": 142,
      "outputs": [
        {
          "output_type": "execute_result",
          "data": {
            "text/html": [
              "<div>\n",
              "<style scoped>\n",
              "    .dataframe tbody tr th:only-of-type {\n",
              "        vertical-align: middle;\n",
              "    }\n",
              "\n",
              "    .dataframe tbody tr th {\n",
              "        vertical-align: top;\n",
              "    }\n",
              "\n",
              "    .dataframe thead th {\n",
              "        text-align: right;\n",
              "    }\n",
              "</style>\n",
              "<table border=\"1\" class=\"dataframe\">\n",
              "  <thead>\n",
              "    <tr style=\"text-align: right;\">\n",
              "      <th></th>\n",
              "      <th>Species_Iris-setosa</th>\n",
              "      <th>Species_Iris-versicolor</th>\n",
              "      <th>Species_Iris-virginica</th>\n",
              "    </tr>\n",
              "  </thead>\n",
              "  <tbody>\n",
              "    <tr>\n",
              "      <th>0</th>\n",
              "      <td>1</td>\n",
              "      <td>0</td>\n",
              "      <td>0</td>\n",
              "    </tr>\n",
              "    <tr>\n",
              "      <th>1</th>\n",
              "      <td>1</td>\n",
              "      <td>0</td>\n",
              "      <td>0</td>\n",
              "    </tr>\n",
              "    <tr>\n",
              "      <th>2</th>\n",
              "      <td>1</td>\n",
              "      <td>0</td>\n",
              "      <td>0</td>\n",
              "    </tr>\n",
              "    <tr>\n",
              "      <th>3</th>\n",
              "      <td>1</td>\n",
              "      <td>0</td>\n",
              "      <td>0</td>\n",
              "    </tr>\n",
              "    <tr>\n",
              "      <th>4</th>\n",
              "      <td>1</td>\n",
              "      <td>0</td>\n",
              "      <td>0</td>\n",
              "    </tr>\n",
              "  </tbody>\n",
              "</table>\n",
              "</div>"
            ],
            "text/plain": [
              "   Species_Iris-setosa  Species_Iris-versicolor  Species_Iris-virginica\n",
              "0                    1                        0                       0\n",
              "1                    1                        0                       0\n",
              "2                    1                        0                       0\n",
              "3                    1                        0                       0\n",
              "4                    1                        0                       0"
            ]
          },
          "metadata": {
            "tags": []
          },
          "execution_count": 142
        }
      ]
    },
    {
      "cell_type": "code",
      "metadata": {
        "id": "rQnZQ0F5zkD-",
        "colab_type": "code",
        "colab": {}
      },
      "source": [
        "X_train, X_test, Y_train,  Y_test = train_test_split(X, Y, test_size=0.3)"
      ],
      "execution_count": 0,
      "outputs": []
    },
    {
      "cell_type": "code",
      "metadata": {
        "id": "Wn6m5mgp0Vp6",
        "colab_type": "code",
        "colab": {}
      },
      "source": [
        ""
      ],
      "execution_count": 0,
      "outputs": []
    },
    {
      "cell_type": "code",
      "metadata": {
        "id": "4Dkh3WCk0VtZ",
        "colab_type": "code",
        "colab": {}
      },
      "source": [
        ""
      ],
      "execution_count": 0,
      "outputs": []
    },
    {
      "cell_type": "markdown",
      "metadata": {
        "colab_type": "text",
        "id": "b22qpC5xcihr"
      },
      "source": [
        "###  Building Model in tf.keras\n",
        "\n",
        "Build a Linear Classifier model  <br>\n",
        "1.  Use Dense Layer  with input shape of 4 (according to the feature set) and number of outputs set to 3<br> \n",
        "2. Apply Softmax on Dense Layer outputs <br>\n",
        "3. Use SGD as Optimizer\n",
        "4. Use categorical_crossentropy as loss function "
      ]
    },
    {
      "cell_type": "code",
      "metadata": {
        "colab_type": "code",
        "id": "Hov_UFnUciht",
        "colab": {}
      },
      "source": [
        "model = tf.keras.models.Sequential()\n",
        "model.add(tf.keras.layers.Input(shape=(4,)))\n",
        "model.add(tf.keras.layers.BatchNormalization())\n",
        "model.add(tf.keras.layers.Dense(3, activation='softmax'))"
      ],
      "execution_count": 0,
      "outputs": []
    },
    {
      "cell_type": "code",
      "metadata": {
        "id": "-1apK8awydPD",
        "colab_type": "code",
        "colab": {}
      },
      "source": [
        "model.compile(optimizer='sgd', loss='categorical_crossentropy', \n",
        "              metrics=['accuracy'])"
      ],
      "execution_count": 0,
      "outputs": []
    },
    {
      "cell_type": "code",
      "metadata": {
        "id": "5AIj_MZSyqRF",
        "colab_type": "code",
        "colab": {
          "base_uri": "https://localhost:8080/",
          "height": 218
        },
        "outputId": "0e264e7b-654b-4cf0-bd91-fa75e482dbd7"
      },
      "source": [
        "model.summary()"
      ],
      "execution_count": 125,
      "outputs": [
        {
          "output_type": "stream",
          "text": [
            "Model: \"sequential\"\n",
            "_________________________________________________________________\n",
            "Layer (type)                 Output Shape              Param #   \n",
            "=================================================================\n",
            "batch_normalization (BatchNo (None, 4)                 16        \n",
            "_________________________________________________________________\n",
            "dense (Dense)                (None, 3)                 15        \n",
            "=================================================================\n",
            "Total params: 31\n",
            "Trainable params: 23\n",
            "Non-trainable params: 8\n",
            "_________________________________________________________________\n"
          ],
          "name": "stdout"
        }
      ]
    },
    {
      "cell_type": "markdown",
      "metadata": {
        "colab_type": "text",
        "id": "T5FdzqIKcihw"
      },
      "source": [
        "### Model Training "
      ]
    },
    {
      "cell_type": "code",
      "metadata": {
        "colab_type": "code",
        "id": "4qLEdHPscihx",
        "colab": {
          "base_uri": "https://localhost:8080/",
          "height": 1000
        },
        "outputId": "d8393c22-dc7d-4583-9206-9048061ad03a"
      },
      "source": [
        "model.fit(X_train,Y_train,          \n",
        "          validation_data=(X_test, Y_test),\n",
        "          epochs=200,\n",
        "          batch_size=10)"
      ],
      "execution_count": 146,
      "outputs": [
        {
          "output_type": "stream",
          "text": [
            "WARNING:tensorflow:Falling back from v2 loop because of error: Failed to find data adapter that can handle input: <class 'pandas.core.frame.DataFrame'>, <class 'NoneType'>\n",
            "Train on 105 samples, validate on 45 samples\n",
            "Epoch 1/200\n",
            "105/105 [==============================] - 0s 1ms/sample - loss: 0.2747 - acc: 0.8476 - val_loss: 0.2218 - val_acc: 0.9333\n",
            "Epoch 2/200\n",
            "105/105 [==============================] - 0s 231us/sample - loss: 0.3065 - acc: 0.8952 - val_loss: 0.2203 - val_acc: 0.9333\n",
            "Epoch 3/200\n",
            "105/105 [==============================] - 0s 225us/sample - loss: 0.2160 - acc: 0.9429 - val_loss: 0.2200 - val_acc: 0.9333\n",
            "Epoch 4/200\n",
            "105/105 [==============================] - 0s 237us/sample - loss: 0.3183 - acc: 0.8571 - val_loss: 0.2188 - val_acc: 0.9333\n",
            "Epoch 5/200\n",
            "105/105 [==============================] - 0s 231us/sample - loss: 0.2411 - acc: 0.9048 - val_loss: 0.2186 - val_acc: 0.9333\n",
            "Epoch 6/200\n",
            "105/105 [==============================] - 0s 229us/sample - loss: 0.2080 - acc: 0.9143 - val_loss: 0.2180 - val_acc: 0.9333\n",
            "Epoch 7/200\n",
            "105/105 [==============================] - 0s 226us/sample - loss: 0.2330 - acc: 0.8857 - val_loss: 0.2171 - val_acc: 0.9333\n",
            "Epoch 8/200\n",
            "105/105 [==============================] - 0s 210us/sample - loss: 0.4571 - acc: 0.8381 - val_loss: 0.2164 - val_acc: 0.9333\n",
            "Epoch 9/200\n",
            "105/105 [==============================] - 0s 231us/sample - loss: 0.2359 - acc: 0.8952 - val_loss: 0.2158 - val_acc: 0.9333\n",
            "Epoch 10/200\n",
            "105/105 [==============================] - 0s 215us/sample - loss: 0.2794 - acc: 0.9238 - val_loss: 0.2158 - val_acc: 0.9333\n",
            "Epoch 11/200\n",
            "105/105 [==============================] - 0s 222us/sample - loss: 0.3863 - acc: 0.8476 - val_loss: 0.2153 - val_acc: 0.9333\n",
            "Epoch 12/200\n",
            "105/105 [==============================] - 0s 225us/sample - loss: 0.2839 - acc: 0.8762 - val_loss: 0.2141 - val_acc: 0.9333\n",
            "Epoch 13/200\n",
            "105/105 [==============================] - 0s 228us/sample - loss: 0.2813 - acc: 0.8857 - val_loss: 0.2109 - val_acc: 0.9333\n",
            "Epoch 14/200\n",
            "105/105 [==============================] - 0s 224us/sample - loss: 0.3382 - acc: 0.8952 - val_loss: 0.2104 - val_acc: 0.9333\n",
            "Epoch 15/200\n",
            "105/105 [==============================] - 0s 232us/sample - loss: 0.3039 - acc: 0.8952 - val_loss: 0.2089 - val_acc: 0.9333\n",
            "Epoch 16/200\n",
            "105/105 [==============================] - 0s 250us/sample - loss: 0.3084 - acc: 0.8857 - val_loss: 0.2096 - val_acc: 0.9333\n",
            "Epoch 17/200\n",
            "105/105 [==============================] - 0s 245us/sample - loss: 0.2509 - acc: 0.8762 - val_loss: 0.2065 - val_acc: 0.9333\n",
            "Epoch 18/200\n",
            "105/105 [==============================] - 0s 227us/sample - loss: 0.2967 - acc: 0.8762 - val_loss: 0.2070 - val_acc: 0.9333\n",
            "Epoch 19/200\n",
            "105/105 [==============================] - 0s 226us/sample - loss: 0.2823 - acc: 0.8857 - val_loss: 0.2073 - val_acc: 0.9333\n",
            "Epoch 20/200\n",
            "105/105 [==============================] - 0s 202us/sample - loss: 0.3297 - acc: 0.8762 - val_loss: 0.2104 - val_acc: 0.9333\n",
            "Epoch 21/200\n",
            "105/105 [==============================] - 0s 244us/sample - loss: 0.2042 - acc: 0.9333 - val_loss: 0.2092 - val_acc: 0.9333\n",
            "Epoch 22/200\n",
            "105/105 [==============================] - 0s 223us/sample - loss: 0.3928 - acc: 0.9048 - val_loss: 0.2089 - val_acc: 0.9333\n",
            "Epoch 23/200\n",
            "105/105 [==============================] - 0s 222us/sample - loss: 0.2149 - acc: 0.9238 - val_loss: 0.2084 - val_acc: 0.9333\n",
            "Epoch 24/200\n",
            "105/105 [==============================] - 0s 226us/sample - loss: 0.2960 - acc: 0.8667 - val_loss: 0.2103 - val_acc: 0.9333\n",
            "Epoch 25/200\n",
            "105/105 [==============================] - 0s 219us/sample - loss: 0.2150 - acc: 0.9333 - val_loss: 0.2088 - val_acc: 0.9333\n",
            "Epoch 26/200\n",
            "105/105 [==============================] - 0s 290us/sample - loss: 0.2067 - acc: 0.9524 - val_loss: 0.2093 - val_acc: 0.9333\n",
            "Epoch 27/200\n",
            "105/105 [==============================] - 0s 275us/sample - loss: 0.3861 - acc: 0.8190 - val_loss: 0.2065 - val_acc: 0.9333\n",
            "Epoch 28/200\n",
            "105/105 [==============================] - 0s 250us/sample - loss: 0.2224 - acc: 0.9238 - val_loss: 0.2065 - val_acc: 0.9333\n",
            "Epoch 29/200\n",
            "105/105 [==============================] - 0s 223us/sample - loss: 0.2464 - acc: 0.9333 - val_loss: 0.2080 - val_acc: 0.9333\n",
            "Epoch 30/200\n",
            "105/105 [==============================] - 0s 237us/sample - loss: 0.2164 - acc: 0.9333 - val_loss: 0.2085 - val_acc: 0.9333\n",
            "Epoch 31/200\n",
            "105/105 [==============================] - 0s 248us/sample - loss: 0.2389 - acc: 0.9143 - val_loss: 0.2064 - val_acc: 0.9333\n",
            "Epoch 32/200\n",
            "105/105 [==============================] - 0s 272us/sample - loss: 0.3574 - acc: 0.8571 - val_loss: 0.2043 - val_acc: 0.9333\n",
            "Epoch 33/200\n",
            "105/105 [==============================] - 0s 248us/sample - loss: 0.4951 - acc: 0.8190 - val_loss: 0.2042 - val_acc: 0.9333\n",
            "Epoch 34/200\n",
            "105/105 [==============================] - 0s 310us/sample - loss: 0.2119 - acc: 0.9429 - val_loss: 0.2055 - val_acc: 0.9333\n",
            "Epoch 35/200\n",
            "105/105 [==============================] - 0s 295us/sample - loss: 0.3336 - acc: 0.8952 - val_loss: 0.2034 - val_acc: 0.9333\n",
            "Epoch 36/200\n",
            "105/105 [==============================] - 0s 271us/sample - loss: 0.2518 - acc: 0.8952 - val_loss: 0.2024 - val_acc: 0.9333\n",
            "Epoch 37/200\n",
            "105/105 [==============================] - 0s 268us/sample - loss: 0.2248 - acc: 0.9333 - val_loss: 0.2013 - val_acc: 0.9333\n",
            "Epoch 38/200\n",
            "105/105 [==============================] - 0s 255us/sample - loss: 0.2519 - acc: 0.9048 - val_loss: 0.2024 - val_acc: 0.9333\n",
            "Epoch 39/200\n",
            "105/105 [==============================] - 0s 245us/sample - loss: 0.2956 - acc: 0.8762 - val_loss: 0.2016 - val_acc: 0.9333\n",
            "Epoch 40/200\n",
            "105/105 [==============================] - 0s 247us/sample - loss: 0.2240 - acc: 0.9143 - val_loss: 0.2023 - val_acc: 0.9333\n",
            "Epoch 41/200\n",
            "105/105 [==============================] - 0s 249us/sample - loss: 0.2736 - acc: 0.8667 - val_loss: 0.2034 - val_acc: 0.9333\n",
            "Epoch 42/200\n",
            "105/105 [==============================] - 0s 239us/sample - loss: 0.2437 - acc: 0.9429 - val_loss: 0.2016 - val_acc: 0.9333\n",
            "Epoch 43/200\n",
            "105/105 [==============================] - 0s 249us/sample - loss: 0.2848 - acc: 0.8762 - val_loss: 0.2028 - val_acc: 0.9333\n",
            "Epoch 44/200\n",
            "105/105 [==============================] - 0s 247us/sample - loss: 0.2249 - acc: 0.8857 - val_loss: 0.2035 - val_acc: 0.9333\n",
            "Epoch 45/200\n",
            "105/105 [==============================] - 0s 212us/sample - loss: 0.2173 - acc: 0.9333 - val_loss: 0.2048 - val_acc: 0.9333\n",
            "Epoch 46/200\n",
            "105/105 [==============================] - 0s 309us/sample - loss: 0.3323 - acc: 0.8571 - val_loss: 0.2056 - val_acc: 0.9333\n",
            "Epoch 47/200\n",
            "105/105 [==============================] - 0s 239us/sample - loss: 0.3045 - acc: 0.8762 - val_loss: 0.1996 - val_acc: 0.9333\n",
            "Epoch 48/200\n",
            "105/105 [==============================] - 0s 226us/sample - loss: 0.3121 - acc: 0.8952 - val_loss: 0.2008 - val_acc: 0.9333\n",
            "Epoch 49/200\n",
            "105/105 [==============================] - 0s 244us/sample - loss: 0.3123 - acc: 0.8762 - val_loss: 0.2010 - val_acc: 0.9333\n",
            "Epoch 50/200\n",
            "105/105 [==============================] - 0s 220us/sample - loss: 0.3073 - acc: 0.8762 - val_loss: 0.1994 - val_acc: 0.9333\n",
            "Epoch 51/200\n",
            "105/105 [==============================] - 0s 295us/sample - loss: 0.2841 - acc: 0.8667 - val_loss: 0.1986 - val_acc: 0.9333\n",
            "Epoch 52/200\n",
            "105/105 [==============================] - 0s 221us/sample - loss: 0.3269 - acc: 0.8857 - val_loss: 0.1994 - val_acc: 0.9333\n",
            "Epoch 53/200\n",
            "105/105 [==============================] - 0s 243us/sample - loss: 0.3291 - acc: 0.9143 - val_loss: 0.1983 - val_acc: 0.9333\n",
            "Epoch 54/200\n",
            "105/105 [==============================] - 0s 234us/sample - loss: 0.4861 - acc: 0.8095 - val_loss: 0.1980 - val_acc: 0.9333\n",
            "Epoch 55/200\n",
            "105/105 [==============================] - 0s 230us/sample - loss: 0.2915 - acc: 0.9048 - val_loss: 0.1965 - val_acc: 0.9333\n",
            "Epoch 56/200\n",
            "105/105 [==============================] - 0s 203us/sample - loss: 0.2351 - acc: 0.9143 - val_loss: 0.1978 - val_acc: 0.9333\n",
            "Epoch 57/200\n",
            "105/105 [==============================] - 0s 256us/sample - loss: 0.2768 - acc: 0.8952 - val_loss: 0.1969 - val_acc: 0.9333\n",
            "Epoch 58/200\n",
            "105/105 [==============================] - 0s 267us/sample - loss: 0.2522 - acc: 0.9143 - val_loss: 0.1979 - val_acc: 0.9333\n",
            "Epoch 59/200\n",
            "105/105 [==============================] - 0s 239us/sample - loss: 0.2171 - acc: 0.9143 - val_loss: 0.1990 - val_acc: 0.9333\n",
            "Epoch 60/200\n",
            "105/105 [==============================] - 0s 227us/sample - loss: 0.2155 - acc: 0.9238 - val_loss: 0.1977 - val_acc: 0.9333\n",
            "Epoch 61/200\n",
            "105/105 [==============================] - 0s 248us/sample - loss: 0.3823 - acc: 0.8762 - val_loss: 0.1981 - val_acc: 0.9333\n",
            "Epoch 62/200\n",
            "105/105 [==============================] - 0s 232us/sample - loss: 0.2585 - acc: 0.9143 - val_loss: 0.2009 - val_acc: 0.9333\n",
            "Epoch 63/200\n",
            "105/105 [==============================] - 0s 239us/sample - loss: 0.2236 - acc: 0.9048 - val_loss: 0.1988 - val_acc: 0.9333\n",
            "Epoch 64/200\n",
            "105/105 [==============================] - 0s 267us/sample - loss: 0.2141 - acc: 0.9238 - val_loss: 0.1982 - val_acc: 0.9333\n",
            "Epoch 65/200\n",
            "105/105 [==============================] - 0s 244us/sample - loss: 0.2174 - acc: 0.9333 - val_loss: 0.1995 - val_acc: 0.9333\n",
            "Epoch 66/200\n",
            "105/105 [==============================] - 0s 269us/sample - loss: 0.3318 - acc: 0.9048 - val_loss: 0.1985 - val_acc: 0.9333\n",
            "Epoch 67/200\n",
            "105/105 [==============================] - 0s 235us/sample - loss: 0.2425 - acc: 0.9143 - val_loss: 0.1996 - val_acc: 0.9333\n",
            "Epoch 68/200\n",
            "105/105 [==============================] - 0s 280us/sample - loss: 0.2947 - acc: 0.8952 - val_loss: 0.2005 - val_acc: 0.9333\n",
            "Epoch 69/200\n",
            "105/105 [==============================] - 0s 230us/sample - loss: 0.3079 - acc: 0.8381 - val_loss: 0.2000 - val_acc: 0.9333\n",
            "Epoch 70/200\n",
            "105/105 [==============================] - 0s 294us/sample - loss: 0.2161 - acc: 0.9238 - val_loss: 0.1977 - val_acc: 0.9333\n",
            "Epoch 71/200\n",
            "105/105 [==============================] - 0s 215us/sample - loss: 0.2442 - acc: 0.9143 - val_loss: 0.1950 - val_acc: 0.9333\n",
            "Epoch 72/200\n",
            "105/105 [==============================] - 0s 221us/sample - loss: 0.2452 - acc: 0.9048 - val_loss: 0.1965 - val_acc: 0.9333\n",
            "Epoch 73/200\n",
            "105/105 [==============================] - 0s 224us/sample - loss: 0.2541 - acc: 0.9143 - val_loss: 0.1956 - val_acc: 0.9333\n",
            "Epoch 74/200\n",
            "105/105 [==============================] - 0s 202us/sample - loss: 0.2562 - acc: 0.9048 - val_loss: 0.1956 - val_acc: 0.9333\n",
            "Epoch 75/200\n",
            "105/105 [==============================] - 0s 201us/sample - loss: 0.2314 - acc: 0.9238 - val_loss: 0.1940 - val_acc: 0.9333\n",
            "Epoch 76/200\n",
            "105/105 [==============================] - 0s 235us/sample - loss: 0.2542 - acc: 0.9048 - val_loss: 0.1936 - val_acc: 0.9333\n",
            "Epoch 77/200\n",
            "105/105 [==============================] - 0s 242us/sample - loss: 0.2999 - acc: 0.8571 - val_loss: 0.1928 - val_acc: 0.9333\n",
            "Epoch 78/200\n",
            "105/105 [==============================] - 0s 227us/sample - loss: 0.2935 - acc: 0.8667 - val_loss: 0.1946 - val_acc: 0.9333\n",
            "Epoch 79/200\n",
            "105/105 [==============================] - 0s 315us/sample - loss: 0.4071 - acc: 0.8190 - val_loss: 0.1919 - val_acc: 0.9333\n",
            "Epoch 80/200\n",
            "105/105 [==============================] - 0s 298us/sample - loss: 0.2403 - acc: 0.9143 - val_loss: 0.1883 - val_acc: 0.9333\n",
            "Epoch 81/200\n",
            "105/105 [==============================] - 0s 246us/sample - loss: 0.2392 - acc: 0.9333 - val_loss: 0.1884 - val_acc: 0.9333\n",
            "Epoch 82/200\n",
            "105/105 [==============================] - 0s 223us/sample - loss: 0.2592 - acc: 0.8952 - val_loss: 0.1881 - val_acc: 0.9333\n",
            "Epoch 83/200\n",
            "105/105 [==============================] - 0s 200us/sample - loss: 0.2983 - acc: 0.8667 - val_loss: 0.1890 - val_acc: 0.9333\n",
            "Epoch 84/200\n",
            "105/105 [==============================] - 0s 206us/sample - loss: 0.2731 - acc: 0.9143 - val_loss: 0.1894 - val_acc: 0.9333\n",
            "Epoch 85/200\n",
            "105/105 [==============================] - 0s 226us/sample - loss: 0.2723 - acc: 0.8762 - val_loss: 0.1891 - val_acc: 0.9333\n",
            "Epoch 86/200\n",
            "105/105 [==============================] - 0s 217us/sample - loss: 0.2845 - acc: 0.8857 - val_loss: 0.1867 - val_acc: 0.9333\n",
            "Epoch 87/200\n",
            "105/105 [==============================] - 0s 211us/sample - loss: 0.2209 - acc: 0.9238 - val_loss: 0.1877 - val_acc: 0.9333\n",
            "Epoch 88/200\n",
            "105/105 [==============================] - 0s 225us/sample - loss: 0.2546 - acc: 0.8762 - val_loss: 0.1866 - val_acc: 0.9333\n",
            "Epoch 89/200\n",
            "105/105 [==============================] - 0s 233us/sample - loss: 0.3121 - acc: 0.8952 - val_loss: 0.1864 - val_acc: 0.9333\n",
            "Epoch 90/200\n",
            "105/105 [==============================] - 0s 263us/sample - loss: 0.2165 - acc: 0.8952 - val_loss: 0.1864 - val_acc: 0.9333\n",
            "Epoch 91/200\n",
            "105/105 [==============================] - 0s 222us/sample - loss: 0.2212 - acc: 0.9429 - val_loss: 0.1870 - val_acc: 0.9333\n",
            "Epoch 92/200\n",
            "105/105 [==============================] - 0s 262us/sample - loss: 0.3352 - acc: 0.8476 - val_loss: 0.1840 - val_acc: 0.9333\n",
            "Epoch 93/200\n",
            "105/105 [==============================] - 0s 231us/sample - loss: 0.3353 - acc: 0.8667 - val_loss: 0.1844 - val_acc: 0.9333\n",
            "Epoch 94/200\n",
            "105/105 [==============================] - 0s 245us/sample - loss: 0.2989 - acc: 0.8381 - val_loss: 0.1858 - val_acc: 0.9333\n",
            "Epoch 95/200\n",
            "105/105 [==============================] - 0s 283us/sample - loss: 0.2741 - acc: 0.9048 - val_loss: 0.1854 - val_acc: 0.9333\n",
            "Epoch 96/200\n",
            "105/105 [==============================] - 0s 216us/sample - loss: 0.2107 - acc: 0.9333 - val_loss: 0.1867 - val_acc: 0.9333\n",
            "Epoch 97/200\n",
            "105/105 [==============================] - 0s 255us/sample - loss: 0.2973 - acc: 0.8667 - val_loss: 0.1868 - val_acc: 0.9333\n",
            "Epoch 98/200\n",
            "105/105 [==============================] - 0s 252us/sample - loss: 0.3758 - acc: 0.8476 - val_loss: 0.1865 - val_acc: 0.9333\n",
            "Epoch 99/200\n",
            "105/105 [==============================] - 0s 236us/sample - loss: 0.3998 - acc: 0.8762 - val_loss: 0.1886 - val_acc: 0.9333\n",
            "Epoch 100/200\n",
            "105/105 [==============================] - 0s 261us/sample - loss: 0.3399 - acc: 0.8952 - val_loss: 0.1883 - val_acc: 0.9333\n",
            "Epoch 101/200\n",
            "105/105 [==============================] - 0s 240us/sample - loss: 0.2646 - acc: 0.9238 - val_loss: 0.1883 - val_acc: 0.9333\n",
            "Epoch 102/200\n",
            "105/105 [==============================] - 0s 211us/sample - loss: 0.3223 - acc: 0.8667 - val_loss: 0.1891 - val_acc: 0.9333\n",
            "Epoch 103/200\n",
            "105/105 [==============================] - 0s 244us/sample - loss: 0.3240 - acc: 0.8476 - val_loss: 0.1880 - val_acc: 0.9333\n",
            "Epoch 104/200\n",
            "105/105 [==============================] - 0s 233us/sample - loss: 0.2511 - acc: 0.9048 - val_loss: 0.1884 - val_acc: 0.9333\n",
            "Epoch 105/200\n",
            "105/105 [==============================] - 0s 213us/sample - loss: 0.2632 - acc: 0.9048 - val_loss: 0.1890 - val_acc: 0.9333\n",
            "Epoch 106/200\n",
            "105/105 [==============================] - 0s 238us/sample - loss: 0.2301 - acc: 0.9143 - val_loss: 0.1891 - val_acc: 0.9333\n",
            "Epoch 107/200\n",
            "105/105 [==============================] - 0s 246us/sample - loss: 0.2647 - acc: 0.9143 - val_loss: 0.1882 - val_acc: 0.9333\n",
            "Epoch 108/200\n",
            "105/105 [==============================] - 0s 305us/sample - loss: 0.1812 - acc: 0.9429 - val_loss: 0.1897 - val_acc: 0.9333\n",
            "Epoch 109/200\n",
            "105/105 [==============================] - 0s 240us/sample - loss: 0.2197 - acc: 0.9048 - val_loss: 0.1903 - val_acc: 0.9333\n",
            "Epoch 110/200\n",
            "105/105 [==============================] - 0s 222us/sample - loss: 0.2191 - acc: 0.9429 - val_loss: 0.1891 - val_acc: 0.9333\n",
            "Epoch 111/200\n",
            "105/105 [==============================] - 0s 250us/sample - loss: 0.2853 - acc: 0.8857 - val_loss: 0.1922 - val_acc: 0.9333\n",
            "Epoch 112/200\n",
            "105/105 [==============================] - 0s 214us/sample - loss: 0.2713 - acc: 0.8952 - val_loss: 0.1916 - val_acc: 0.9333\n",
            "Epoch 113/200\n",
            "105/105 [==============================] - 0s 229us/sample - loss: 0.2621 - acc: 0.9238 - val_loss: 0.1897 - val_acc: 0.9333\n",
            "Epoch 114/200\n",
            "105/105 [==============================] - 0s 239us/sample - loss: 0.3130 - acc: 0.8476 - val_loss: 0.1895 - val_acc: 0.9333\n",
            "Epoch 115/200\n",
            "105/105 [==============================] - 0s 225us/sample - loss: 0.2227 - acc: 0.9143 - val_loss: 0.1891 - val_acc: 0.9333\n",
            "Epoch 116/200\n",
            "105/105 [==============================] - 0s 242us/sample - loss: 0.3891 - acc: 0.8571 - val_loss: 0.1867 - val_acc: 0.9333\n",
            "Epoch 117/200\n",
            "105/105 [==============================] - 0s 227us/sample - loss: 0.2851 - acc: 0.9143 - val_loss: 0.1865 - val_acc: 0.9333\n",
            "Epoch 118/200\n",
            "105/105 [==============================] - 0s 231us/sample - loss: 0.4203 - acc: 0.8476 - val_loss: 0.1888 - val_acc: 0.9333\n",
            "Epoch 119/200\n",
            "105/105 [==============================] - 0s 220us/sample - loss: 0.3522 - acc: 0.8571 - val_loss: 0.1879 - val_acc: 0.9333\n",
            "Epoch 120/200\n",
            "105/105 [==============================] - 0s 230us/sample - loss: 0.2927 - acc: 0.8857 - val_loss: 0.1846 - val_acc: 0.9333\n",
            "Epoch 121/200\n",
            "105/105 [==============================] - 0s 235us/sample - loss: 0.2372 - acc: 0.8952 - val_loss: 0.1845 - val_acc: 0.9333\n",
            "Epoch 122/200\n",
            "105/105 [==============================] - 0s 208us/sample - loss: 0.2243 - acc: 0.9238 - val_loss: 0.1866 - val_acc: 0.9333\n",
            "Epoch 123/200\n",
            "105/105 [==============================] - 0s 212us/sample - loss: 0.2425 - acc: 0.9048 - val_loss: 0.1862 - val_acc: 0.9333\n",
            "Epoch 124/200\n",
            "105/105 [==============================] - 0s 227us/sample - loss: 0.2377 - acc: 0.9429 - val_loss: 0.1874 - val_acc: 0.9333\n",
            "Epoch 125/200\n",
            "105/105 [==============================] - 0s 225us/sample - loss: 0.2314 - acc: 0.9048 - val_loss: 0.1865 - val_acc: 0.9333\n",
            "Epoch 126/200\n",
            "105/105 [==============================] - 0s 229us/sample - loss: 0.2119 - acc: 0.9143 - val_loss: 0.1883 - val_acc: 0.9333\n",
            "Epoch 127/200\n",
            "105/105 [==============================] - 0s 256us/sample - loss: 0.3241 - acc: 0.8762 - val_loss: 0.1854 - val_acc: 0.9333\n",
            "Epoch 128/200\n",
            "105/105 [==============================] - 0s 227us/sample - loss: 0.4693 - acc: 0.8286 - val_loss: 0.1841 - val_acc: 0.9333\n",
            "Epoch 129/200\n",
            "105/105 [==============================] - 0s 210us/sample - loss: 0.2672 - acc: 0.9143 - val_loss: 0.1832 - val_acc: 0.9333\n",
            "Epoch 130/200\n",
            "105/105 [==============================] - 0s 245us/sample - loss: 0.2693 - acc: 0.9048 - val_loss: 0.1834 - val_acc: 0.9333\n",
            "Epoch 131/200\n",
            "105/105 [==============================] - 0s 232us/sample - loss: 0.2286 - acc: 0.9143 - val_loss: 0.1855 - val_acc: 0.9333\n",
            "Epoch 132/200\n",
            "105/105 [==============================] - 0s 237us/sample - loss: 0.2182 - acc: 0.8952 - val_loss: 0.1854 - val_acc: 0.9333\n",
            "Epoch 133/200\n",
            "105/105 [==============================] - 0s 212us/sample - loss: 0.2390 - acc: 0.8857 - val_loss: 0.1856 - val_acc: 0.9333\n",
            "Epoch 134/200\n",
            "105/105 [==============================] - 0s 235us/sample - loss: 0.3352 - acc: 0.8762 - val_loss: 0.1850 - val_acc: 0.9333\n",
            "Epoch 135/200\n",
            "105/105 [==============================] - 0s 258us/sample - loss: 0.3569 - acc: 0.8667 - val_loss: 0.1812 - val_acc: 0.9333\n",
            "Epoch 136/200\n",
            "105/105 [==============================] - 0s 260us/sample - loss: 0.2060 - acc: 0.9524 - val_loss: 0.1821 - val_acc: 0.9333\n",
            "Epoch 137/200\n",
            "105/105 [==============================] - 0s 240us/sample - loss: 0.2344 - acc: 0.9143 - val_loss: 0.1811 - val_acc: 0.9333\n",
            "Epoch 138/200\n",
            "105/105 [==============================] - 0s 259us/sample - loss: 0.3404 - acc: 0.8667 - val_loss: 0.1808 - val_acc: 0.9333\n",
            "Epoch 139/200\n",
            "105/105 [==============================] - 0s 237us/sample - loss: 0.3179 - acc: 0.8857 - val_loss: 0.1838 - val_acc: 0.9333\n",
            "Epoch 140/200\n",
            "105/105 [==============================] - 0s 270us/sample - loss: 0.3547 - acc: 0.8857 - val_loss: 0.1818 - val_acc: 0.9333\n",
            "Epoch 141/200\n",
            "105/105 [==============================] - 0s 233us/sample - loss: 0.2927 - acc: 0.8952 - val_loss: 0.1825 - val_acc: 0.9333\n",
            "Epoch 142/200\n",
            "105/105 [==============================] - 0s 228us/sample - loss: 0.4027 - acc: 0.7905 - val_loss: 0.1824 - val_acc: 0.9333\n",
            "Epoch 143/200\n",
            "105/105 [==============================] - 0s 256us/sample - loss: 0.2451 - acc: 0.8857 - val_loss: 0.1827 - val_acc: 0.9333\n",
            "Epoch 144/200\n",
            "105/105 [==============================] - 0s 234us/sample - loss: 0.1743 - acc: 0.9619 - val_loss: 0.1835 - val_acc: 0.9333\n",
            "Epoch 145/200\n",
            "105/105 [==============================] - 0s 242us/sample - loss: 0.3073 - acc: 0.8762 - val_loss: 0.1829 - val_acc: 0.9333\n",
            "Epoch 146/200\n",
            "105/105 [==============================] - 0s 268us/sample - loss: 0.2784 - acc: 0.8762 - val_loss: 0.1819 - val_acc: 0.9333\n",
            "Epoch 147/200\n",
            "105/105 [==============================] - 0s 243us/sample - loss: 0.2009 - acc: 0.9238 - val_loss: 0.1818 - val_acc: 0.9333\n",
            "Epoch 148/200\n",
            "105/105 [==============================] - 0s 273us/sample - loss: 0.2887 - acc: 0.8857 - val_loss: 0.1814 - val_acc: 0.9333\n",
            "Epoch 149/200\n",
            "105/105 [==============================] - 0s 247us/sample - loss: 0.3281 - acc: 0.8571 - val_loss: 0.1823 - val_acc: 0.9333\n",
            "Epoch 150/200\n",
            "105/105 [==============================] - 0s 218us/sample - loss: 0.2252 - acc: 0.9238 - val_loss: 0.1814 - val_acc: 0.9333\n",
            "Epoch 151/200\n",
            "105/105 [==============================] - 0s 229us/sample - loss: 0.2743 - acc: 0.9143 - val_loss: 0.1807 - val_acc: 0.9333\n",
            "Epoch 152/200\n",
            "105/105 [==============================] - 0s 226us/sample - loss: 0.3553 - acc: 0.8571 - val_loss: 0.1805 - val_acc: 0.9333\n",
            "Epoch 153/200\n",
            "105/105 [==============================] - 0s 226us/sample - loss: 0.2581 - acc: 0.9333 - val_loss: 0.1816 - val_acc: 0.9333\n",
            "Epoch 154/200\n",
            "105/105 [==============================] - 0s 245us/sample - loss: 0.3357 - acc: 0.8952 - val_loss: 0.1827 - val_acc: 0.9333\n",
            "Epoch 155/200\n",
            "105/105 [==============================] - 0s 238us/sample - loss: 0.2026 - acc: 0.9333 - val_loss: 0.1831 - val_acc: 0.9333\n",
            "Epoch 156/200\n",
            "105/105 [==============================] - 0s 216us/sample - loss: 0.2877 - acc: 0.8667 - val_loss: 0.1827 - val_acc: 0.9333\n",
            "Epoch 157/200\n",
            "105/105 [==============================] - 0s 226us/sample - loss: 0.3562 - acc: 0.8476 - val_loss: 0.1833 - val_acc: 0.9333\n",
            "Epoch 158/200\n",
            "105/105 [==============================] - 0s 216us/sample - loss: 0.1778 - acc: 0.9429 - val_loss: 0.1833 - val_acc: 0.9333\n",
            "Epoch 159/200\n",
            "105/105 [==============================] - 0s 230us/sample - loss: 0.1933 - acc: 0.9429 - val_loss: 0.1832 - val_acc: 0.9333\n",
            "Epoch 160/200\n",
            "105/105 [==============================] - 0s 223us/sample - loss: 0.2328 - acc: 0.9238 - val_loss: 0.1840 - val_acc: 0.9333\n",
            "Epoch 161/200\n",
            "105/105 [==============================] - 0s 233us/sample - loss: 0.2849 - acc: 0.9048 - val_loss: 0.1856 - val_acc: 0.9333\n",
            "Epoch 162/200\n",
            "105/105 [==============================] - 0s 217us/sample - loss: 0.2613 - acc: 0.8667 - val_loss: 0.1852 - val_acc: 0.9333\n",
            "Epoch 163/200\n",
            "105/105 [==============================] - 0s 230us/sample - loss: 0.4117 - acc: 0.8762 - val_loss: 0.1849 - val_acc: 0.9333\n",
            "Epoch 164/200\n",
            "105/105 [==============================] - 0s 212us/sample - loss: 0.1743 - acc: 0.9429 - val_loss: 0.1837 - val_acc: 0.9333\n",
            "Epoch 165/200\n",
            "105/105 [==============================] - 0s 262us/sample - loss: 0.4949 - acc: 0.8571 - val_loss: 0.1825 - val_acc: 0.9333\n",
            "Epoch 166/200\n",
            "105/105 [==============================] - 0s 286us/sample - loss: 0.2687 - acc: 0.8857 - val_loss: 0.1815 - val_acc: 0.9333\n",
            "Epoch 167/200\n",
            "105/105 [==============================] - 0s 222us/sample - loss: 0.3035 - acc: 0.8762 - val_loss: 0.1821 - val_acc: 0.9333\n",
            "Epoch 168/200\n",
            "105/105 [==============================] - 0s 260us/sample - loss: 0.2048 - acc: 0.9429 - val_loss: 0.1822 - val_acc: 0.9333\n",
            "Epoch 169/200\n",
            "105/105 [==============================] - 0s 245us/sample - loss: 0.2773 - acc: 0.8857 - val_loss: 0.1810 - val_acc: 0.9333\n",
            "Epoch 170/200\n",
            "105/105 [==============================] - 0s 237us/sample - loss: 0.2878 - acc: 0.9048 - val_loss: 0.1803 - val_acc: 0.9333\n",
            "Epoch 171/200\n",
            "105/105 [==============================] - 0s 240us/sample - loss: 0.3644 - acc: 0.8762 - val_loss: 0.1800 - val_acc: 0.9333\n",
            "Epoch 172/200\n",
            "105/105 [==============================] - 0s 228us/sample - loss: 0.2344 - acc: 0.9333 - val_loss: 0.1807 - val_acc: 0.9333\n",
            "Epoch 173/200\n",
            "105/105 [==============================] - 0s 237us/sample - loss: 0.2397 - acc: 0.8857 - val_loss: 0.1810 - val_acc: 0.9333\n",
            "Epoch 174/200\n",
            "105/105 [==============================] - 0s 242us/sample - loss: 0.2191 - acc: 0.9143 - val_loss: 0.1792 - val_acc: 0.9333\n",
            "Epoch 175/200\n",
            "105/105 [==============================] - 0s 220us/sample - loss: 0.1944 - acc: 0.9333 - val_loss: 0.1794 - val_acc: 0.9333\n",
            "Epoch 176/200\n",
            "105/105 [==============================] - 0s 232us/sample - loss: 0.2665 - acc: 0.9048 - val_loss: 0.1780 - val_acc: 0.9333\n",
            "Epoch 177/200\n",
            "105/105 [==============================] - 0s 249us/sample - loss: 0.2105 - acc: 0.9048 - val_loss: 0.1791 - val_acc: 0.9333\n",
            "Epoch 178/200\n",
            "105/105 [==============================] - 0s 218us/sample - loss: 0.2842 - acc: 0.9048 - val_loss: 0.1791 - val_acc: 0.9333\n",
            "Epoch 179/200\n",
            "105/105 [==============================] - 0s 234us/sample - loss: 0.2800 - acc: 0.9048 - val_loss: 0.1782 - val_acc: 0.9333\n",
            "Epoch 180/200\n",
            "105/105 [==============================] - 0s 233us/sample - loss: 0.2237 - acc: 0.9333 - val_loss: 0.1783 - val_acc: 0.9333\n",
            "Epoch 181/200\n",
            "105/105 [==============================] - 0s 247us/sample - loss: 0.2002 - acc: 0.8952 - val_loss: 0.1778 - val_acc: 0.9333\n",
            "Epoch 182/200\n",
            "105/105 [==============================] - 0s 234us/sample - loss: 0.2527 - acc: 0.8952 - val_loss: 0.1781 - val_acc: 0.9333\n",
            "Epoch 183/200\n",
            "105/105 [==============================] - 0s 334us/sample - loss: 0.2964 - acc: 0.8857 - val_loss: 0.1775 - val_acc: 0.9333\n",
            "Epoch 184/200\n",
            "105/105 [==============================] - 0s 254us/sample - loss: 0.2137 - acc: 0.9048 - val_loss: 0.1766 - val_acc: 0.9333\n",
            "Epoch 185/200\n",
            "105/105 [==============================] - 0s 267us/sample - loss: 0.2378 - acc: 0.9048 - val_loss: 0.1770 - val_acc: 0.9333\n",
            "Epoch 186/200\n",
            "105/105 [==============================] - 0s 246us/sample - loss: 0.2596 - acc: 0.8857 - val_loss: 0.1787 - val_acc: 0.9333\n",
            "Epoch 187/200\n",
            "105/105 [==============================] - 0s 244us/sample - loss: 0.2794 - acc: 0.8857 - val_loss: 0.1774 - val_acc: 0.9333\n",
            "Epoch 188/200\n",
            "105/105 [==============================] - 0s 239us/sample - loss: 0.2386 - acc: 0.8857 - val_loss: 0.1772 - val_acc: 0.9333\n",
            "Epoch 189/200\n",
            "105/105 [==============================] - 0s 225us/sample - loss: 0.2897 - acc: 0.8857 - val_loss: 0.1768 - val_acc: 0.9333\n",
            "Epoch 190/200\n",
            "105/105 [==============================] - 0s 237us/sample - loss: 0.2647 - acc: 0.8857 - val_loss: 0.1764 - val_acc: 0.9333\n",
            "Epoch 191/200\n",
            "105/105 [==============================] - 0s 217us/sample - loss: 0.3351 - acc: 0.8762 - val_loss: 0.1744 - val_acc: 0.9333\n",
            "Epoch 192/200\n",
            "105/105 [==============================] - 0s 232us/sample - loss: 0.2420 - acc: 0.9143 - val_loss: 0.1741 - val_acc: 0.9333\n",
            "Epoch 193/200\n",
            "105/105 [==============================] - 0s 248us/sample - loss: 0.4042 - acc: 0.8286 - val_loss: 0.1764 - val_acc: 0.9333\n",
            "Epoch 194/200\n",
            "105/105 [==============================] - 0s 257us/sample - loss: 0.2108 - acc: 0.9524 - val_loss: 0.1769 - val_acc: 0.9333\n",
            "Epoch 195/200\n",
            "105/105 [==============================] - 0s 256us/sample - loss: 0.4026 - acc: 0.8190 - val_loss: 0.1765 - val_acc: 0.9333\n",
            "Epoch 196/200\n",
            "105/105 [==============================] - 0s 255us/sample - loss: 0.2629 - acc: 0.9429 - val_loss: 0.1751 - val_acc: 0.9333\n",
            "Epoch 197/200\n",
            "105/105 [==============================] - 0s 211us/sample - loss: 0.2476 - acc: 0.9048 - val_loss: 0.1745 - val_acc: 0.9333\n",
            "Epoch 198/200\n",
            "105/105 [==============================] - 0s 214us/sample - loss: 0.1700 - acc: 0.9429 - val_loss: 0.1737 - val_acc: 0.9333\n",
            "Epoch 199/200\n",
            "105/105 [==============================] - 0s 246us/sample - loss: 0.2454 - acc: 0.8952 - val_loss: 0.1732 - val_acc: 0.9333\n",
            "Epoch 200/200\n",
            "105/105 [==============================] - 0s 254us/sample - loss: 0.2332 - acc: 0.9143 - val_loss: 0.1753 - val_acc: 0.9333\n"
          ],
          "name": "stdout"
        },
        {
          "output_type": "execute_result",
          "data": {
            "text/plain": [
              "<tensorflow.python.keras.callbacks.History at 0x7f17cb1b79e8>"
            ]
          },
          "metadata": {
            "tags": []
          },
          "execution_count": 146
        }
      ]
    },
    {
      "cell_type": "markdown",
      "metadata": {
        "colab_type": "text",
        "id": "y-SgSSdRcih5"
      },
      "source": [
        "### Model Prediction"
      ]
    },
    {
      "cell_type": "code",
      "metadata": {
        "colab_type": "code",
        "id": "GBgKZkhkcih6",
        "colab": {
          "base_uri": "https://localhost:8080/",
          "height": 790
        },
        "outputId": "f299de09-bbc5-4682-af95-1e8b4b0ec7ca"
      },
      "source": [
        "prediction = model.predict(X_test)\n",
        "prediction"
      ],
      "execution_count": 147,
      "outputs": [
        {
          "output_type": "stream",
          "text": [
            "WARNING:tensorflow:Falling back from v2 loop because of error: Failed to find data adapter that can handle input: <class 'pandas.core.frame.DataFrame'>, <class 'NoneType'>\n"
          ],
          "name": "stdout"
        },
        {
          "output_type": "execute_result",
          "data": {
            "text/plain": [
              "array([[2.71421362e-04, 3.99893820e-01, 5.99834740e-01],\n",
              "       [2.80434688e-05, 1.53511092e-01, 8.46460819e-01],\n",
              "       [1.29338040e-03, 8.82631958e-01, 1.16074786e-01],\n",
              "       [9.96696711e-01, 3.30297532e-03, 3.28596997e-07],\n",
              "       [1.10734738e-02, 6.56010330e-01, 3.32916200e-01],\n",
              "       [3.90869146e-03, 9.56084192e-01, 4.00071032e-02],\n",
              "       [1.76896788e-02, 8.08060288e-01, 1.74249962e-01],\n",
              "       [9.99059856e-01, 9.39564139e-04, 5.70690759e-07],\n",
              "       [9.94191706e-01, 5.80772758e-03, 5.45625255e-07],\n",
              "       [5.09410910e-03, 8.54830921e-01, 1.40075028e-01],\n",
              "       [8.12880971e-05, 2.72049308e-01, 7.27869391e-01],\n",
              "       [1.98562872e-02, 7.18199372e-01, 2.61944324e-01],\n",
              "       [7.48563744e-03, 6.64624870e-01, 3.27889502e-01],\n",
              "       [5.24321618e-03, 9.72777069e-01, 2.19797194e-02],\n",
              "       [5.34347200e-05, 8.90639052e-03, 9.91040170e-01],\n",
              "       [1.55859543e-02, 9.62953329e-01, 2.14607418e-02],\n",
              "       [3.65914591e-03, 8.62632513e-01, 1.33708358e-01],\n",
              "       [2.73421360e-03, 1.56491935e-01, 8.40773880e-01],\n",
              "       [9.98887599e-01, 1.11209904e-03, 3.88605088e-07],\n",
              "       [9.96709347e-01, 3.28991562e-03, 7.50772983e-07],\n",
              "       [9.99918818e-01, 8.11449572e-05, 7.79159404e-09],\n",
              "       [9.86384332e-01, 1.36148743e-02, 8.36725519e-07],\n",
              "       [9.92404401e-01, 7.59447087e-03, 1.06050504e-06],\n",
              "       [9.96194720e-01, 3.80477798e-03, 5.09450672e-07],\n",
              "       [6.10097826e-01, 3.89859706e-01, 4.24569662e-05],\n",
              "       [7.90176273e-06, 3.32663469e-02, 9.66725767e-01],\n",
              "       [9.82909739e-01, 1.70893054e-02, 9.61663545e-07],\n",
              "       [7.92268943e-03, 4.43293810e-01, 5.48783481e-01],\n",
              "       [1.13251302e-02, 8.39804292e-01, 1.48870558e-01],\n",
              "       [5.43762115e-04, 7.31304884e-01, 2.68151462e-01],\n",
              "       [8.11005651e-04, 1.94573954e-01, 8.04615021e-01],\n",
              "       [4.43907811e-06, 7.98785035e-03, 9.92007732e-01],\n",
              "       [1.51792110e-05, 4.77585243e-03, 9.95208919e-01],\n",
              "       [2.20920219e-06, 4.59127128e-02, 9.54085112e-01],\n",
              "       [9.95383322e-01, 4.61617764e-03, 4.73632184e-07],\n",
              "       [9.91535902e-01, 8.46348610e-03, 5.80321796e-07],\n",
              "       [1.03175909e-04, 9.17110980e-01, 8.27858299e-02],\n",
              "       [9.95618522e-01, 4.37702797e-03, 4.44744592e-06],\n",
              "       [1.81086409e-06, 9.21951886e-03, 9.90778685e-01],\n",
              "       [9.87895131e-01, 1.21036721e-02, 1.14007219e-06],\n",
              "       [6.83993800e-03, 7.72702634e-01, 2.20457390e-01],\n",
              "       [1.11858856e-06, 1.41850486e-01, 8.58148396e-01],\n",
              "       [9.97690558e-01, 2.30921782e-03, 2.27185467e-07],\n",
              "       [9.94648635e-01, 5.35084587e-03, 4.37605053e-07],\n",
              "       [9.97934103e-01, 2.06560013e-03, 3.04652332e-07]], dtype=float32)"
            ]
          },
          "metadata": {
            "tags": []
          },
          "execution_count": 147
        }
      ]
    },
    {
      "cell_type": "markdown",
      "metadata": {
        "colab_type": "text",
        "id": "P32ASP1Vjt0a"
      },
      "source": [
        "### Save the Model"
      ]
    },
    {
      "cell_type": "code",
      "metadata": {
        "colab_type": "code",
        "id": "n8rd0jjAjyTR",
        "colab": {}
      },
      "source": [
        "model.save('R6_iris_model.h5')"
      ],
      "execution_count": 0,
      "outputs": []
    },
    {
      "cell_type": "markdown",
      "metadata": {
        "colab_type": "text",
        "id": "XiipRpe7rbVh"
      },
      "source": [
        "### Build and Train a Deep Neural network with 2 hidden layer  - Optional - For Practice\n",
        "\n",
        "Does it perform better than Linear Classifier? What could be the reason for difference in performance?"
      ]
    }
  ]
}