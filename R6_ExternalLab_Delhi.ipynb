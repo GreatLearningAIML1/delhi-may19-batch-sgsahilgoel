{
  "nbformat": 4,
  "nbformat_minor": 0,
  "metadata": {
    "colab": {
      "name": "R6_ExternalLab_Delhi.ipynb",
      "provenance": [],
      "collapsed_sections": []
    },
    "kernelspec": {
      "display_name": "Python 2",
      "language": "python",
      "name": "python2"
    }
  },
  "cells": [
    {
      "cell_type": "markdown",
      "metadata": {
        "id": "YYk8NG3yOIT9",
        "colab_type": "text"
      },
      "source": [
        "### A MNIST-like fashion product database\n",
        "\n",
        "In this, we classify the images into respective classes given in the dataset. We use a Neural Net and a Deep Neural Net in Keras to solve this and check the accuracy scores."
      ]
    },
    {
      "cell_type": "markdown",
      "metadata": {
        "id": "tFO6PuxzOIT_",
        "colab_type": "text"
      },
      "source": [
        "### Load tensorflow"
      ]
    },
    {
      "cell_type": "code",
      "metadata": {
        "id": "efNjNImfOIUC",
        "colab_type": "code",
        "outputId": "fe7c9761-b8b7-440b-c52c-52c88911ac29",
        "colab": {
          "base_uri": "https://localhost:8080/",
          "height": 62
        }
      },
      "source": [
        "import tensorflow as tf\n",
        "tf.set_random_seed(42)"
      ],
      "execution_count": 1,
      "outputs": [
        {
          "output_type": "display_data",
          "data": {
            "text/plain": [
              "<IPython.core.display.HTML object>"
            ],
            "text/html": [
              "<p style=\"color: red;\">\n",
              "The default version of TensorFlow in Colab will soon switch to TensorFlow 2.x.<br>\n",
              "We recommend you <a href=\"https://www.tensorflow.org/guide/migrate\" target=\"_blank\">upgrade</a> now \n",
              "or ensure your notebook will continue to use TensorFlow 1.x via the <code>%tensorflow_version 1.x</code> magic:\n",
              "<a href=\"https://colab.research.google.com/notebooks/tensorflow_version.ipynb\" target=\"_blank\">more info</a>.</p>\n"
            ]
          },
          "metadata": {
            "tags": []
          }
        }
      ]
    },
    {
      "cell_type": "code",
      "metadata": {
        "id": "l9C4aAIGOIUH",
        "colab_type": "code",
        "outputId": "9d60a4a2-c14e-4dc6-95df-cc371974e6b9",
        "colab": {
          "base_uri": "https://localhost:8080/",
          "height": 34
        }
      },
      "source": [
        "tf.__version__"
      ],
      "execution_count": 2,
      "outputs": [
        {
          "output_type": "execute_result",
          "data": {
            "text/plain": [
              "'1.15.0'"
            ]
          },
          "metadata": {
            "tags": []
          },
          "execution_count": 2
        }
      ]
    },
    {
      "cell_type": "markdown",
      "metadata": {
        "id": "HcoZBStrOIUQ",
        "colab_type": "text"
      },
      "source": [
        "### Collect Data"
      ]
    },
    {
      "cell_type": "code",
      "metadata": {
        "id": "XA1WsFSeOIUS",
        "colab_type": "code",
        "outputId": "3048edd6-4856-44cb-ad36-e27a2bd99c72",
        "colab": {
          "base_uri": "https://localhost:8080/",
          "height": 34
        }
      },
      "source": [
        "import keras"
      ],
      "execution_count": 3,
      "outputs": [
        {
          "output_type": "stream",
          "text": [
            "Using TensorFlow backend.\n"
          ],
          "name": "stderr"
        }
      ]
    },
    {
      "cell_type": "code",
      "metadata": {
        "id": "qnbx7TyQOIUY",
        "colab_type": "code",
        "outputId": "c3af0720-8f4a-4be3-fac5-204bc56d119d",
        "colab": {
          "base_uri": "https://localhost:8080/",
          "height": 202
        }
      },
      "source": [
        "(trainX, trainY), (testX, testY) = keras.datasets.fashion_mnist.load_data()"
      ],
      "execution_count": 4,
      "outputs": [
        {
          "output_type": "stream",
          "text": [
            "Downloading data from http://fashion-mnist.s3-website.eu-central-1.amazonaws.com/train-labels-idx1-ubyte.gz\n",
            "32768/29515 [=================================] - 0s 3us/step\n",
            "40960/29515 [=========================================] - 0s 3us/step\n",
            "Downloading data from http://fashion-mnist.s3-website.eu-central-1.amazonaws.com/train-images-idx3-ubyte.gz\n",
            "26427392/26421880 [==============================] - 1s 0us/step\n",
            "26435584/26421880 [==============================] - 1s 0us/step\n",
            "Downloading data from http://fashion-mnist.s3-website.eu-central-1.amazonaws.com/t10k-labels-idx1-ubyte.gz\n",
            "16384/5148 [===============================================================================================] - 0s 0us/step\n",
            "Downloading data from http://fashion-mnist.s3-website.eu-central-1.amazonaws.com/t10k-images-idx3-ubyte.gz\n",
            "4423680/4422102 [==============================] - 1s 0us/step\n",
            "4431872/4422102 [==============================] - 1s 0us/step\n"
          ],
          "name": "stdout"
        }
      ]
    },
    {
      "cell_type": "code",
      "metadata": {
        "id": "UbiHj5YPOIUc",
        "colab_type": "code",
        "outputId": "a157f135-9f1f-49aa-930d-0609e3d62277",
        "colab": {
          "base_uri": "https://localhost:8080/",
          "height": 34
        }
      },
      "source": [
        "print(testY[0:5])"
      ],
      "execution_count": 5,
      "outputs": [
        {
          "output_type": "stream",
          "text": [
            "[9 2 1 1 6]\n"
          ],
          "name": "stdout"
        }
      ]
    },
    {
      "cell_type": "code",
      "metadata": {
        "id": "CX0eMb9I9-do",
        "colab_type": "code",
        "outputId": "7d5d8eea-16c5-4616-a02a-eab1c5aba2a7",
        "colab": {
          "base_uri": "https://localhost:8080/",
          "height": 34
        }
      },
      "source": [
        "trainX.shape"
      ],
      "execution_count": 6,
      "outputs": [
        {
          "output_type": "execute_result",
          "data": {
            "text/plain": [
              "(60000, 28, 28)"
            ]
          },
          "metadata": {
            "tags": []
          },
          "execution_count": 6
        }
      ]
    },
    {
      "cell_type": "code",
      "metadata": {
        "id": "KtotIB7N-PvW",
        "colab_type": "code",
        "outputId": "9a2cc428-27ae-44e3-94d0-13446547229c",
        "colab": {
          "base_uri": "https://localhost:8080/",
          "height": 34
        }
      },
      "source": [
        "trainY"
      ],
      "execution_count": 7,
      "outputs": [
        {
          "output_type": "execute_result",
          "data": {
            "text/plain": [
              "array([9, 0, 0, ..., 3, 0, 5], dtype=uint8)"
            ]
          },
          "metadata": {
            "tags": []
          },
          "execution_count": 7
        }
      ]
    },
    {
      "cell_type": "markdown",
      "metadata": {
        "id": "lDAYzkwyOIUj",
        "colab_type": "text"
      },
      "source": [
        "### Convert both training and testing labels into one-hot vectors.\n",
        "\n",
        "**Hint:** check **tf.keras.utils.to_categorical()**"
      ]
    },
    {
      "cell_type": "code",
      "metadata": {
        "id": "vBlfYlANOIUk",
        "colab_type": "code",
        "colab": {}
      },
      "source": [
        "trainY = tf.keras.utils.to_categorical(trainY, num_classes=10)"
      ],
      "execution_count": 0,
      "outputs": []
    },
    {
      "cell_type": "code",
      "metadata": {
        "id": "pf_xOUfk_7m1",
        "colab_type": "code",
        "outputId": "7efbb83a-b247-4c9a-a984-735cf27a5b5a",
        "colab": {
          "base_uri": "https://localhost:8080/",
          "height": 118
        }
      },
      "source": [
        "print(trainY.shape)\n",
        "print('First 5 examples now are: ', trainY[0:5])"
      ],
      "execution_count": 9,
      "outputs": [
        {
          "output_type": "stream",
          "text": [
            "(60000, 10)\n",
            "('First 5 examples now are: ', array([[0., 0., 0., 0., 0., 0., 0., 0., 0., 1.],\n",
            "       [1., 0., 0., 0., 0., 0., 0., 0., 0., 0.],\n",
            "       [1., 0., 0., 0., 0., 0., 0., 0., 0., 0.],\n",
            "       [0., 0., 0., 1., 0., 0., 0., 0., 0., 0.],\n",
            "       [1., 0., 0., 0., 0., 0., 0., 0., 0., 0.]], dtype=float32))\n"
          ],
          "name": "stdout"
        }
      ]
    },
    {
      "cell_type": "code",
      "metadata": {
        "scrolled": true,
        "id": "RHV3b9mzOIUq",
        "colab_type": "code",
        "colab": {}
      },
      "source": [
        "testY = tf.keras.utils.to_categorical(testY, num_classes=10)"
      ],
      "execution_count": 0,
      "outputs": []
    },
    {
      "cell_type": "code",
      "metadata": {
        "id": "e9YIxrQwAMWv",
        "colab_type": "code",
        "outputId": "434f1c2f-d7cf-4f16-a174-c7aa340968ba",
        "colab": {
          "base_uri": "https://localhost:8080/",
          "height": 118
        }
      },
      "source": [
        "print(testY.shape)\n",
        "print('First 5 examples now are: ', testY[0:5])"
      ],
      "execution_count": 11,
      "outputs": [
        {
          "output_type": "stream",
          "text": [
            "(10000, 10)\n",
            "('First 5 examples now are: ', array([[0., 0., 0., 0., 0., 0., 0., 0., 0., 1.],\n",
            "       [0., 0., 1., 0., 0., 0., 0., 0., 0., 0.],\n",
            "       [0., 1., 0., 0., 0., 0., 0., 0., 0., 0.],\n",
            "       [0., 1., 0., 0., 0., 0., 0., 0., 0., 0.],\n",
            "       [0., 0., 0., 0., 0., 0., 1., 0., 0., 0.]], dtype=float32))\n"
          ],
          "name": "stdout"
        }
      ]
    },
    {
      "cell_type": "markdown",
      "metadata": {
        "id": "FwhQ8e7VOIUw",
        "colab_type": "text"
      },
      "source": [
        "### Visualize the data\n",
        "\n",
        "Plot first 10 images in the triaining set and their labels."
      ]
    },
    {
      "cell_type": "code",
      "metadata": {
        "id": "1anNbB6dCUid",
        "colab_type": "code",
        "colab": {}
      },
      "source": [
        "import matplotlib.pyplot as plt\n",
        "import numpy as np"
      ],
      "execution_count": 0,
      "outputs": []
    },
    {
      "cell_type": "code",
      "metadata": {
        "id": "GWzpuepBHN2L",
        "colab_type": "code",
        "colab": {}
      },
      "source": [
        "labels = []"
      ],
      "execution_count": 0,
      "outputs": []
    },
    {
      "cell_type": "code",
      "metadata": {
        "id": "cOzHgkdgEyoW",
        "colab_type": "code",
        "outputId": "eed4a8d6-33ee-44ce-efbd-0c4f300ae2b2",
        "colab": {
          "base_uri": "https://localhost:8080/",
          "height": 133
        }
      },
      "source": [
        "plt.figure(figsize=(10,5))\n",
        "columns = 10\n",
        "for i in range(0,10):\n",
        "    plt.subplot(10 / columns + 1, columns, i + 1)\n",
        "    plt.imshow(trainX[i],cmap='gray',)\n",
        "    labels.append(np.argmax(trainY[i]))\n",
        "print('Labels for each image')\n",
        "print(labels)"
      ],
      "execution_count": 14,
      "outputs": [
        {
          "output_type": "stream",
          "text": [
            "Labels for each image\n",
            "[9, 0, 0, 3, 0, 2, 7, 2, 5, 5]\n"
          ],
          "name": "stdout"
        },
        {
          "output_type": "display_data",
          "data": {
            "image/png": "[encoded data removed]",
            "text/plain": [
              "<Figure size 720x360 with 10 Axes>"
            ]
          },
          "metadata": {
            "tags": []
          }
        }
      ]
    },
    {
      "cell_type": "markdown",
      "metadata": {
        "id": "l4TbJGeSOIU4",
        "colab_type": "text"
      },
      "source": [
        "### Build a neural Network with a cross entropy loss function and sgd optimizer in Keras. The output layer with 10 neurons as we have 10 classes."
      ]
    },
    {
      "cell_type": "code",
      "metadata": {
        "id": "Ac06XZZTOIU6",
        "colab_type": "code",
        "colab": {
          "base_uri": "https://localhost:8080/",
          "height": 104
        },
        "outputId": "228679db-1119-4e5f-f7ff-25e3acaf463d"
      },
      "source": [
        "model = tf.keras.models.Sequential()\n",
        "model.add(tf.keras.layers.Reshape((784,),input_shape=(28,28,)))\n",
        "model.add(tf.keras.layers.Dense(10, activation='softmax'))\n",
        "model.compile(optimizer='sgd', loss='categorical_crossentropy', \n",
        "              metrics=['accuracy'])"
      ],
      "execution_count": 15,
      "outputs": [
        {
          "output_type": "stream",
          "text": [
            "WARNING: Logging before flag parsing goes to stderr.\n",
            "W1110 09:13:35.447760 140128811198336 deprecation.py:506] From /usr/local/lib/python2.7/dist-packages/tensorflow_core/python/ops/resource_variable_ops.py:1630: calling __init__ (from tensorflow.python.ops.resource_variable_ops) with constraint is deprecated and will be removed in a future version.\n",
            "Instructions for updating:\n",
            "If using Keras pass *_constraint arguments to layers.\n"
          ],
          "name": "stderr"
        }
      ]
    },
    {
      "cell_type": "markdown",
      "metadata": {
        "id": "3hQpLv3aOIU_",
        "colab_type": "text"
      },
      "source": [
        "### Execute the model using model.fit()"
      ]
    },
    {
      "cell_type": "code",
      "metadata": {
        "id": "Ilz1D-USJCNa",
        "colab_type": "code",
        "outputId": "697c3a8e-64dd-4adf-a46e-69a9ff6ed737",
        "colab": {
          "base_uri": "https://localhost:8080/",
          "height": 1000
        }
      },
      "source": [
        "model.fit(trainX, trainY, \n",
        "          validation_data=(testX, testY), \n",
        "          epochs=50,\n",
        "          batch_size=30)"
      ],
      "execution_count": 16,
      "outputs": [
        {
          "output_type": "stream",
          "text": [
            "Train on 60000 samples, validate on 10000 samples\n",
            "Epoch 1/50\n",
            "60000/60000 [==============================] - 3s 45us/sample - loss: 2080.5945 - acc: 0.7409 - val_loss: 1289.8372 - val_acc: 0.7991\n",
            "Epoch 2/50\n",
            "60000/60000 [==============================] - 2s 39us/sample - loss: 1646.9322 - acc: 0.7807 - val_loss: 1086.4038 - val_acc: 0.8050\n",
            "Epoch 3/50\n",
            "60000/60000 [==============================] - 2s 39us/sample - loss: 1621.4382 - acc: 0.7837 - val_loss: 1954.6833 - val_acc: 0.8006\n",
            "Epoch 4/50\n",
            "60000/60000 [==============================] - 2s 38us/sample - loss: 1569.0645 - acc: 0.7899 - val_loss: 1507.5453 - val_acc: 0.7741\n",
            "Epoch 5/50\n",
            "60000/60000 [==============================] - 2s 39us/sample - loss: 1512.1228 - acc: 0.7941 - val_loss: 1320.6494 - val_acc: 0.7761\n",
            "Epoch 6/50\n",
            "60000/60000 [==============================] - 2s 39us/sample - loss: 1533.5692 - acc: 0.7936 - val_loss: 1424.9272 - val_acc: 0.8060\n",
            "Epoch 7/50\n",
            "60000/60000 [==============================] - 2s 39us/sample - loss: 1524.0036 - acc: 0.7935 - val_loss: 5598.5547 - val_acc: 0.6111\n",
            "Epoch 8/50\n",
            "60000/60000 [==============================] - 2s 38us/sample - loss: 1471.0590 - acc: 0.7997 - val_loss: 1468.9310 - val_acc: 0.7799\n",
            "Epoch 9/50\n",
            "60000/60000 [==============================] - 2s 39us/sample - loss: 1480.7862 - acc: 0.7994 - val_loss: 1413.8090 - val_acc: 0.8057\n",
            "Epoch 10/50\n",
            "60000/60000 [==============================] - 2s 39us/sample - loss: 1548.1042 - acc: 0.7971 - val_loss: 1449.1784 - val_acc: 0.7815\n",
            "Epoch 11/50\n",
            "60000/60000 [==============================] - 2s 39us/sample - loss: 1446.5238 - acc: 0.8020 - val_loss: 1068.0463 - val_acc: 0.8185\n",
            "Epoch 12/50\n",
            "60000/60000 [==============================] - 2s 39us/sample - loss: 1453.0998 - acc: 0.8027 - val_loss: 1558.4929 - val_acc: 0.7988\n",
            "Epoch 13/50\n",
            "60000/60000 [==============================] - 2s 39us/sample - loss: 1469.4297 - acc: 0.7999 - val_loss: 1266.3944 - val_acc: 0.7987\n",
            "Epoch 14/50\n",
            "60000/60000 [==============================] - 2s 39us/sample - loss: 1474.4548 - acc: 0.8036 - val_loss: 1562.5027 - val_acc: 0.7847\n",
            "Epoch 15/50\n",
            "60000/60000 [==============================] - 2s 39us/sample - loss: 1431.1635 - acc: 0.8039 - val_loss: 1361.6821 - val_acc: 0.7934\n",
            "Epoch 16/50\n",
            "60000/60000 [==============================] - 2s 38us/sample - loss: 1434.6843 - acc: 0.8035 - val_loss: 1085.9692 - val_acc: 0.8230\n",
            "Epoch 17/50\n",
            "60000/60000 [==============================] - 2s 39us/sample - loss: 1398.3206 - acc: 0.8043 - val_loss: 1270.2909 - val_acc: 0.8234\n",
            "Epoch 18/50\n",
            "60000/60000 [==============================] - 2s 39us/sample - loss: 1444.6700 - acc: 0.8037 - val_loss: 1151.4994 - val_acc: 0.8056\n",
            "Epoch 19/50\n",
            "60000/60000 [==============================] - 2s 39us/sample - loss: 1451.4613 - acc: 0.8026 - val_loss: 1940.7028 - val_acc: 0.7717\n",
            "Epoch 20/50\n",
            "60000/60000 [==============================] - 2s 39us/sample - loss: 1378.3332 - acc: 0.8076 - val_loss: 1813.1069 - val_acc: 0.7974\n",
            "Epoch 21/50\n",
            "60000/60000 [==============================] - 2s 40us/sample - loss: 1416.6632 - acc: 0.8072 - val_loss: 1060.9803 - val_acc: 0.8242\n",
            "Epoch 22/50\n",
            "60000/60000 [==============================] - 2s 39us/sample - loss: 1437.3701 - acc: 0.8075 - val_loss: 2218.2049 - val_acc: 0.7989\n",
            "Epoch 23/50\n",
            "60000/60000 [==============================] - 2s 39us/sample - loss: 1397.5424 - acc: 0.8064 - val_loss: 1258.9842 - val_acc: 0.7904\n",
            "Epoch 24/50\n",
            "60000/60000 [==============================] - 2s 40us/sample - loss: 1487.9099 - acc: 0.8054 - val_loss: 1171.5770 - val_acc: 0.8190\n",
            "Epoch 25/50\n",
            "60000/60000 [==============================] - 2s 39us/sample - loss: 1437.1536 - acc: 0.8070 - val_loss: 1378.6469 - val_acc: 0.8111\n",
            "Epoch 26/50\n",
            "60000/60000 [==============================] - 2s 39us/sample - loss: 1432.2203 - acc: 0.8065 - val_loss: 1589.2873 - val_acc: 0.7778\n",
            "Epoch 27/50\n",
            "60000/60000 [==============================] - 2s 39us/sample - loss: 1374.6744 - acc: 0.8075 - val_loss: 1232.6240 - val_acc: 0.8015\n",
            "Epoch 28/50\n",
            "60000/60000 [==============================] - 2s 40us/sample - loss: 1447.7961 - acc: 0.8062 - val_loss: 1150.6910 - val_acc: 0.8222\n",
            "Epoch 29/50\n",
            "60000/60000 [==============================] - 2s 39us/sample - loss: 1429.9822 - acc: 0.8064 - val_loss: 1589.0636 - val_acc: 0.7908\n",
            "Epoch 30/50\n",
            "60000/60000 [==============================] - 2s 39us/sample - loss: 1451.3756 - acc: 0.8058 - val_loss: 3040.8852 - val_acc: 0.6969\n",
            "Epoch 31/50\n",
            "60000/60000 [==============================] - 2s 39us/sample - loss: 1431.7970 - acc: 0.8069 - val_loss: 1735.9922 - val_acc: 0.7714\n",
            "Epoch 32/50\n",
            "60000/60000 [==============================] - 2s 39us/sample - loss: 1409.0761 - acc: 0.8057 - val_loss: 1759.0467 - val_acc: 0.7618\n",
            "Epoch 33/50\n",
            "60000/60000 [==============================] - 2s 39us/sample - loss: 1368.4770 - acc: 0.8105 - val_loss: 1686.1547 - val_acc: 0.7337\n",
            "Epoch 34/50\n",
            "60000/60000 [==============================] - 2s 39us/sample - loss: 1437.5948 - acc: 0.8062 - val_loss: 1504.4788 - val_acc: 0.7915\n",
            "Epoch 35/50\n",
            "60000/60000 [==============================] - 2s 39us/sample - loss: 1389.9231 - acc: 0.8092 - val_loss: 1699.8092 - val_acc: 0.7828\n",
            "Epoch 36/50\n",
            "60000/60000 [==============================] - 2s 39us/sample - loss: 1377.3684 - acc: 0.8113 - val_loss: 3064.4660 - val_acc: 0.7299\n",
            "Epoch 37/50\n",
            "60000/60000 [==============================] - 2s 39us/sample - loss: 1412.3703 - acc: 0.8090 - val_loss: 1292.8725 - val_acc: 0.8256\n",
            "Epoch 38/50\n",
            "60000/60000 [==============================] - 2s 39us/sample - loss: 1426.9187 - acc: 0.8079 - val_loss: 1272.0826 - val_acc: 0.8067\n",
            "Epoch 39/50\n",
            "60000/60000 [==============================] - 2s 39us/sample - loss: 1402.2033 - acc: 0.8092 - val_loss: 1146.3434 - val_acc: 0.8239\n",
            "Epoch 40/50\n",
            "60000/60000 [==============================] - 2s 39us/sample - loss: 1410.3147 - acc: 0.8096 - val_loss: 1890.7386 - val_acc: 0.7562\n",
            "Epoch 41/50\n",
            "60000/60000 [==============================] - 2s 39us/sample - loss: 1416.3106 - acc: 0.8099 - val_loss: 1260.6003 - val_acc: 0.8131\n",
            "Epoch 42/50\n",
            "60000/60000 [==============================] - 2s 41us/sample - loss: 1431.0560 - acc: 0.8085 - val_loss: 1565.2343 - val_acc: 0.7743\n",
            "Epoch 43/50\n",
            "60000/60000 [==============================] - 2s 39us/sample - loss: 1388.2631 - acc: 0.8111 - val_loss: 1295.7132 - val_acc: 0.8145\n",
            "Epoch 44/50\n",
            "60000/60000 [==============================] - 2s 39us/sample - loss: 1424.7705 - acc: 0.8080 - val_loss: 1647.6065 - val_acc: 0.7709\n",
            "Epoch 45/50\n",
            "60000/60000 [==============================] - 2s 39us/sample - loss: 1391.1995 - acc: 0.8115 - val_loss: 1700.0397 - val_acc: 0.7925\n",
            "Epoch 46/50\n",
            "60000/60000 [==============================] - 2s 38us/sample - loss: 1390.2772 - acc: 0.8109 - val_loss: 2065.1069 - val_acc: 0.7638\n",
            "Epoch 47/50\n",
            "60000/60000 [==============================] - 2s 39us/sample - loss: 1409.9364 - acc: 0.8096 - val_loss: 1287.9408 - val_acc: 0.8115\n",
            "Epoch 48/50\n",
            "60000/60000 [==============================] - 2s 39us/sample - loss: 1382.7752 - acc: 0.8091 - val_loss: 1625.3026 - val_acc: 0.7803\n",
            "Epoch 49/50\n",
            "60000/60000 [==============================] - 2s 39us/sample - loss: 1374.7176 - acc: 0.8122 - val_loss: 2194.0280 - val_acc: 0.7613\n",
            "Epoch 50/50\n",
            "60000/60000 [==============================] - 2s 39us/sample - loss: 1371.5133 - acc: 0.8114 - val_loss: 1932.9637 - val_acc: 0.7653\n"
          ],
          "name": "stdout"
        },
        {
          "output_type": "execute_result",
          "data": {
            "text/plain": [
              "<tensorflow.python.keras.callbacks.History at 0x7f720caae310>"
            ]
          },
          "metadata": {
            "tags": []
          },
          "execution_count": 16
        }
      ]
    },
    {
      "cell_type": "markdown",
      "metadata": {
        "id": "JdzDtGwDOIVF",
        "colab_type": "text"
      },
      "source": [
        "### In the above Neural Network model add Batch Normalization layer after the input layer and repeat the steps."
      ]
    },
    {
      "cell_type": "code",
      "metadata": {
        "id": "kndfpdidOIVI",
        "colab_type": "code",
        "colab": {}
      },
      "source": [
        "model = tf.keras.models.Sequential()\n",
        "model.add(tf.keras.layers.Reshape((784,),input_shape=(28,28,)))\n",
        "model.add(tf.keras.layers.BatchNormalization())\n",
        "model.add(tf.keras.layers.Dense(10, activation='softmax'))\n",
        "model.compile(optimizer='sgd', loss='categorical_crossentropy', \n",
        "              metrics=['accuracy'])"
      ],
      "execution_count": 0,
      "outputs": []
    },
    {
      "cell_type": "markdown",
      "metadata": {
        "id": "mwk3T5LJOIVN",
        "colab_type": "text"
      },
      "source": [
        "### Execute the model"
      ]
    },
    {
      "cell_type": "code",
      "metadata": {
        "id": "JNLR8tcBOIVP",
        "colab_type": "code",
        "outputId": "f38375cf-b65c-44b9-a2d7-c473e1a19878",
        "colab": {
          "base_uri": "https://localhost:8080/",
          "height": 1000
        }
      },
      "source": [
        "model.fit(trainX, trainY, \n",
        "          validation_data=(testX, testY), \n",
        "          epochs=50,\n",
        "          batch_size=30)"
      ],
      "execution_count": 18,
      "outputs": [
        {
          "output_type": "stream",
          "text": [
            "Train on 60000 samples, validate on 10000 samples\n",
            "Epoch 1/50\n",
            "60000/60000 [==============================] - 4s 60us/sample - loss: 0.5967 - acc: 0.7936 - val_loss: 0.5150 - val_acc: 0.8262\n",
            "Epoch 2/50\n",
            "60000/60000 [==============================] - 3s 57us/sample - loss: 0.4922 - acc: 0.8298 - val_loss: 0.5083 - val_acc: 0.8282\n",
            "Epoch 3/50\n",
            "60000/60000 [==============================] - 3s 54us/sample - loss: 0.4733 - acc: 0.8365 - val_loss: 0.4878 - val_acc: 0.8338\n",
            "Epoch 4/50\n",
            "60000/60000 [==============================] - 3s 53us/sample - loss: 0.4593 - acc: 0.8416 - val_loss: 0.4706 - val_acc: 0.8385\n",
            "Epoch 5/50\n",
            "60000/60000 [==============================] - 3s 53us/sample - loss: 0.4526 - acc: 0.8428 - val_loss: 0.4690 - val_acc: 0.8389\n",
            "Epoch 6/50\n",
            "60000/60000 [==============================] - 3s 53us/sample - loss: 0.4482 - acc: 0.8436 - val_loss: 0.4797 - val_acc: 0.8400\n",
            "Epoch 7/50\n",
            "60000/60000 [==============================] - 3s 54us/sample - loss: 0.4403 - acc: 0.8479 - val_loss: 0.4770 - val_acc: 0.8363\n",
            "Epoch 8/50\n",
            "60000/60000 [==============================] - 3s 55us/sample - loss: 0.4363 - acc: 0.8477 - val_loss: 0.4662 - val_acc: 0.8413\n",
            "Epoch 9/50\n",
            "60000/60000 [==============================] - 3s 54us/sample - loss: 0.4336 - acc: 0.8492 - val_loss: 0.4757 - val_acc: 0.8355\n",
            "Epoch 10/50\n",
            "60000/60000 [==============================] - 3s 55us/sample - loss: 0.4328 - acc: 0.8499 - val_loss: 0.4647 - val_acc: 0.8416\n",
            "Epoch 11/50\n",
            "60000/60000 [==============================] - 3s 55us/sample - loss: 0.4273 - acc: 0.8506 - val_loss: 0.4771 - val_acc: 0.8417\n",
            "Epoch 12/50\n",
            "60000/60000 [==============================] - 3s 55us/sample - loss: 0.4296 - acc: 0.8506 - val_loss: 0.4633 - val_acc: 0.8425\n",
            "Epoch 13/50\n",
            "60000/60000 [==============================] - 3s 55us/sample - loss: 0.4268 - acc: 0.8503 - val_loss: 0.4730 - val_acc: 0.8412\n",
            "Epoch 14/50\n",
            "60000/60000 [==============================] - 3s 55us/sample - loss: 0.4269 - acc: 0.8504 - val_loss: 0.4666 - val_acc: 0.8438\n",
            "Epoch 15/50\n",
            "60000/60000 [==============================] - 3s 55us/sample - loss: 0.4266 - acc: 0.8515 - val_loss: 0.4686 - val_acc: 0.8394\n",
            "Epoch 16/50\n",
            "60000/60000 [==============================] - 3s 55us/sample - loss: 0.4223 - acc: 0.8519 - val_loss: 0.4612 - val_acc: 0.8437\n",
            "Epoch 17/50\n",
            "60000/60000 [==============================] - 3s 56us/sample - loss: 0.4221 - acc: 0.8521 - val_loss: 0.4850 - val_acc: 0.8400\n",
            "Epoch 18/50\n",
            "60000/60000 [==============================] - 3s 55us/sample - loss: 0.4232 - acc: 0.8511 - val_loss: 0.4624 - val_acc: 0.8405\n",
            "Epoch 19/50\n",
            "60000/60000 [==============================] - 3s 54us/sample - loss: 0.4193 - acc: 0.8515 - val_loss: 0.4696 - val_acc: 0.8395\n",
            "Epoch 20/50\n",
            "60000/60000 [==============================] - 3s 56us/sample - loss: 0.4207 - acc: 0.8517 - val_loss: 0.4753 - val_acc: 0.8400\n",
            "Epoch 21/50\n",
            "60000/60000 [==============================] - 3s 55us/sample - loss: 0.4183 - acc: 0.8526 - val_loss: 0.4663 - val_acc: 0.8434\n",
            "Epoch 22/50\n",
            "60000/60000 [==============================] - 3s 55us/sample - loss: 0.4157 - acc: 0.8546 - val_loss: 0.4726 - val_acc: 0.8388\n",
            "Epoch 23/50\n",
            "60000/60000 [==============================] - 3s 55us/sample - loss: 0.4184 - acc: 0.8537 - val_loss: 0.4604 - val_acc: 0.8441\n",
            "Epoch 24/50\n",
            "60000/60000 [==============================] - 3s 55us/sample - loss: 0.4166 - acc: 0.8530 - val_loss: 0.4759 - val_acc: 0.8425\n",
            "Epoch 25/50\n",
            "60000/60000 [==============================] - 3s 54us/sample - loss: 0.4174 - acc: 0.8533 - val_loss: 0.4698 - val_acc: 0.8424\n",
            "Epoch 26/50\n",
            "60000/60000 [==============================] - 3s 56us/sample - loss: 0.4164 - acc: 0.8544 - val_loss: 0.4664 - val_acc: 0.8421\n",
            "Epoch 27/50\n",
            "60000/60000 [==============================] - 3s 58us/sample - loss: 0.4134 - acc: 0.8553 - val_loss: 0.4727 - val_acc: 0.8417\n",
            "Epoch 28/50\n",
            "60000/60000 [==============================] - 3s 56us/sample - loss: 0.4146 - acc: 0.8540 - val_loss: 0.4753 - val_acc: 0.8395\n",
            "Epoch 29/50\n",
            "60000/60000 [==============================] - 3s 55us/sample - loss: 0.4134 - acc: 0.8548 - val_loss: 0.5133 - val_acc: 0.8322\n",
            "Epoch 30/50\n",
            "60000/60000 [==============================] - 3s 55us/sample - loss: 0.4135 - acc: 0.8544 - val_loss: 0.4626 - val_acc: 0.8426\n",
            "Epoch 31/50\n",
            "60000/60000 [==============================] - 3s 56us/sample - loss: 0.4153 - acc: 0.8545 - val_loss: 0.4892 - val_acc: 0.8416\n",
            "Epoch 32/50\n",
            "60000/60000 [==============================] - 3s 55us/sample - loss: 0.4125 - acc: 0.8555 - val_loss: 0.4665 - val_acc: 0.8413\n",
            "Epoch 33/50\n",
            "60000/60000 [==============================] - 3s 55us/sample - loss: 0.4116 - acc: 0.8561 - val_loss: 0.4705 - val_acc: 0.8434\n",
            "Epoch 34/50\n",
            "60000/60000 [==============================] - 3s 55us/sample - loss: 0.4129 - acc: 0.8549 - val_loss: 0.4889 - val_acc: 0.8368\n",
            "Epoch 35/50\n",
            "60000/60000 [==============================] - 3s 55us/sample - loss: 0.4112 - acc: 0.8550 - val_loss: 0.4736 - val_acc: 0.8429\n",
            "Epoch 36/50\n",
            "60000/60000 [==============================] - 3s 56us/sample - loss: 0.4095 - acc: 0.8563 - val_loss: 0.4700 - val_acc: 0.8411\n",
            "Epoch 37/50\n",
            "60000/60000 [==============================] - 3s 56us/sample - loss: 0.4106 - acc: 0.8551 - val_loss: 0.4984 - val_acc: 0.8396\n",
            "Epoch 38/50\n",
            "60000/60000 [==============================] - 3s 55us/sample - loss: 0.4132 - acc: 0.8536 - val_loss: 0.4736 - val_acc: 0.8420\n",
            "Epoch 39/50\n",
            "60000/60000 [==============================] - 3s 53us/sample - loss: 0.4110 - acc: 0.8545 - val_loss: 0.4891 - val_acc: 0.8384\n",
            "Epoch 40/50\n",
            "60000/60000 [==============================] - 3s 54us/sample - loss: 0.4112 - acc: 0.8549 - val_loss: 0.4870 - val_acc: 0.8424\n",
            "Epoch 41/50\n",
            "60000/60000 [==============================] - 3s 53us/sample - loss: 0.4099 - acc: 0.8562 - val_loss: 0.4849 - val_acc: 0.8404\n",
            "Epoch 42/50\n",
            "60000/60000 [==============================] - 3s 53us/sample - loss: 0.4076 - acc: 0.8558 - val_loss: 0.4838 - val_acc: 0.8411\n",
            "Epoch 43/50\n",
            "60000/60000 [==============================] - 3s 53us/sample - loss: 0.4083 - acc: 0.8554 - val_loss: 0.4873 - val_acc: 0.8422\n",
            "Epoch 44/50\n",
            "60000/60000 [==============================] - 3s 53us/sample - loss: 0.4075 - acc: 0.8577 - val_loss: 0.4770 - val_acc: 0.8430\n",
            "Epoch 45/50\n",
            "60000/60000 [==============================] - 3s 53us/sample - loss: 0.4096 - acc: 0.8561 - val_loss: 0.4653 - val_acc: 0.8416\n",
            "Epoch 46/50\n",
            "60000/60000 [==============================] - 3s 53us/sample - loss: 0.4087 - acc: 0.8567 - val_loss: 0.4713 - val_acc: 0.8393\n",
            "Epoch 47/50\n",
            "60000/60000 [==============================] - 3s 53us/sample - loss: 0.4082 - acc: 0.8561 - val_loss: 0.4880 - val_acc: 0.8397\n",
            "Epoch 48/50\n",
            "60000/60000 [==============================] - 3s 53us/sample - loss: 0.4095 - acc: 0.8554 - val_loss: 0.4963 - val_acc: 0.8372\n",
            "Epoch 49/50\n",
            "60000/60000 [==============================] - 3s 53us/sample - loss: 0.4051 - acc: 0.8555 - val_loss: 0.4849 - val_acc: 0.8326\n",
            "Epoch 50/50\n",
            "60000/60000 [==============================] - 3s 53us/sample - loss: 0.4075 - acc: 0.8564 - val_loss: 0.4683 - val_acc: 0.8414\n"
          ],
          "name": "stdout"
        },
        {
          "output_type": "execute_result",
          "data": {
            "text/plain": [
              "<tensorflow.python.keras.callbacks.History at 0x7f720f9f3890>"
            ]
          },
          "metadata": {
            "tags": []
          },
          "execution_count": 18
        }
      ]
    },
    {
      "cell_type": "markdown",
      "metadata": {
        "id": "Py-KwkmjOIVU",
        "colab_type": "text"
      },
      "source": [
        "### Customize the learning rate to 0.001 in sgd optimizer and run the model"
      ]
    },
    {
      "cell_type": "code",
      "metadata": {
        "id": "yLXUE9jWOIVV",
        "colab_type": "code",
        "colab": {}
      },
      "source": [
        "sgd = tf.keras.optimizers.SGD(learning_rate=0.001)\n",
        "model = tf.keras.models.Sequential()\n",
        "model.add(tf.keras.layers.Reshape((784,),input_shape=(28,28,)))\n",
        "model.add(tf.keras.layers.BatchNormalization())\n",
        "model.add(tf.keras.layers.Dense(10, activation='softmax'))\n",
        "model.compile(optimizer=sgd, loss='categorical_crossentropy', metrics=['accuracy'])"
      ],
      "execution_count": 0,
      "outputs": []
    },
    {
      "cell_type": "code",
      "metadata": {
        "id": "pJUqA5T4OIVc",
        "colab_type": "code",
        "colab": {
          "base_uri": "https://localhost:8080/",
          "height": 1000
        },
        "outputId": "fb15c949-b26f-4607-8e89-48197283abc8"
      },
      "source": [
        "model.fit(trainX, trainY, \n",
        "          validation_data=(testX, testY), \n",
        "          epochs=50,\n",
        "          batch_size=30)"
      ],
      "execution_count": 20,
      "outputs": [
        {
          "output_type": "stream",
          "text": [
            "Train on 60000 samples, validate on 10000 samples\n",
            "Epoch 1/50\n",
            "60000/60000 [==============================] - 4s 59us/sample - loss: 0.9245 - acc: 0.6803 - val_loss: 0.6933 - val_acc: 0.7651\n",
            "Epoch 2/50\n",
            "60000/60000 [==============================] - 3s 56us/sample - loss: 0.6396 - acc: 0.7798 - val_loss: 0.6124 - val_acc: 0.7927\n",
            "Epoch 3/50\n",
            "60000/60000 [==============================] - 3s 57us/sample - loss: 0.5861 - acc: 0.7967 - val_loss: 0.5882 - val_acc: 0.8047\n",
            "Epoch 4/50\n",
            "60000/60000 [==============================] - 3s 56us/sample - loss: 0.5554 - acc: 0.8075 - val_loss: 0.5697 - val_acc: 0.8112\n",
            "Epoch 5/50\n",
            "60000/60000 [==============================] - 3s 58us/sample - loss: 0.5377 - acc: 0.8135 - val_loss: 0.5365 - val_acc: 0.8176\n",
            "Epoch 6/50\n",
            "60000/60000 [==============================] - 3s 57us/sample - loss: 0.5264 - acc: 0.8180 - val_loss: 0.5356 - val_acc: 0.8210\n",
            "Epoch 7/50\n",
            "60000/60000 [==============================] - 3s 56us/sample - loss: 0.5136 - acc: 0.8230 - val_loss: 0.5182 - val_acc: 0.8244\n",
            "Epoch 8/50\n",
            "60000/60000 [==============================] - 3s 56us/sample - loss: 0.5089 - acc: 0.8233 - val_loss: 0.5138 - val_acc: 0.8261\n",
            "Epoch 9/50\n",
            "60000/60000 [==============================] - 3s 57us/sample - loss: 0.4995 - acc: 0.8278 - val_loss: 0.5105 - val_acc: 0.8273\n",
            "Epoch 10/50\n",
            "60000/60000 [==============================] - 3s 57us/sample - loss: 0.4950 - acc: 0.8295 - val_loss: 0.5106 - val_acc: 0.8294\n",
            "Epoch 11/50\n",
            "60000/60000 [==============================] - 3s 57us/sample - loss: 0.4897 - acc: 0.8305 - val_loss: 0.4997 - val_acc: 0.8300\n",
            "Epoch 12/50\n",
            "60000/60000 [==============================] - 3s 57us/sample - loss: 0.4847 - acc: 0.8339 - val_loss: 0.5054 - val_acc: 0.8318\n",
            "Epoch 13/50\n",
            "60000/60000 [==============================] - 3s 58us/sample - loss: 0.4823 - acc: 0.8336 - val_loss: 0.5035 - val_acc: 0.8316\n",
            "Epoch 14/50\n",
            "60000/60000 [==============================] - 4s 59us/sample - loss: 0.4801 - acc: 0.8345 - val_loss: 0.4987 - val_acc: 0.8340\n",
            "Epoch 15/50\n",
            "60000/60000 [==============================] - 3s 58us/sample - loss: 0.4731 - acc: 0.8361 - val_loss: 0.4928 - val_acc: 0.8341\n",
            "Epoch 16/50\n",
            "60000/60000 [==============================] - 4s 60us/sample - loss: 0.4720 - acc: 0.8368 - val_loss: 0.4905 - val_acc: 0.8346\n",
            "Epoch 17/50\n",
            "60000/60000 [==============================] - 4s 59us/sample - loss: 0.4690 - acc: 0.8374 - val_loss: 0.4899 - val_acc: 0.8343\n",
            "Epoch 18/50\n",
            "60000/60000 [==============================] - 4s 60us/sample - loss: 0.4659 - acc: 0.8399 - val_loss: 0.4856 - val_acc: 0.8341\n",
            "Epoch 19/50\n",
            "60000/60000 [==============================] - 3s 58us/sample - loss: 0.4639 - acc: 0.8401 - val_loss: 0.4891 - val_acc: 0.8362\n",
            "Epoch 20/50\n",
            "60000/60000 [==============================] - 3s 58us/sample - loss: 0.4623 - acc: 0.8413 - val_loss: 0.4985 - val_acc: 0.8351\n",
            "Epoch 21/50\n",
            "60000/60000 [==============================] - 3s 57us/sample - loss: 0.4599 - acc: 0.8421 - val_loss: 0.4810 - val_acc: 0.8361\n",
            "Epoch 22/50\n",
            "60000/60000 [==============================] - 3s 58us/sample - loss: 0.4607 - acc: 0.8406 - val_loss: 0.4798 - val_acc: 0.8359\n",
            "Epoch 23/50\n",
            "60000/60000 [==============================] - 3s 58us/sample - loss: 0.4578 - acc: 0.8427 - val_loss: 0.4748 - val_acc: 0.8368\n",
            "Epoch 24/50\n",
            "60000/60000 [==============================] - 3s 57us/sample - loss: 0.4575 - acc: 0.8429 - val_loss: 0.4818 - val_acc: 0.8384\n",
            "Epoch 25/50\n",
            "60000/60000 [==============================] - 3s 57us/sample - loss: 0.4546 - acc: 0.8425 - val_loss: 0.4771 - val_acc: 0.8380\n",
            "Epoch 26/50\n",
            "60000/60000 [==============================] - 3s 56us/sample - loss: 0.4534 - acc: 0.8443 - val_loss: 0.4718 - val_acc: 0.8380\n",
            "Epoch 27/50\n",
            "60000/60000 [==============================] - 3s 56us/sample - loss: 0.4506 - acc: 0.8449 - val_loss: 0.4835 - val_acc: 0.8400\n",
            "Epoch 28/50\n",
            "60000/60000 [==============================] - 3s 56us/sample - loss: 0.4515 - acc: 0.8449 - val_loss: 0.4759 - val_acc: 0.8390\n",
            "Epoch 29/50\n",
            "60000/60000 [==============================] - 3s 56us/sample - loss: 0.4491 - acc: 0.8448 - val_loss: 0.4749 - val_acc: 0.8383\n",
            "Epoch 30/50\n",
            "60000/60000 [==============================] - 3s 56us/sample - loss: 0.4492 - acc: 0.8457 - val_loss: 0.4891 - val_acc: 0.8405\n",
            "Epoch 31/50\n",
            "60000/60000 [==============================] - 3s 55us/sample - loss: 0.4461 - acc: 0.8454 - val_loss: 0.4787 - val_acc: 0.8394\n",
            "Epoch 32/50\n",
            "60000/60000 [==============================] - 3s 56us/sample - loss: 0.4458 - acc: 0.8465 - val_loss: 0.4744 - val_acc: 0.8396\n",
            "Epoch 33/50\n",
            "60000/60000 [==============================] - 3s 56us/sample - loss: 0.4450 - acc: 0.8463 - val_loss: 0.4818 - val_acc: 0.8388\n",
            "Epoch 34/50\n",
            "60000/60000 [==============================] - 3s 57us/sample - loss: 0.4426 - acc: 0.8480 - val_loss: 0.4806 - val_acc: 0.8401\n",
            "Epoch 35/50\n",
            "60000/60000 [==============================] - 3s 56us/sample - loss: 0.4420 - acc: 0.8471 - val_loss: 0.4819 - val_acc: 0.8397\n",
            "Epoch 36/50\n",
            "60000/60000 [==============================] - 3s 58us/sample - loss: 0.4413 - acc: 0.8470 - val_loss: 0.4724 - val_acc: 0.8405\n",
            "Epoch 37/50\n",
            "60000/60000 [==============================] - 3s 58us/sample - loss: 0.4411 - acc: 0.8472 - val_loss: 0.4619 - val_acc: 0.8405\n",
            "Epoch 38/50\n",
            "60000/60000 [==============================] - 4s 59us/sample - loss: 0.4407 - acc: 0.8465 - val_loss: 0.4802 - val_acc: 0.8408\n",
            "Epoch 39/50\n",
            "60000/60000 [==============================] - 3s 57us/sample - loss: 0.4401 - acc: 0.8479 - val_loss: 0.4659 - val_acc: 0.8419\n",
            "Epoch 40/50\n",
            "60000/60000 [==============================] - 4s 59us/sample - loss: 0.4366 - acc: 0.8491 - val_loss: 0.4770 - val_acc: 0.8419\n",
            "Epoch 41/50\n",
            "60000/60000 [==============================] - 3s 58us/sample - loss: 0.4371 - acc: 0.8497 - val_loss: 0.4704 - val_acc: 0.8424\n",
            "Epoch 42/50\n",
            "60000/60000 [==============================] - 3s 57us/sample - loss: 0.4368 - acc: 0.8496 - val_loss: 0.4717 - val_acc: 0.8424\n",
            "Epoch 43/50\n",
            "60000/60000 [==============================] - 3s 57us/sample - loss: 0.4363 - acc: 0.8487 - val_loss: 0.4683 - val_acc: 0.8428\n",
            "Epoch 44/50\n",
            "60000/60000 [==============================] - 3s 57us/sample - loss: 0.4368 - acc: 0.8493 - val_loss: 0.4599 - val_acc: 0.8417\n",
            "Epoch 45/50\n",
            "60000/60000 [==============================] - 3s 56us/sample - loss: 0.4356 - acc: 0.8503 - val_loss: 0.4666 - val_acc: 0.8420\n",
            "Epoch 46/50\n",
            "60000/60000 [==============================] - 3s 57us/sample - loss: 0.4362 - acc: 0.8499 - val_loss: 0.4770 - val_acc: 0.8423\n",
            "Epoch 47/50\n",
            "60000/60000 [==============================] - 3s 56us/sample - loss: 0.4339 - acc: 0.8501 - val_loss: 0.4645 - val_acc: 0.8419\n",
            "Epoch 48/50\n",
            "60000/60000 [==============================] - 4s 59us/sample - loss: 0.4353 - acc: 0.8489 - val_loss: 0.4626 - val_acc: 0.8433\n",
            "Epoch 49/50\n",
            "60000/60000 [==============================] - 4s 59us/sample - loss: 0.4329 - acc: 0.8514 - val_loss: 0.4660 - val_acc: 0.8422\n",
            "Epoch 50/50\n",
            "60000/60000 [==============================] - 4s 59us/sample - loss: 0.4356 - acc: 0.8489 - val_loss: 0.4824 - val_acc: 0.8418\n"
          ],
          "name": "stdout"
        },
        {
          "output_type": "execute_result",
          "data": {
            "text/plain": [
              "<tensorflow.python.keras.callbacks.History at 0x7f71feb06650>"
            ]
          },
          "metadata": {
            "tags": []
          },
          "execution_count": 20
        }
      ]
    },
    {
      "cell_type": "markdown",
      "metadata": {
        "id": "j9CSqKvpOIVk",
        "colab_type": "text"
      },
      "source": [
        "### Build the Neural Network model with 3 Dense layers with 100,100,10 neurons respectively in each layer. Use cross entropy loss function and singmoid as activation in the hidden layers and softmax as activation function in the output layer. Use sgd optimizer with learning rate 0.03."
      ]
    },
    {
      "cell_type": "code",
      "metadata": {
        "id": "GGAad54JOIVm",
        "colab_type": "code",
        "colab": {}
      },
      "source": [
        "sgd = tf.keras.optimizers.SGD(learning_rate=0.03)\n",
        "model = tf.keras.models.Sequential()\n",
        "model.add(tf.keras.layers.Reshape((784,),input_shape=(28,28,)))\n",
        "model.add(tf.keras.layers.BatchNormalization())"
      ],
      "execution_count": 0,
      "outputs": []
    },
    {
      "cell_type": "code",
      "metadata": {
        "id": "MQ7oIymROIVp",
        "colab_type": "code",
        "colab": {}
      },
      "source": [
        "model.add(tf.keras.layers.Dense(100, activation='sigmoid'))\n",
        "model.add(tf.keras.layers.Dense(100, activation='sigmoid'))\n",
        "model.add(tf.keras.layers.Dense(10, activation='sigmoid'))"
      ],
      "execution_count": 0,
      "outputs": []
    },
    {
      "cell_type": "code",
      "metadata": {
        "id": "X-O-fFxnOIVt",
        "colab_type": "code",
        "colab": {}
      },
      "source": [
        "model.add(tf.keras.layers.Dense(10, activation='softmax'))"
      ],
      "execution_count": 0,
      "outputs": []
    },
    {
      "cell_type": "code",
      "metadata": {
        "id": "BiP7IL52OIVw",
        "colab_type": "code",
        "colab": {}
      },
      "source": [
        "model.compile(optimizer=sgd, loss='categorical_crossentropy', metrics=['accuracy'])"
      ],
      "execution_count": 0,
      "outputs": []
    },
    {
      "cell_type": "markdown",
      "metadata": {
        "id": "Nr2YsZV0OIV0",
        "colab_type": "text"
      },
      "source": [
        "## Review model"
      ]
    },
    {
      "cell_type": "code",
      "metadata": {
        "id": "h4ojW6-oOIV2",
        "colab_type": "code",
        "colab": {
          "base_uri": "https://localhost:8080/",
          "height": 353
        },
        "outputId": "264bd3e3-0448-4a93-ebf2-7438da0ea314"
      },
      "source": [
        "model.summary()"
      ],
      "execution_count": 25,
      "outputs": [
        {
          "output_type": "stream",
          "text": [
            "Model: \"sequential_3\"\n",
            "_________________________________________________________________\n",
            "Layer (type)                 Output Shape              Param #   \n",
            "=================================================================\n",
            "reshape_3 (Reshape)          (None, 784)               0         \n",
            "_________________________________________________________________\n",
            "batch_normalization_2 (Batch (None, 784)               3136      \n",
            "_________________________________________________________________\n",
            "dense_3 (Dense)              (None, 100)               78500     \n",
            "_________________________________________________________________\n",
            "dense_4 (Dense)              (None, 100)               10100     \n",
            "_________________________________________________________________\n",
            "dense_5 (Dense)              (None, 10)                1010      \n",
            "_________________________________________________________________\n",
            "dense_6 (Dense)              (None, 10)                110       \n",
            "=================================================================\n",
            "Total params: 92,856\n",
            "Trainable params: 91,288\n",
            "Non-trainable params: 1,568\n",
            "_________________________________________________________________\n"
          ],
          "name": "stdout"
        }
      ]
    },
    {
      "cell_type": "markdown",
      "metadata": {
        "id": "gfFGmbZLOIV5",
        "colab_type": "text"
      },
      "source": [
        "### Run the model"
      ]
    },
    {
      "cell_type": "code",
      "metadata": {
        "id": "bIkbMEN5OIV7",
        "colab_type": "code",
        "colab": {
          "base_uri": "https://localhost:8080/",
          "height": 1000
        },
        "outputId": "65955c78-600f-4a6e-bcf7-14718edb7abd"
      },
      "source": [
        "model.fit(trainX, trainY, \n",
        "          validation_data=(testX, testY), \n",
        "          epochs=50,\n",
        "          batch_size=30)"
      ],
      "execution_count": 26,
      "outputs": [
        {
          "output_type": "stream",
          "text": [
            "Train on 60000 samples, validate on 10000 samples\n",
            "Epoch 1/50\n",
            "60000/60000 [==============================] - 5s 90us/sample - loss: 1.8835 - acc: 0.3426 - val_loss: 1.4802 - val_acc: 0.5848\n",
            "Epoch 2/50\n",
            "60000/60000 [==============================] - 5s 89us/sample - loss: 1.1921 - acc: 0.6306 - val_loss: 0.9630 - val_acc: 0.7023\n",
            "Epoch 3/50\n",
            "60000/60000 [==============================] - 5s 89us/sample - loss: 0.8439 - acc: 0.7307 - val_loss: 0.7175 - val_acc: 0.7607\n",
            "Epoch 4/50\n",
            "60000/60000 [==============================] - 5s 90us/sample - loss: 0.6824 - acc: 0.7650 - val_loss: 0.6173 - val_acc: 0.7830\n",
            "Epoch 5/50\n",
            "60000/60000 [==============================] - 5s 89us/sample - loss: 0.6074 - acc: 0.7837 - val_loss: 0.5665 - val_acc: 0.7944\n",
            "Epoch 6/50\n",
            "60000/60000 [==============================] - 5s 90us/sample - loss: 0.5612 - acc: 0.7961 - val_loss: 0.5332 - val_acc: 0.8028\n",
            "Epoch 7/50\n",
            "60000/60000 [==============================] - 6s 95us/sample - loss: 0.5267 - acc: 0.8063 - val_loss: 0.5082 - val_acc: 0.8109\n",
            "Epoch 8/50\n",
            "60000/60000 [==============================] - 6s 94us/sample - loss: 0.4991 - acc: 0.8197 - val_loss: 0.4840 - val_acc: 0.8258\n",
            "Epoch 9/50\n",
            "60000/60000 [==============================] - 6s 104us/sample - loss: 0.4680 - acc: 0.8378 - val_loss: 0.4558 - val_acc: 0.8431\n",
            "Epoch 10/50\n",
            "60000/60000 [==============================] - 6s 105us/sample - loss: 0.4426 - acc: 0.8485 - val_loss: 0.4406 - val_acc: 0.8465\n",
            "Epoch 11/50\n",
            "60000/60000 [==============================] - 7s 110us/sample - loss: 0.4212 - acc: 0.8542 - val_loss: 0.4275 - val_acc: 0.8508\n",
            "Epoch 12/50\n",
            "60000/60000 [==============================] - 6s 106us/sample - loss: 0.4037 - acc: 0.8602 - val_loss: 0.4107 - val_acc: 0.8559\n",
            "Epoch 13/50\n",
            "60000/60000 [==============================] - 6s 102us/sample - loss: 0.3906 - acc: 0.8637 - val_loss: 0.4063 - val_acc: 0.8586\n",
            "Epoch 14/50\n",
            "60000/60000 [==============================] - 6s 100us/sample - loss: 0.3769 - acc: 0.8687 - val_loss: 0.4047 - val_acc: 0.8582\n",
            "Epoch 15/50\n",
            "60000/60000 [==============================] - 6s 100us/sample - loss: 0.3646 - acc: 0.8733 - val_loss: 0.3946 - val_acc: 0.8605\n",
            "Epoch 16/50\n",
            "60000/60000 [==============================] - 6s 103us/sample - loss: 0.3520 - acc: 0.8767 - val_loss: 0.3820 - val_acc: 0.8659\n",
            "Epoch 17/50\n",
            "60000/60000 [==============================] - 6s 105us/sample - loss: 0.3457 - acc: 0.8800 - val_loss: 0.3933 - val_acc: 0.8608\n",
            "Epoch 18/50\n",
            "60000/60000 [==============================] - 6s 100us/sample - loss: 0.3352 - acc: 0.8834 - val_loss: 0.3686 - val_acc: 0.8715\n",
            "Epoch 19/50\n",
            "60000/60000 [==============================] - 6s 99us/sample - loss: 0.3300 - acc: 0.8853 - val_loss: 0.3661 - val_acc: 0.8716\n",
            "Epoch 20/50\n",
            "60000/60000 [==============================] - 6s 103us/sample - loss: 0.3212 - acc: 0.8871 - val_loss: 0.3795 - val_acc: 0.8646\n",
            "Epoch 21/50\n",
            "60000/60000 [==============================] - 6s 101us/sample - loss: 0.3130 - acc: 0.8895 - val_loss: 0.3601 - val_acc: 0.8701\n",
            "Epoch 22/50\n",
            "60000/60000 [==============================] - 6s 97us/sample - loss: 0.3098 - acc: 0.8918 - val_loss: 0.3628 - val_acc: 0.8705\n",
            "Epoch 23/50\n",
            "60000/60000 [==============================] - 5s 88us/sample - loss: 0.3018 - acc: 0.8934 - val_loss: 0.3588 - val_acc: 0.8741\n",
            "Epoch 24/50\n",
            "60000/60000 [==============================] - 5s 88us/sample - loss: 0.2967 - acc: 0.8961 - val_loss: 0.3549 - val_acc: 0.8740\n",
            "Epoch 25/50\n",
            "60000/60000 [==============================] - 5s 88us/sample - loss: 0.2914 - acc: 0.8980 - val_loss: 0.3488 - val_acc: 0.8774\n",
            "Epoch 26/50\n",
            "60000/60000 [==============================] - 5s 88us/sample - loss: 0.2896 - acc: 0.8981 - val_loss: 0.3585 - val_acc: 0.8740\n",
            "Epoch 27/50\n",
            "60000/60000 [==============================] - 5s 88us/sample - loss: 0.2809 - acc: 0.9010 - val_loss: 0.3489 - val_acc: 0.8778\n",
            "Epoch 28/50\n",
            "60000/60000 [==============================] - 5s 90us/sample - loss: 0.2777 - acc: 0.9014 - val_loss: 0.3521 - val_acc: 0.8773\n",
            "Epoch 29/50\n",
            "60000/60000 [==============================] - 6s 94us/sample - loss: 0.2718 - acc: 0.9032 - val_loss: 0.3536 - val_acc: 0.8748\n",
            "Epoch 30/50\n",
            "60000/60000 [==============================] - 6s 101us/sample - loss: 0.2660 - acc: 0.9056 - val_loss: 0.3495 - val_acc: 0.8801\n",
            "Epoch 31/50\n",
            "60000/60000 [==============================] - 6s 100us/sample - loss: 0.2643 - acc: 0.9061 - val_loss: 0.3463 - val_acc: 0.8799\n",
            "Epoch 32/50\n",
            "60000/60000 [==============================] - 6s 102us/sample - loss: 0.2603 - acc: 0.9077 - val_loss: 0.3470 - val_acc: 0.8789\n",
            "Epoch 33/50\n",
            "60000/60000 [==============================] - 6s 95us/sample - loss: 0.2566 - acc: 0.9094 - val_loss: 0.3507 - val_acc: 0.8771\n",
            "Epoch 34/50\n",
            "60000/60000 [==============================] - 6s 98us/sample - loss: 0.2529 - acc: 0.9096 - val_loss: 0.3457 - val_acc: 0.8785\n",
            "Epoch 35/50\n",
            "60000/60000 [==============================] - 6s 93us/sample - loss: 0.2478 - acc: 0.9130 - val_loss: 0.3401 - val_acc: 0.8822\n",
            "Epoch 36/50\n",
            "60000/60000 [==============================] - 6s 95us/sample - loss: 0.2468 - acc: 0.9124 - val_loss: 0.3508 - val_acc: 0.8771\n",
            "Epoch 37/50\n",
            "60000/60000 [==============================] - 6s 99us/sample - loss: 0.2414 - acc: 0.9140 - val_loss: 0.3436 - val_acc: 0.8801\n",
            "Epoch 38/50\n",
            "60000/60000 [==============================] - 6s 102us/sample - loss: 0.2392 - acc: 0.9160 - val_loss: 0.3466 - val_acc: 0.8788\n",
            "Epoch 39/50\n",
            "60000/60000 [==============================] - 6s 107us/sample - loss: 0.2368 - acc: 0.9166 - val_loss: 0.3519 - val_acc: 0.8795\n",
            "Epoch 40/50\n",
            "60000/60000 [==============================] - 6s 103us/sample - loss: 0.2331 - acc: 0.9168 - val_loss: 0.3514 - val_acc: 0.8803\n",
            "Epoch 41/50\n",
            "60000/60000 [==============================] - 6s 107us/sample - loss: 0.2311 - acc: 0.9190 - val_loss: 0.3494 - val_acc: 0.8809\n",
            "Epoch 42/50\n",
            "60000/60000 [==============================] - 6s 107us/sample - loss: 0.2270 - acc: 0.9201 - val_loss: 0.3463 - val_acc: 0.8823\n",
            "Epoch 43/50\n",
            "60000/60000 [==============================] - 6s 105us/sample - loss: 0.2232 - acc: 0.9215 - val_loss: 0.3529 - val_acc: 0.8814\n",
            "Epoch 44/50\n",
            "60000/60000 [==============================] - 6s 106us/sample - loss: 0.2230 - acc: 0.9205 - val_loss: 0.3559 - val_acc: 0.8814\n",
            "Epoch 45/50\n",
            "60000/60000 [==============================] - 6s 102us/sample - loss: 0.2196 - acc: 0.9231 - val_loss: 0.3532 - val_acc: 0.8793\n",
            "Epoch 46/50\n",
            "60000/60000 [==============================] - 7s 109us/sample - loss: 0.2176 - acc: 0.9234 - val_loss: 0.3529 - val_acc: 0.8831\n",
            "Epoch 47/50\n",
            "60000/60000 [==============================] - 6s 94us/sample - loss: 0.2147 - acc: 0.9244 - val_loss: 0.3446 - val_acc: 0.8817\n",
            "Epoch 48/50\n",
            "60000/60000 [==============================] - 5s 89us/sample - loss: 0.2124 - acc: 0.9245 - val_loss: 0.3869 - val_acc: 0.8692\n",
            "Epoch 49/50\n",
            "60000/60000 [==============================] - 5s 90us/sample - loss: 0.2083 - acc: 0.9263 - val_loss: 0.3482 - val_acc: 0.8832\n",
            "Epoch 50/50\n",
            "60000/60000 [==============================] - 6s 102us/sample - loss: 0.2084 - acc: 0.9259 - val_loss: 0.3475 - val_acc: 0.8840\n"
          ],
          "name": "stdout"
        },
        {
          "output_type": "execute_result",
          "data": {
            "text/plain": [
              "<tensorflow.python.keras.callbacks.History at 0x7f71fe84bfd0>"
            ]
          },
          "metadata": {
            "tags": []
          },
          "execution_count": 26
        }
      ]
    },
    {
      "cell_type": "code",
      "metadata": {
        "id": "FwYQHzWno1ol",
        "colab_type": "code",
        "colab": {}
      },
      "source": [
        ""
      ],
      "execution_count": 0,
      "outputs": []
    }
  ]
}